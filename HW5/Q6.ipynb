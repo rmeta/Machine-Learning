{
  "nbformat": 4,
  "nbformat_minor": 0,
  "metadata": {
    "colab": {
      "name": "Q6.ipynb",
      "provenance": [],
      "collapsed_sections": []
    },
    "kernelspec": {
      "name": "python3",
      "display_name": "Python 3"
    },
    "language_info": {
      "name": "python"
    }
  },
  "cells": [
    {
      "cell_type": "code",
      "execution_count": 2,
      "metadata": {
        "id": "ZK-062H068ZE"
      },
      "outputs": [],
      "source": [
        "from sklearn import datasets\n",
        "from sklearn.model_selection import train_test_split\n",
        "import tensorflow as tf\n",
        "import numpy as np\n",
        "import matplotlib.pyplot as plt\n",
        "import pandas as pd\n",
        "from tensorflow.keras import callbacks\n",
        "from keras.datasets import imdb\n",
        "from keras import Sequential\n",
        "from keras.layers import Embedding, LSTM, Dense, Dropout, SimpleRNN, GRU\n",
        "from keras.preprocessing import sequence\n",
        "from tensorflow import keras\n",
        "from tensorflow.keras import layers\n"
      ]
    },
    {
      "cell_type": "code",
      "source": [
        "(X_train, y_train), (X_test, y_test) = imdb.load_data(num_words = 3000)\n",
        "word2id = imdb.get_word_index()\n",
        "id2word = {i: word for word, i in word2id.items()}\n",
        "\n",
        "max_words = 300\n",
        "max_features = 3000\n",
        "X_train = sequence.pad_sequences(X_train, maxlen=max_words)\n",
        "X_test = sequence.pad_sequences(X_test, maxlen=max_words)\n",
        "\n",
        "\n",
        "\n",
        "model = Sequential()\n",
        "model.add(Embedding(3000 , 32 , input_length = max_words))\n",
        "model.add(layers.Bidirectional(LSTM(100, return_sequences=True)))\n",
        "model.add(layers.Bidirectional(LSTM(100)))\n",
        "model.add(layers.Dense(1,activation = 'sigmoid'))\n",
        "model.compile(loss='categorical_crossentropy', optimizer='rmsprop')\n"
      ],
      "metadata": {
        "id": "f7HVj-_67KgF",
        "colab": {
          "base_uri": "https://localhost:8080/"
        },
        "outputId": "6a5e7ebe-b7e5-4741-a6c1-2356a93611fd"
      },
      "execution_count": 3,
      "outputs": [
        {
          "output_type": "stream",
          "name": "stdout",
          "text": [
            "Downloading data from https://storage.googleapis.com/tensorflow/tf-keras-datasets/imdb.npz\n",
            "17465344/17464789 [==============================] - 0s 0us/step\n",
            "17473536/17464789 [==============================] - 0s 0us/step\n",
            "Downloading data from https://storage.googleapis.com/tensorflow/tf-keras-datasets/imdb_word_index.json\n",
            "1646592/1641221 [==============================] - 0s 0us/step\n",
            "1654784/1641221 [==============================] - 0s 0us/step\n"
          ]
        }
      ]
    },
    {
      "cell_type": "code",
      "source": [
        "def scheduler(epoch, lr):\n",
        "    if epoch < 10:\n",
        "        return float(lr)\n",
        "    else:\n",
        "        return float(lr*tf.math.exp(-0.5))\n",
        "\n",
        "E = callbacks.EarlyStopping(patience = 27, monitor = 'val_loss')\n",
        "L = callbacks.LearningRateScheduler(scheduler)\n",
        "\n",
        "checkpoint_filepath = '/tmp/checkpoint'\n",
        "M = tf.keras.callbacks.ModelCheckpoint(\n",
        "    filepath=checkpoint_filepath,\n",
        "    save_weights_only=True,\n",
        "    monitor='val_accuracy',\n",
        "    mode='max',\n",
        "    save_best_only=True)"
      ],
      "metadata": {
        "id": "Sot5WwVb7O8r"
      },
      "execution_count": 4,
      "outputs": []
    },
    {
      "cell_type": "code",
      "source": [
        "model.compile(loss='binary_crossentropy', \n",
        "             optimizer='adam', \n",
        "             metrics=['accuracy'])\n",
        "\n",
        "\n",
        "X_valid, y_valid = X_train[:64], y_train[:64]\n",
        "X_train2, y_train2 = X_train[64:], y_train[64:]\n",
        "history = model.fit(X_train2, y_train2, validation_data=(X_valid, y_valid), batch_size=64, epochs=3, validation_split = 0.1 , callbacks = [E, L, M])"
      ],
      "metadata": {
        "colab": {
          "base_uri": "https://localhost:8080/"
        },
        "id": "K2kJr3tn7TFu",
        "outputId": "dd9bda7a-1bc1-4666-f4c9-fe6c0808fc45"
      },
      "execution_count": 5,
      "outputs": [
        {
          "output_type": "stream",
          "name": "stdout",
          "text": [
            "Epoch 1/3\n",
            "351/351 [==============================] - 633s 2s/step - loss: 0.4850 - accuracy: 0.7625 - val_loss: 0.4601 - val_accuracy: 0.7723 - lr: 0.0010\n",
            "Epoch 2/3\n",
            "351/351 [==============================] - 614s 2s/step - loss: 0.3392 - accuracy: 0.8595 - val_loss: 0.3538 - val_accuracy: 0.8504 - lr: 0.0010\n",
            "Epoch 3/3\n",
            "351/351 [==============================] - 606s 2s/step - loss: 0.2872 - accuracy: 0.8835 - val_loss: 0.3053 - val_accuracy: 0.8713 - lr: 0.0010\n"
          ]
        }
      ]
    },
    {
      "cell_type": "code",
      "source": [
        "model.evaluate(X_test, y_test)"
      ],
      "metadata": {
        "colab": {
          "base_uri": "https://localhost:8080/"
        },
        "id": "AsaawoyMQJrj",
        "outputId": "89d77c23-9297-4be8-de69-817085ef0d88"
      },
      "execution_count": 6,
      "outputs": [
        {
          "output_type": "stream",
          "name": "stdout",
          "text": [
            "782/782 [==============================] - 176s 225ms/step - loss: 0.3038 - accuracy: 0.8723\n"
          ]
        },
        {
          "output_type": "execute_result",
          "data": {
            "text/plain": [
              "[0.3038363754749298, 0.8722800016403198]"
            ]
          },
          "metadata": {},
          "execution_count": 6
        }
      ]
    },
    {
      "cell_type": "code",
      "source": [
        "train_loss = history.history['loss']\n",
        "\n",
        "val_loss = history.history['val_loss']\n",
        "\n",
        "plt.figure\n",
        "plt.plot(train_loss , label = 'train_loss')\n",
        "plt.plot(val_loss , label = 'val_loss')\n",
        "plt.legend()"
      ],
      "metadata": {
        "colab": {
          "base_uri": "https://localhost:8080/",
          "height": 284
        },
        "id": "fw5ht0lWQMuS",
        "outputId": "ffe5537a-724b-48b0-ce64-a8016aeee934"
      },
      "execution_count": 7,
      "outputs": [
        {
          "output_type": "execute_result",
          "data": {
            "text/plain": [
              "<matplotlib.legend.Legend at 0x7f2bc4edf410>"
            ]
          },
          "metadata": {},
          "execution_count": 7
        },
        {
          "output_type": "display_data",
          "data": {
            "text/plain": [
              "<Figure size 432x288 with 1 Axes>"
            ],
            "image/png": "[encoded data removed]"
          },
          "metadata": {
            "needs_background": "light"
          }
        }
      ]
    },
    {
      "cell_type": "code",
      "source": [
        ""
      ],
      "metadata": {
        "id": "Pirq4RQBQM6h"
      },
      "execution_count": null,
      "outputs": []
    }
  ]
}