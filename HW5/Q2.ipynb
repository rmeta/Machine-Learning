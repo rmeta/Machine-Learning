{
 "cells": [
  {
   "cell_type": "code",
   "execution_count": 1,
   "metadata": {
    "id": "NoFy-vVhyBcj"
   },
   "outputs": [],
   "source": [
    "from sklearn import datasets\n",
    "from sklearn.model_selection import train_test_split\n",
    "import tensorflow as tf\n",
    "import numpy as np\n",
    "import matplotlib.pyplot as plt\n",
    "import pandas as pd\n",
    "from tensorflow.keras import callbacks"
   ]
  },
  {
   "cell_type": "code",
   "execution_count": 2,
   "metadata": {
    "id": "tFaMT307yST5"
   },
   "outputs": [],
   "source": [
    "data = datasets.load_breast_cancer()\n",
    "x = data.data\n",
    "y = data.target\n",
    "x_train ,x_test , y_train , y_test = train_test_split(x , y , test_size = 0.2)"
   ]
  },
  {
   "cell_type": "code",
   "execution_count": 3,
   "metadata": {
    "id": "YQ5M7UQHymof"
   },
   "outputs": [],
   "source": [
    "model_1 = tf.keras.Sequential()\n",
    "model_1.add(tf.keras.layers.Dense(9, activation='relu', input_shape=(x_train.shape[1],)))\n",
    "model_1.add(tf.keras.layers.Dense(27, activation='sigmoid'))\n",
    "model_1.add(tf.keras.layers.Dropout(0.25))\n",
    "model_1.add(tf.keras.layers.Dense(54, activation='sigmoid'))\n",
    "model_1.add(tf.keras.layers.Dropout(0.25))\n",
    "model_1.add(tf.keras.layers.Dense(27, activation='sigmoid'))\n",
    "model_1.add(tf.keras.layers.Dropout(0.25))\n",
    "model_1.add(tf.keras.layers.Dense(1, activation='sigmoid'))\n",
    "\n",
    "model_1.compile(optimizer='adamax',\n",
    "            loss='mean_squared_logarithmic_error',\n",
    "            metrics=['accuracy'])\n"
   ]
  },
  {
   "cell_type": "code",
   "execution_count": 4,
   "metadata": {
    "id": "rcYd6GWNp1n4"
   },
   "outputs": [],
   "source": [
    "def scheduler(epoch, lr):\n",
    "    if epoch < 10:\n",
    "        return float(lr)\n",
    "    else:\n",
    "        return float(lr*tf.math.exp(-0.5))"
   ]
  },
  {
   "cell_type": "code",
   "execution_count": 5,
   "metadata": {
    "id": "Rs86MiNKp6Di"
   },
   "outputs": [],
   "source": [
    "E = callbacks.EarlyStopping(patience = 20, monitor = 'val_loss')"
   ]
  },
  {
   "cell_type": "code",
   "execution_count": 6,
   "metadata": {
    "id": "IF1TM73ip9s8"
   },
   "outputs": [],
   "source": [
    "L = callbacks.LearningRateScheduler(scheduler)"
   ]
  },
  {
   "cell_type": "code",
   "execution_count": 7,
   "metadata": {
    "colab": {
     "base_uri": "https://localhost:8080/"
    },
    "id": "VKRU6imbqCN-",
    "outputId": "3ed36856-d53f-4f27-bc8c-d7d79389177c"
   },
   "outputs": [
    {
     "name": "stdout",
     "output_type": "stream",
     "text": [
      "Epoch 1/30\n",
      "409/409 [==============================] - 3s 3ms/step - loss: 0.1163 - accuracy: 0.5697 - val_loss: 0.1214 - val_accuracy: 0.5435 - lr: 0.0010\n",
      "Epoch 2/30\n",
      "409/409 [==============================] - 1s 2ms/step - loss: 0.1206 - accuracy: 0.5208 - val_loss: 0.1245 - val_accuracy: 0.5435 - lr: 0.0010\n",
      "Epoch 3/30\n",
      "409/409 [==============================] - 1s 2ms/step - loss: 0.1104 - accuracy: 0.6259 - val_loss: 0.1207 - val_accuracy: 0.5435 - lr: 0.0010\n",
      "Epoch 4/30\n",
      "409/409 [==============================] - 1s 2ms/step - loss: 0.1137 - accuracy: 0.5623 - val_loss: 0.1187 - val_accuracy: 0.5435 - lr: 0.0010\n",
      "Epoch 5/30\n",
      "409/409 [==============================] - 1s 2ms/step - loss: 0.1066 - accuracy: 0.6553 - val_loss: 0.1133 - val_accuracy: 0.5435 - lr: 0.0010\n",
      "Epoch 6/30\n",
      "409/409 [==============================] - 1s 3ms/step - loss: 0.1011 - accuracy: 0.6601 - val_loss: 0.1007 - val_accuracy: 0.8696 - lr: 0.0010\n",
      "Epoch 7/30\n",
      "409/409 [==============================] - 1s 3ms/step - loss: 0.0951 - accuracy: 0.7139 - val_loss: 0.0916 - val_accuracy: 0.9130 - lr: 0.0010\n",
      "Epoch 8/30\n",
      "409/409 [==============================] - 1s 3ms/step - loss: 0.0894 - accuracy: 0.7506 - val_loss: 0.0896 - val_accuracy: 0.8478 - lr: 0.0010\n",
      "Epoch 9/30\n",
      "409/409 [==============================] - 1s 3ms/step - loss: 0.0774 - accuracy: 0.7922 - val_loss: 0.0817 - val_accuracy: 0.8478 - lr: 0.0010\n",
      "Epoch 10/30\n",
      "409/409 [==============================] - 1s 2ms/step - loss: 0.0765 - accuracy: 0.7922 - val_loss: 0.0683 - val_accuracy: 0.8913 - lr: 0.0010\n",
      "Epoch 11/30\n",
      "409/409 [==============================] - 1s 3ms/step - loss: 0.0735 - accuracy: 0.8020 - val_loss: 0.0682 - val_accuracy: 0.8478 - lr: 6.0653e-04\n",
      "Epoch 12/30\n",
      "409/409 [==============================] - 1s 2ms/step - loss: 0.0692 - accuracy: 0.7946 - val_loss: 0.0631 - val_accuracy: 0.8696 - lr: 3.6788e-04\n",
      "Epoch 13/30\n",
      "409/409 [==============================] - 1s 2ms/step - loss: 0.0645 - accuracy: 0.8313 - val_loss: 0.0619 - val_accuracy: 0.8696 - lr: 2.2313e-04\n",
      "Epoch 14/30\n",
      "409/409 [==============================] - 1s 2ms/step - loss: 0.0680 - accuracy: 0.8313 - val_loss: 0.0606 - val_accuracy: 0.8913 - lr: 1.3534e-04\n",
      "Epoch 15/30\n",
      "409/409 [==============================] - 1s 2ms/step - loss: 0.0663 - accuracy: 0.8166 - val_loss: 0.0592 - val_accuracy: 0.8696 - lr: 8.2085e-05\n",
      "Epoch 16/30\n",
      "409/409 [==============================] - 1s 3ms/step - loss: 0.0642 - accuracy: 0.8386 - val_loss: 0.0631 - val_accuracy: 0.8478 - lr: 4.9787e-05\n",
      "Epoch 17/30\n",
      "409/409 [==============================] - 1s 3ms/step - loss: 0.0621 - accuracy: 0.8435 - val_loss: 0.0629 - val_accuracy: 0.8478 - lr: 3.0197e-05\n",
      "Epoch 18/30\n",
      "409/409 [==============================] - 1s 3ms/step - loss: 0.0650 - accuracy: 0.8215 - val_loss: 0.0620 - val_accuracy: 0.8478 - lr: 1.8316e-05\n",
      "Epoch 19/30\n",
      "409/409 [==============================] - 1s 2ms/step - loss: 0.0643 - accuracy: 0.8215 - val_loss: 0.0622 - val_accuracy: 0.8478 - lr: 1.1109e-05\n",
      "Epoch 20/30\n",
      "409/409 [==============================] - 1s 2ms/step - loss: 0.0590 - accuracy: 0.8655 - val_loss: 0.0619 - val_accuracy: 0.8478 - lr: 6.7379e-06\n",
      "Epoch 21/30\n",
      "409/409 [==============================] - 1s 3ms/step - loss: 0.0622 - accuracy: 0.8386 - val_loss: 0.0618 - val_accuracy: 0.8478 - lr: 4.0868e-06\n",
      "Epoch 22/30\n",
      "409/409 [==============================] - 1s 3ms/step - loss: 0.0636 - accuracy: 0.8386 - val_loss: 0.0618 - val_accuracy: 0.8478 - lr: 2.4788e-06\n",
      "Epoch 23/30\n",
      "409/409 [==============================] - 1s 3ms/step - loss: 0.0689 - accuracy: 0.8093 - val_loss: 0.0618 - val_accuracy: 0.8478 - lr: 1.5034e-06\n",
      "Epoch 24/30\n",
      "409/409 [==============================] - 1s 3ms/step - loss: 0.0635 - accuracy: 0.8411 - val_loss: 0.0618 - val_accuracy: 0.8478 - lr: 9.1188e-07\n",
      "Epoch 25/30\n",
      "409/409 [==============================] - 1s 2ms/step - loss: 0.0601 - accuracy: 0.8557 - val_loss: 0.0617 - val_accuracy: 0.8478 - lr: 5.5308e-07\n",
      "Epoch 26/30\n",
      "409/409 [==============================] - 1s 3ms/step - loss: 0.0653 - accuracy: 0.8362 - val_loss: 0.0617 - val_accuracy: 0.8478 - lr: 3.3546e-07\n",
      "Epoch 27/30\n",
      "409/409 [==============================] - 1s 3ms/step - loss: 0.0675 - accuracy: 0.8166 - val_loss: 0.0617 - val_accuracy: 0.8478 - lr: 2.0347e-07\n",
      "Epoch 28/30\n",
      "409/409 [==============================] - 1s 3ms/step - loss: 0.0602 - accuracy: 0.8557 - val_loss: 0.0617 - val_accuracy: 0.8478 - lr: 1.2341e-07\n",
      "Epoch 29/30\n",
      "409/409 [==============================] - 1s 2ms/step - loss: 0.0641 - accuracy: 0.8386 - val_loss: 0.0617 - val_accuracy: 0.8478 - lr: 7.4852e-08\n",
      "Epoch 30/30\n",
      "409/409 [==============================] - 1s 2ms/step - loss: 0.0652 - accuracy: 0.8215 - val_loss: 0.0617 - val_accuracy: 0.8478 - lr: 4.5400e-08\n"
     ]
    }
   ],
   "source": [
    "history = model_1.fit(x_train, y_train , epochs=30 ,validation_split = 0.1 ,verbose = 1, batch_size = 1, callbacks = [E, L])"
   ]
  },
  {
   "cell_type": "code",
   "execution_count": 8,
   "metadata": {
    "colab": {
     "base_uri": "https://localhost:8080/",
     "height": 530
    },
    "id": "E9W8NOR55jcX",
    "outputId": "a2dc6094-772a-4c91-e649-5b74df2c913a"
   },
   "outputs": [
    {
     "name": "stdout",
     "output_type": "stream",
     "text": [
      "4/4 [==============================] - 0s 3ms/step - loss: 0.0472 - accuracy: 0.9211\n"
     ]
    },
    {
     "data": {
      "text/plain": [
       "<matplotlib.legend.Legend at 0x1c34f0250a0>"
      ]
     },
     "execution_count": 8,
     "metadata": {},
     "output_type": "execute_result"
    },
    {
     "data": {
      "image/png": "[encoded data removed]",
      "text/plain": [
       "<Figure size 432x288 with 1 Axes>"
      ]
     },
     "metadata": {
      "needs_background": "light"
     },
     "output_type": "display_data"
    }
   ],
   "source": [
    "model_1.evaluate(x_test , y_test)\n",
    "\n",
    "accuracy = history.history['accuracy']\n",
    "train_loss = history.history['loss']\n",
    "\n",
    "val_loss = history.history['val_loss']\n",
    "val_accuracy = history.history['val_accuracy']\n",
    "\n",
    "\n",
    "plt.figure()\n",
    "plt.plot(train_loss , label = 'train_loss')\n",
    "plt.plot(val_loss , label = 'val_loss')\n",
    "plt.legend()"
   ]
  },
  {
   "cell_type": "markdown",
   "metadata": {
    "id": "Q4OZZm9B7I4b"
   },
   "source": [
    "# second"
   ]
  },
  {
   "cell_type": "code",
   "execution_count": 9,
   "metadata": {},
   "outputs": [
    {
     "name": "stdout",
     "output_type": "stream",
     "text": [
      "Epoch 1/30\n",
      "409/409 [==============================] - 4s 3ms/step - loss: 0.1130 - accuracy: 0.5941 - val_loss: 0.1153 - val_accuracy: 0.5435 - lr: 0.0010\n",
      "Epoch 2/30\n",
      "409/409 [==============================] - 1s 3ms/step - loss: 0.0907 - accuracy: 0.7286 - val_loss: 0.0941 - val_accuracy: 0.7609 - lr: 0.0010\n",
      "Epoch 3/30\n",
      "409/409 [==============================] - 1s 3ms/step - loss: 0.0685 - accuracy: 0.8191 - val_loss: 0.0575 - val_accuracy: 0.9130 - lr: 0.0010\n",
      "Epoch 4/30\n",
      "409/409 [==============================] - 1s 3ms/step - loss: 0.0524 - accuracy: 0.8606 - val_loss: 0.0384 - val_accuracy: 0.8913 - lr: 0.0010\n",
      "Epoch 5/30\n",
      "409/409 [==============================] - 1s 3ms/step - loss: 0.0573 - accuracy: 0.8313 - val_loss: 0.0697 - val_accuracy: 0.8913 - lr: 0.0010\n",
      "Epoch 6/30\n",
      "409/409 [==============================] - 1s 3ms/step - loss: 0.0621 - accuracy: 0.8215 - val_loss: 0.0338 - val_accuracy: 0.9348 - lr: 0.0010\n",
      "Epoch 7/30\n",
      "409/409 [==============================] - 1s 3ms/step - loss: 0.0504 - accuracy: 0.8680 - val_loss: 0.0431 - val_accuracy: 0.9130 - lr: 0.0010\n",
      "Epoch 8/30\n",
      "409/409 [==============================] - 1s 3ms/step - loss: 0.0516 - accuracy: 0.8582 - val_loss: 0.0454 - val_accuracy: 0.8913 - lr: 0.0010\n",
      "Epoch 9/30\n",
      "409/409 [==============================] - 1s 3ms/step - loss: 0.0505 - accuracy: 0.8655 - val_loss: 0.0358 - val_accuracy: 0.9130 - lr: 0.0010\n",
      "Epoch 10/30\n",
      "409/409 [==============================] - 1s 3ms/step - loss: 0.0472 - accuracy: 0.8704 - val_loss: 0.0504 - val_accuracy: 0.8696 - lr: 0.0010\n",
      "Epoch 11/30\n",
      "409/409 [==============================] - 1s 3ms/step - loss: 0.0458 - accuracy: 0.8826 - val_loss: 0.0631 - val_accuracy: 0.8478 - lr: 6.0653e-04\n",
      "Epoch 12/30\n",
      "409/409 [==============================] - 1s 3ms/step - loss: 0.0413 - accuracy: 0.8998 - val_loss: 0.0394 - val_accuracy: 0.8913 - lr: 3.6788e-04\n",
      "Epoch 13/30\n",
      "409/409 [==============================] - 1s 3ms/step - loss: 0.0374 - accuracy: 0.9095 - val_loss: 0.0337 - val_accuracy: 0.9130 - lr: 2.2313e-04\n",
      "Epoch 14/30\n",
      "409/409 [==============================] - 1s 3ms/step - loss: 0.0388 - accuracy: 0.9095 - val_loss: 0.0431 - val_accuracy: 0.8913 - lr: 1.3534e-04\n",
      "Epoch 15/30\n",
      "409/409 [==============================] - 1s 3ms/step - loss: 0.0363 - accuracy: 0.9046 - val_loss: 0.0446 - val_accuracy: 0.8696 - lr: 8.2085e-05\n",
      "Epoch 16/30\n",
      "409/409 [==============================] - 1s 3ms/step - loss: 0.0347 - accuracy: 0.9169 - val_loss: 0.0430 - val_accuracy: 0.8913 - lr: 4.9787e-05\n",
      "Epoch 17/30\n",
      "409/409 [==============================] - 1s 3ms/step - loss: 0.0365 - accuracy: 0.9071 - val_loss: 0.0427 - val_accuracy: 0.8913 - lr: 3.0197e-05\n",
      "Epoch 18/30\n",
      "409/409 [==============================] - 1s 3ms/step - loss: 0.0354 - accuracy: 0.9095 - val_loss: 0.0406 - val_accuracy: 0.8913 - lr: 1.8316e-05\n",
      "Epoch 19/30\n",
      "409/409 [==============================] - 1s 3ms/step - loss: 0.0362 - accuracy: 0.9046 - val_loss: 0.0407 - val_accuracy: 0.8913 - lr: 1.1109e-05\n",
      "Epoch 20/30\n",
      "409/409 [==============================] - 1s 3ms/step - loss: 0.0369 - accuracy: 0.9071 - val_loss: 0.0408 - val_accuracy: 0.8913 - lr: 6.7379e-06\n",
      "Epoch 21/30\n",
      "409/409 [==============================] - 1s 3ms/step - loss: 0.0341 - accuracy: 0.9193 - val_loss: 0.0407 - val_accuracy: 0.8913 - lr: 4.0868e-06\n",
      "Epoch 22/30\n",
      "409/409 [==============================] - 1s 3ms/step - loss: 0.0319 - accuracy: 0.9218 - val_loss: 0.0403 - val_accuracy: 0.8913 - lr: 2.4788e-06\n",
      "Epoch 23/30\n",
      "409/409 [==============================] - 1s 3ms/step - loss: 0.0332 - accuracy: 0.9144 - val_loss: 0.0401 - val_accuracy: 0.8913 - lr: 1.5034e-06\n",
      "Epoch 24/30\n",
      "409/409 [==============================] - 1s 3ms/step - loss: 0.0337 - accuracy: 0.9071 - val_loss: 0.0401 - val_accuracy: 0.8913 - lr: 9.1188e-07\n",
      "Epoch 25/30\n",
      "409/409 [==============================] - 1s 3ms/step - loss: 0.0368 - accuracy: 0.9022 - val_loss: 0.0402 - val_accuracy: 0.8913 - lr: 5.5308e-07\n",
      "Epoch 26/30\n",
      "409/409 [==============================] - 1s 3ms/step - loss: 0.0346 - accuracy: 0.9144 - val_loss: 0.0402 - val_accuracy: 0.8913 - lr: 3.3546e-07\n",
      "Epoch 27/30\n",
      "409/409 [==============================] - 1s 2ms/step - loss: 0.0364 - accuracy: 0.9071 - val_loss: 0.0401 - val_accuracy: 0.8913 - lr: 2.0347e-07\n",
      "Epoch 28/30\n",
      "409/409 [==============================] - 1s 2ms/step - loss: 0.0346 - accuracy: 0.9169 - val_loss: 0.0402 - val_accuracy: 0.8913 - lr: 1.2341e-07\n",
      "Epoch 29/30\n",
      "409/409 [==============================] - 1s 3ms/step - loss: 0.0342 - accuracy: 0.9144 - val_loss: 0.0401 - val_accuracy: 0.8913 - lr: 7.4852e-08\n",
      "Epoch 30/30\n",
      "409/409 [==============================] - 1s 3ms/step - loss: 0.0363 - accuracy: 0.9071 - val_loss: 0.0401 - val_accuracy: 0.8913 - lr: 4.5400e-08\n",
      "4/4 [==============================] - 0s 3ms/step - loss: 0.0315 - accuracy: 0.9211\n"
     ]
    },
    {
     "data": {
      "text/plain": [
       "<matplotlib.legend.Legend at 0x1c351d6da30>"
      ]
     },
     "execution_count": 9,
     "metadata": {},
     "output_type": "execute_result"
    },
    {
     "data": {
      "image/png": "[encoded data removed]",
      "text/plain": [
       "<Figure size 432x288 with 1 Axes>"
      ]
     },
     "metadata": {
      "needs_background": "light"
     },
     "output_type": "display_data"
    }
   ],
   "source": [
    "model_2 = tf.keras.Sequential()\n",
    "model_2.add(tf.keras.layers.Dense(9, activation='relu', input_shape=(x_train.shape[1],)))\n",
    "model_2.add(tf.keras.layers.Dense(27, activation='sigmoid'))\n",
    "model_2.add(tf.keras.layers.Dropout(0.25))\n",
    "model_2.add(tf.keras.layers.Dense(54, activation='sigmoid'))\n",
    "model_2.add(tf.keras.layers.Dropout(0.25))\n",
    "model_2.add(tf.keras.layers.Dense(27, activation='sigmoid'))\n",
    "model_2.add(tf.keras.layers.Dropout(0.25))\n",
    "model_2.add(tf.keras.layers.Dense(1, activation='sigmoid'))\n",
    "\n",
    "model_2.compile(optimizer='Nadam',\n",
    "            loss='mean_squared_logarithmic_error',\n",
    "            metrics=['accuracy'])\n",
    "\n",
    "history = model_2.fit(x_train, y_train , epochs=30 ,validation_split = 0.1 ,verbose = 1, batch_size = 1, callbacks = [E, L])\n",
    "\n",
    "model_2.evaluate(x_test , y_test)\n",
    "\n",
    "accuracy = history.history['accuracy']\n",
    "train_loss = history.history['loss']\n",
    "\n",
    "val_loss = history.history['val_loss']\n",
    "val_accuracy = history.history['val_accuracy']\n",
    "\n",
    "\n",
    "plt.figure()\n",
    "plt.plot(train_loss , label = 'train_loss')\n",
    "plt.plot(val_loss , label = 'val_loss')\n",
    "plt.legend()"
   ]
  },
  {
   "cell_type": "markdown",
   "metadata": {},
   "source": [
    "# third"
   ]
  },
  {
   "cell_type": "code",
   "execution_count": 10,
   "metadata": {},
   "outputs": [
    {
     "name": "stdout",
     "output_type": "stream",
     "text": [
      "Epoch 1/30\n",
      "41/41 [==============================] - 3s 12ms/step - loss: 0.1152 - accuracy: 0.5428 - val_loss: 0.1221 - val_accuracy: 0.5435 - lr: 0.0010\n",
      "Epoch 2/30\n",
      "41/41 [==============================] - 0s 4ms/step - loss: 0.1145 - accuracy: 0.5892 - val_loss: 0.1176 - val_accuracy: 0.5435 - lr: 0.0010\n",
      "Epoch 3/30\n",
      "41/41 [==============================] - 0s 4ms/step - loss: 0.1110 - accuracy: 0.5941 - val_loss: 0.1173 - val_accuracy: 0.5435 - lr: 0.0010\n",
      "Epoch 4/30\n",
      "41/41 [==============================] - 0s 2ms/step - loss: 0.1066 - accuracy: 0.6210 - val_loss: 0.1104 - val_accuracy: 0.6957 - lr: 0.0010\n",
      "Epoch 5/30\n",
      "41/41 [==============================] - 0s 4ms/step - loss: 0.0978 - accuracy: 0.7213 - val_loss: 0.1020 - val_accuracy: 0.8043 - lr: 0.0010\n",
      "Epoch 6/30\n",
      "41/41 [==============================] - 0s 4ms/step - loss: 0.0917 - accuracy: 0.7237 - val_loss: 0.0986 - val_accuracy: 0.7609 - lr: 0.0010\n",
      "Epoch 7/30\n",
      "41/41 [==============================] - 0s 4ms/step - loss: 0.0860 - accuracy: 0.7726 - val_loss: 0.0769 - val_accuracy: 0.8261 - lr: 0.0010\n",
      "Epoch 8/30\n",
      "41/41 [==============================] - 0s 4ms/step - loss: 0.0741 - accuracy: 0.8264 - val_loss: 0.0766 - val_accuracy: 0.7391 - lr: 0.0010\n",
      "Epoch 9/30\n",
      "41/41 [==============================] - 0s 4ms/step - loss: 0.0655 - accuracy: 0.8460 - val_loss: 0.0586 - val_accuracy: 0.8261 - lr: 0.0010\n",
      "Epoch 10/30\n",
      "41/41 [==============================] - 0s 4ms/step - loss: 0.0559 - accuracy: 0.8606 - val_loss: 0.0518 - val_accuracy: 0.8696 - lr: 0.0010\n",
      "Epoch 11/30\n",
      "41/41 [==============================] - 0s 4ms/step - loss: 0.0566 - accuracy: 0.8533 - val_loss: 0.0562 - val_accuracy: 0.8478 - lr: 6.0653e-04\n",
      "Epoch 12/30\n",
      "41/41 [==============================] - 0s 4ms/step - loss: 0.0488 - accuracy: 0.8875 - val_loss: 0.0569 - val_accuracy: 0.8913 - lr: 3.6788e-04\n",
      "Epoch 13/30\n",
      "41/41 [==============================] - 0s 4ms/step - loss: 0.0452 - accuracy: 0.9046 - val_loss: 0.0530 - val_accuracy: 0.8913 - lr: 2.2313e-04\n",
      "Epoch 14/30\n",
      "41/41 [==============================] - 0s 4ms/step - loss: 0.0462 - accuracy: 0.8973 - val_loss: 0.0497 - val_accuracy: 0.8913 - lr: 1.3534e-04\n",
      "Epoch 15/30\n",
      "41/41 [==============================] - 0s 4ms/step - loss: 0.0419 - accuracy: 0.8998 - val_loss: 0.0502 - val_accuracy: 0.8913 - lr: 8.2085e-05\n",
      "Epoch 16/30\n",
      "41/41 [==============================] - 0s 4ms/step - loss: 0.0475 - accuracy: 0.8851 - val_loss: 0.0487 - val_accuracy: 0.8913 - lr: 4.9787e-05\n",
      "Epoch 17/30\n",
      "41/41 [==============================] - 0s 4ms/step - loss: 0.0443 - accuracy: 0.9022 - val_loss: 0.0486 - val_accuracy: 0.8913 - lr: 3.0197e-05\n",
      "Epoch 18/30\n",
      "41/41 [==============================] - 0s 4ms/step - loss: 0.0464 - accuracy: 0.8900 - val_loss: 0.0488 - val_accuracy: 0.8913 - lr: 1.8316e-05\n",
      "Epoch 19/30\n",
      "41/41 [==============================] - 0s 4ms/step - loss: 0.0456 - accuracy: 0.8973 - val_loss: 0.0486 - val_accuracy: 0.8913 - lr: 1.1109e-05\n",
      "Epoch 20/30\n",
      "41/41 [==============================] - 0s 4ms/step - loss: 0.0449 - accuracy: 0.8998 - val_loss: 0.0486 - val_accuracy: 0.8913 - lr: 6.7379e-06\n",
      "Epoch 21/30\n",
      "41/41 [==============================] - 0s 4ms/step - loss: 0.0467 - accuracy: 0.8973 - val_loss: 0.0486 - val_accuracy: 0.8913 - lr: 4.0868e-06\n",
      "Epoch 22/30\n",
      "41/41 [==============================] - 0s 4ms/step - loss: 0.0475 - accuracy: 0.8851 - val_loss: 0.0486 - val_accuracy: 0.8913 - lr: 2.4788e-06\n",
      "Epoch 23/30\n",
      "41/41 [==============================] - 0s 4ms/step - loss: 0.0431 - accuracy: 0.8998 - val_loss: 0.0486 - val_accuracy: 0.8913 - lr: 1.5034e-06\n",
      "Epoch 24/30\n",
      "41/41 [==============================] - 0s 4ms/step - loss: 0.0438 - accuracy: 0.8998 - val_loss: 0.0486 - val_accuracy: 0.8913 - lr: 9.1188e-07\n",
      "Epoch 25/30\n",
      "41/41 [==============================] - 0s 3ms/step - loss: 0.0452 - accuracy: 0.9046 - val_loss: 0.0486 - val_accuracy: 0.8913 - lr: 5.5308e-07\n",
      "Epoch 26/30\n",
      "41/41 [==============================] - 0s 4ms/step - loss: 0.0436 - accuracy: 0.9022 - val_loss: 0.0486 - val_accuracy: 0.8913 - lr: 3.3546e-07\n",
      "Epoch 27/30\n",
      "41/41 [==============================] - 0s 4ms/step - loss: 0.0442 - accuracy: 0.9046 - val_loss: 0.0486 - val_accuracy: 0.8913 - lr: 2.0347e-07\n",
      "Epoch 28/30\n",
      "41/41 [==============================] - 0s 3ms/step - loss: 0.0472 - accuracy: 0.8900 - val_loss: 0.0486 - val_accuracy: 0.8913 - lr: 1.2341e-07\n",
      "Epoch 29/30\n",
      "41/41 [==============================] - 0s 4ms/step - loss: 0.0447 - accuracy: 0.8973 - val_loss: 0.0486 - val_accuracy: 0.8913 - lr: 7.4852e-08\n",
      "Epoch 30/30\n",
      "41/41 [==============================] - 0s 4ms/step - loss: 0.0458 - accuracy: 0.8924 - val_loss: 0.0486 - val_accuracy: 0.8913 - lr: 4.5400e-08\n",
      "4/4 [==============================] - 0s 3ms/step - loss: 0.0377 - accuracy: 0.9123\n"
     ]
    },
    {
     "data": {
      "text/plain": [
       "<matplotlib.legend.Legend at 0x1c353378910>"
      ]
     },
     "execution_count": 10,
     "metadata": {},
     "output_type": "execute_result"
    },
    {
     "data": {
      "image/png": "[encoded data removed]",
      "text/plain": [
       "<Figure size 432x288 with 1 Axes>"
      ]
     },
     "metadata": {
      "needs_background": "light"
     },
     "output_type": "display_data"
    }
   ],
   "source": [
    "model_3 = tf.keras.Sequential()\n",
    "model_3.add(tf.keras.layers.Dense(9, activation='relu', input_shape=(x_train.shape[1],)))\n",
    "model_3.add(tf.keras.layers.Dense(27, activation='sigmoid'))\n",
    "model_3.add(tf.keras.layers.Dropout(0.25))\n",
    "model_3.add(tf.keras.layers.Dense(54, activation='sigmoid'))\n",
    "model_3.add(tf.keras.layers.Dropout(0.25))\n",
    "model_3.add(tf.keras.layers.Dense(27, activation='sigmoid'))\n",
    "model_3.add(tf.keras.layers.Dropout(0.25))\n",
    "model_3.add(tf.keras.layers.Dense(1, activation='sigmoid'))\n",
    "\n",
    "model_3.compile(optimizer='Nadam',\n",
    "            loss='mean_squared_logarithmic_error',\n",
    "            metrics=['accuracy'])\n",
    "\n",
    "history = model_3.fit(x_train, y_train , epochs=30 ,validation_split = 0.1 ,verbose = 1, batch_size = 10, callbacks = [E, L])\n",
    "\n",
    "model_3.evaluate(x_test , y_test)\n",
    "\n",
    "accuracy = history.history['accuracy']\n",
    "train_loss = history.history['loss']\n",
    "\n",
    "val_loss = history.history['val_loss']\n",
    "val_accuracy = history.history['val_accuracy']\n",
    "\n",
    "\n",
    "plt.figure()\n",
    "plt.plot(train_loss , label = 'train_loss')\n",
    "plt.plot(val_loss , label = 'val_loss')\n",
    "plt.legend()"
   ]
  },
  {
   "cell_type": "markdown",
   "metadata": {},
   "source": [
    "# fourth"
   ]
  },
  {
   "cell_type": "code",
   "execution_count": 11,
   "metadata": {},
   "outputs": [
    {
     "name": "stdout",
     "output_type": "stream",
     "text": [
      "Epoch 1/30\n",
      "41/41 [==============================] - 2s 12ms/step - loss: 0.1162 - accuracy: 0.5086 - val_loss: 0.1218 - val_accuracy: 0.5435 - lr: 0.0010\n",
      "Epoch 2/30\n",
      "41/41 [==============================] - 0s 4ms/step - loss: 0.1149 - accuracy: 0.5452 - val_loss: 0.1216 - val_accuracy: 0.5435 - lr: 0.0010\n",
      "Epoch 3/30\n",
      "41/41 [==============================] - 0s 4ms/step - loss: 0.1133 - accuracy: 0.5721 - val_loss: 0.1167 - val_accuracy: 0.5435 - lr: 0.0010\n",
      "Epoch 4/30\n",
      "41/41 [==============================] - 0s 4ms/step - loss: 0.1099 - accuracy: 0.5941 - val_loss: 0.1148 - val_accuracy: 0.5435 - lr: 0.0010\n",
      "Epoch 5/30\n",
      "41/41 [==============================] - 0s 4ms/step - loss: 0.1032 - accuracy: 0.6797 - val_loss: 0.1104 - val_accuracy: 0.7609 - lr: 0.0010\n",
      "Epoch 6/30\n",
      "41/41 [==============================] - 0s 4ms/step - loss: 0.1030 - accuracy: 0.6895 - val_loss: 0.1026 - val_accuracy: 0.8913 - lr: 0.0010\n",
      "Epoch 7/30\n",
      "41/41 [==============================] - 0s 4ms/step - loss: 0.0982 - accuracy: 0.6846 - val_loss: 0.0958 - val_accuracy: 0.8696 - lr: 0.0010\n",
      "Epoch 8/30\n",
      "41/41 [==============================] - 0s 4ms/step - loss: 0.0901 - accuracy: 0.7628 - val_loss: 0.0839 - val_accuracy: 0.8696 - lr: 0.0010\n",
      "Epoch 9/30\n",
      "41/41 [==============================] - 0s 4ms/step - loss: 0.0792 - accuracy: 0.8166 - val_loss: 0.0800 - val_accuracy: 0.8913 - lr: 0.0010\n",
      "Epoch 10/30\n",
      "41/41 [==============================] - 0s 4ms/step - loss: 0.0731 - accuracy: 0.8240 - val_loss: 0.0900 - val_accuracy: 0.7609 - lr: 0.0010\n",
      "Epoch 11/30\n",
      "41/41 [==============================] - 0s 4ms/step - loss: 0.0691 - accuracy: 0.8264 - val_loss: 0.0591 - val_accuracy: 0.8913 - lr: 6.0653e-04\n",
      "Epoch 12/30\n",
      "41/41 [==============================] - 0s 4ms/step - loss: 0.0614 - accuracy: 0.8533 - val_loss: 0.0570 - val_accuracy: 0.8913 - lr: 3.6788e-04\n",
      "Epoch 13/30\n",
      "41/41 [==============================] - 0s 4ms/step - loss: 0.0616 - accuracy: 0.8729 - val_loss: 0.0509 - val_accuracy: 0.8913 - lr: 2.2313e-04\n",
      "Epoch 14/30\n",
      "41/41 [==============================] - 0s 4ms/step - loss: 0.0581 - accuracy: 0.8655 - val_loss: 0.0554 - val_accuracy: 0.8913 - lr: 1.3534e-04\n",
      "Epoch 15/30\n",
      "41/41 [==============================] - 0s 4ms/step - loss: 0.0582 - accuracy: 0.8655 - val_loss: 0.0550 - val_accuracy: 0.8913 - lr: 8.2085e-05\n",
      "Epoch 16/30\n",
      "41/41 [==============================] - 0s 4ms/step - loss: 0.0618 - accuracy: 0.8631 - val_loss: 0.0550 - val_accuracy: 0.8913 - lr: 4.9787e-05\n",
      "Epoch 17/30\n",
      "41/41 [==============================] - 0s 4ms/step - loss: 0.0576 - accuracy: 0.8655 - val_loss: 0.0541 - val_accuracy: 0.8913 - lr: 3.0197e-05\n",
      "Epoch 18/30\n",
      "41/41 [==============================] - 0s 4ms/step - loss: 0.0594 - accuracy: 0.8460 - val_loss: 0.0540 - val_accuracy: 0.8913 - lr: 1.8316e-05\n",
      "Epoch 19/30\n",
      "41/41 [==============================] - 0s 4ms/step - loss: 0.0577 - accuracy: 0.8753 - val_loss: 0.0536 - val_accuracy: 0.8913 - lr: 1.1109e-05\n",
      "Epoch 20/30\n",
      "41/41 [==============================] - 0s 4ms/step - loss: 0.0557 - accuracy: 0.8704 - val_loss: 0.0534 - val_accuracy: 0.8913 - lr: 6.7379e-06\n",
      "Epoch 21/30\n",
      "41/41 [==============================] - 0s 4ms/step - loss: 0.0586 - accuracy: 0.8778 - val_loss: 0.0534 - val_accuracy: 0.8913 - lr: 4.0868e-06\n",
      "Epoch 22/30\n",
      "41/41 [==============================] - 0s 4ms/step - loss: 0.0554 - accuracy: 0.8875 - val_loss: 0.0534 - val_accuracy: 0.8913 - lr: 2.4788e-06\n",
      "Epoch 23/30\n",
      "41/41 [==============================] - 0s 4ms/step - loss: 0.0598 - accuracy: 0.8606 - val_loss: 0.0534 - val_accuracy: 0.8913 - lr: 1.5034e-06\n",
      "Epoch 24/30\n",
      "41/41 [==============================] - 0s 4ms/step - loss: 0.0543 - accuracy: 0.8655 - val_loss: 0.0534 - val_accuracy: 0.8913 - lr: 9.1188e-07\n",
      "Epoch 25/30\n",
      "41/41 [==============================] - 0s 4ms/step - loss: 0.0561 - accuracy: 0.8680 - val_loss: 0.0534 - val_accuracy: 0.8913 - lr: 5.5308e-07\n",
      "Epoch 26/30\n",
      "41/41 [==============================] - 0s 4ms/step - loss: 0.0561 - accuracy: 0.8802 - val_loss: 0.0534 - val_accuracy: 0.8913 - lr: 3.3546e-07\n",
      "Epoch 27/30\n",
      "41/41 [==============================] - 0s 4ms/step - loss: 0.0595 - accuracy: 0.8729 - val_loss: 0.0534 - val_accuracy: 0.8913 - lr: 2.0347e-07\n",
      "Epoch 28/30\n",
      "41/41 [==============================] - 0s 4ms/step - loss: 0.0588 - accuracy: 0.8680 - val_loss: 0.0534 - val_accuracy: 0.8913 - lr: 1.2341e-07\n",
      "Epoch 29/30\n",
      "41/41 [==============================] - 0s 4ms/step - loss: 0.0584 - accuracy: 0.8582 - val_loss: 0.0534 - val_accuracy: 0.8913 - lr: 7.4852e-08\n",
      "Epoch 30/30\n",
      "41/41 [==============================] - 0s 4ms/step - loss: 0.0562 - accuracy: 0.8802 - val_loss: 0.0534 - val_accuracy: 0.8913 - lr: 4.5400e-08\n",
      "4/4 [==============================] - 0s 3ms/step - loss: 0.0450 - accuracy: 0.9211\n"
     ]
    },
    {
     "data": {
      "text/plain": [
       "<matplotlib.legend.Legend at 0x1c3546e9e50>"
      ]
     },
     "execution_count": 11,
     "metadata": {},
     "output_type": "execute_result"
    },
    {
     "data": {
      "image/png": "[encoded data removed]",
      "text/plain": [
       "<Figure size 432x288 with 1 Axes>"
      ]
     },
     "metadata": {
      "needs_background": "light"
     },
     "output_type": "display_data"
    }
   ],
   "source": [
    "model_4 = tf.keras.Sequential()\n",
    "model_4.add(tf.keras.layers.Dense(9, activation='relu', input_shape=(x_train.shape[1],)))\n",
    "model_4.add(tf.keras.layers.Dense(27, activation='sigmoid'))\n",
    "model_4.add(tf.keras.layers.Dropout(0.25))\n",
    "model_4.add(tf.keras.layers.Dense(54, activation='sigmoid'))\n",
    "model_4.add(tf.keras.layers.Dropout(0.25))\n",
    "model_4.add(tf.keras.layers.Dense(27, activation='sigmoid'))\n",
    "model_4.add(tf.keras.layers.Dropout(0.25))\n",
    "model_4.add(tf.keras.layers.Dense(1, activation='sigmoid'))\n",
    "\n",
    "model_4.compile(optimizer='adam',\n",
    "            loss='mean_squared_logarithmic_error',\n",
    "            metrics=['accuracy'])\n",
    "\n",
    "history = model_4.fit(x_train, y_train , epochs=30 ,validation_split = 0.1 ,verbose = 1, batch_size = 10, callbacks = [E, L])\n",
    "\n",
    "model_4.evaluate(x_test , y_test)\n",
    "\n",
    "accuracy = history.history['accuracy']\n",
    "train_loss = history.history['loss']\n",
    "\n",
    "val_loss = history.history['val_loss']\n",
    "val_accuracy = history.history['val_accuracy']\n",
    "\n",
    "\n",
    "plt.figure()\n",
    "plt.plot(train_loss , label = 'train_loss')\n",
    "plt.plot(val_loss , label = 'val_loss')\n",
    "plt.legend()"
   ]
  }
 ],
 "metadata": {
  "colab": {
   "collapsed_sections": [],
   "name": "Armita_tensorflow_models.ipynb",
   "provenance": []
  },
  "kernelspec": {
   "display_name": "Python 3 (ipykernel)",
   "language": "python",
   "name": "python3"
  },
  "language_info": {
   "codemirror_mode": {
    "name": "ipython",
    "version": 3
   },
   "file_extension": ".py",
   "mimetype": "text/x-python",
   "name": "python",
   "nbconvert_exporter": "python",
   "pygments_lexer": "ipython3",
   "version": "3.9.12"
  }
 },
 "nbformat": 4,
 "nbformat_minor": 1
}
