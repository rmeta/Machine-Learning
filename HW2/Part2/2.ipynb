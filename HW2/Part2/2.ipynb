{
 "cells": [
  {
   "cell_type": "code",
   "execution_count": 37,
   "id": "3a6aceaa",
   "metadata": {},
   "outputs": [],
   "source": [
    "import pandas as pd\n",
    "from sklearn.preprocessing import StandardScaler\n",
    "import numpy as np"
   ]
  },
  {
   "cell_type": "code",
   "execution_count": 38,
   "id": "21a0f6cb",
   "metadata": {},
   "outputs": [
    {
     "name": "stdout",
     "output_type": "stream",
     "text": [
      "   mean_radius  mean_texture  mean_perimeter  mean_area  mean_smoothness  \\\n",
      "0        17.99         10.38          122.80     1001.0          0.11840   \n",
      "1        20.57         17.77          132.90     1326.0          0.08474   \n",
      "2        19.69         21.25          130.00     1203.0          0.10960   \n",
      "3        11.42         20.38           77.58      386.1          0.14250   \n",
      "4        20.29         14.34          135.10     1297.0          0.10030   \n",
      "\n",
      "   diagnosis  \n",
      "0          0  \n",
      "1          0  \n",
      "2          0  \n",
      "3          0  \n",
      "4          0  \n"
     ]
    }
   ],
   "source": [
    "df = pd.read_csv(filepath_or_buffer = 'Breast_cancer_data.csv', sep = \",\")\n",
    "print(df.head())\n",
    "#print(df.keys())"
   ]
  },
  {
   "cell_type": "code",
   "execution_count": 48,
   "id": "30051eeb",
   "metadata": {},
   "outputs": [
    {
     "name": "stdout",
     "output_type": "stream",
     "text": [
      "[[ 1.00176056  0.32435193  0.99961207  0.98909547  0.17088151 -0.73131377]\n",
      " [ 0.32435193  1.00176056  0.33011322  0.32165099 -0.02342969 -0.41591626]\n",
      " [ 0.99961207  0.33011322  1.00176056  0.98824361  0.20764309 -0.74394299]\n",
      " [ 0.98909547  0.32165099  0.98824361  1.00176056  0.17734005 -0.71023205]\n",
      " [ 0.17088151 -0.02342969  0.20764309  0.17734005  1.00176056 -0.35919123]\n",
      " [-0.73131377 -0.41591626 -0.74394299 -0.71023205 -0.35919123  1.00176056]]\n",
      "[3.83605507e+00 1.03578022e+00 8.30441853e-01 2.91095013e-01\n",
      " 1.39212910e-03 1.57990892e-02]\n",
      "[[-0.49492212 -0.06100523  0.23990282  0.15628968  0.70733665 -0.4111271 ]\n",
      " [-0.23293133 -0.47712714 -0.80420402  0.26697554  0.00629552 -0.00574548]\n",
      " [-0.49803542 -0.03130825  0.21411585  0.1620177  -0.70625281 -0.42437265]\n",
      " [-0.4911335  -0.05652924  0.24270798  0.21916641 -0.01119123  0.80531112]\n",
      " [-0.15022172  0.86522406 -0.36888285  0.30338288  0.02648406 -0.00190311]\n",
      " [ 0.434715   -0.1258555   0.23425459  0.85905342 -0.00394246 -0.04816356]]\n"
     ]
    }
   ],
   "source": [
    "\n",
    "#df = df.astype({'0':'float'})\n",
    "df_std = StandardScaler().fit_transform(df)\n",
    "mean_vec = np.mean(df_std, axis = 0)\n",
    "cov_mat = np.cov(df_std.T)\n",
    "print(cov_mat)\n",
    "eig_vals, eig_vecs = np.linalg.eig(cov_mat)\n",
    "print(eig_vals)\n",
    "print(eig_vecs)"
   ]
  },
  {
   "cell_type": "code",
   "execution_count": 50,
   "id": "0002ef75",
   "metadata": {},
   "outputs": [
    {
     "name": "stdout",
     "output_type": "stream",
     "text": [
      "[(3.8360550723962623, array([-0.49492212, -0.23293133, -0.49803542, -0.4911335 , -0.15022172,\n",
      "        0.434715  ])), (1.035780224036483, array([-0.06100523, -0.47712714, -0.03130825, -0.05652924,  0.86522406,\n",
      "       -0.1258555 ])), (0.8304418527005263, array([ 0.23990282, -0.80420402,  0.21411585,  0.24270798, -0.36888285,\n",
      "        0.23425459])), (0.2910950128598334, array([0.15628968, 0.26697554, 0.1620177 , 0.21916641, 0.30338288,\n",
      "       0.85905342])), (0.01579908919182589, array([-0.4111271 , -0.00574548, -0.42437265,  0.80531112, -0.00190311,\n",
      "       -0.04816356])), (0.001392129096763669, array([ 0.70733665,  0.00629552, -0.70625281, -0.01119123,  0.02648406,\n",
      "       -0.00394246]))]\n"
     ]
    }
   ],
   "source": [
    "eig_pairs = [(np.abs(eig_vals[i]), eig_vecs[:, i]) for i in range(len(eig_vals))]\n",
    "eig_pairs.sort()\n",
    "eig_pairs.reverse()\n",
    "print(eig_pairs)"
   ]
  },
  {
   "cell_type": "code",
   "execution_count": 52,
   "id": "01af23c5",
   "metadata": {},
   "outputs": [
    {
     "name": "stdout",
     "output_type": "stream",
     "text": [
      "[63.821888726452116, 17.232664535814934, 13.81637294475391, 4.843057038792772, 0.2628553796413913, 0.023161374544867115]\n"
     ]
    }
   ],
   "source": [
    "total = sum(eig_vals)\n",
    "var_exp = [(i/total)*100 for i in sorted(eig_vals, reverse = True)]\n",
    "print(var_exp)"
   ]
  },
  {
   "cell_type": "code",
   "execution_count": 53,
   "id": "8dba32ff",
   "metadata": {},
   "outputs": [
    {
     "name": "stdout",
     "output_type": "stream",
     "text": [
      "Matrix W:\n",
      " [[-0.49492212 -0.06100523  0.23990282]\n",
      " [-0.23293133 -0.47712714 -0.80420402]\n",
      " [-0.49803542 -0.03130825  0.21411585]\n",
      " [-0.4911335  -0.05652924  0.24270798]\n",
      " [-0.15022172  0.86522406 -0.36888285]\n",
      " [ 0.434715   -0.1258555   0.23425459]]\n"
     ]
    }
   ],
   "source": [
    "matrix_w = np.hstack((eig_pairs[0][1].reshape(6,1), \n",
    "                      eig_pairs[1][1].reshape(6,1),\n",
    "                      eig_pairs[2][1].reshape(6,1)))\n",
    "\n",
    "print('Matrix W:\\n', matrix_w)"
   ]
  },
  {
   "cell_type": "code",
   "execution_count": 56,
   "id": "ab8efdd8",
   "metadata": {},
   "outputs": [
    {
     "name": "stdout",
     "output_type": "stream",
     "text": [
      "[[-1.97568481  2.34730684  1.55883485]\n",
      " [-3.04023374 -0.65577132  1.54868585]\n",
      " [-3.1396354   0.52733517  0.07436711]\n",
      " ...\n",
      " [-1.88078266 -1.63646057 -1.18622084]\n",
      " [-4.08698311  0.09635452 -1.45913976]\n",
      " [ 2.97849615 -3.12926935 -0.80350587]]\n"
     ]
    }
   ],
   "source": [
    "Y = df_std.dot(matrix_w)\n",
    "print(Y)"
   ]
  },
  {
   "cell_type": "code",
   "execution_count": null,
   "id": "5594fb4b",
   "metadata": {},
   "outputs": [],
   "source": []
  }
 ],
 "metadata": {
  "kernelspec": {
   "display_name": "Python 3 (ipykernel)",
   "language": "python",
   "name": "python3"
  },
  "language_info": {
   "codemirror_mode": {
    "name": "ipython",
    "version": 3
   },
   "file_extension": ".py",
   "mimetype": "text/x-python",
   "name": "python",
   "nbconvert_exporter": "python",
   "pygments_lexer": "ipython3",
   "version": "3.9.12"
  }
 },
 "nbformat": 4,
 "nbformat_minor": 5
}
