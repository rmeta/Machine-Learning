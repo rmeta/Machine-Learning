{
 "cells": [
  {
   "cell_type": "code",
   "execution_count": 1,
   "id": "e8a59bee",
   "metadata": {},
   "outputs": [],
   "source": [
    "import tensorflow as tf\n",
    "import numpy as np\n",
    "import matplotlib.pyplot as plt"
   ]
  },
  {
   "cell_type": "code",
   "execution_count": 24,
   "id": "13174ad4",
   "metadata": {},
   "outputs": [],
   "source": [
    "(x_train, y_train), (x_test, y_test) = tf.keras.datasets.fashion_mnist.load_data()"
   ]
  },
  {
   "cell_type": "code",
   "execution_count": 28,
   "id": "aff7f027",
   "metadata": {},
   "outputs": [],
   "source": [
    "x_train=x_train.astype('float32')/255\n",
    "x_test=x_test.astype('float32')/255"
   ]
  },
  {
   "cell_type": "code",
   "execution_count": 29,
   "id": "d5406031",
   "metadata": {},
   "outputs": [
    {
     "data": {
      "text/plain": [
       "<matplotlib.image.AxesImage at 0x1365585de10>"
      ]
     },
     "execution_count": 29,
     "metadata": {},
     "output_type": "execute_result"
    },
    {
     "data": {
      "image/png": "[encoded data removed]",
      "text/plain": [
       "<Figure size 432x288 with 1 Axes>"
      ]
     },
     "metadata": {
      "needs_background": "light"
     },
     "output_type": "display_data"
    }
   ],
   "source": [
    "plt.imshow(x_train[50000])"
   ]
  },
  {
   "cell_type": "code",
   "execution_count": 30,
   "id": "8e544839",
   "metadata": {},
   "outputs": [
    {
     "name": "stdout",
     "output_type": "stream",
     "text": [
      "# of training images: 60000\n",
      "# of test images: 10000\n"
     ]
    }
   ],
   "source": [
    "print('# of training images:', x_train.shape[0])\n",
    "print('# of test images:', x_test.shape[0])"
   ]
  },
  {
   "cell_type": "markdown",
   "id": "10d5e5b2",
   "metadata": {},
   "source": [
    "# Model 1"
   ]
  },
  {
   "cell_type": "code",
   "execution_count": 31,
   "id": "66754dd3",
   "metadata": {},
   "outputs": [],
   "source": [
    "model_1 = tf.keras.models.Sequential([\n",
    "    tf.keras.layers.Flatten(input_shape=(28,28)),\n",
    "    tf.keras.layers.Dense(128 , activation='relu'),\n",
    "    tf.keras.layers.Dense(10 , activation='softmax')\n",
    "])"
   ]
  },
  {
   "cell_type": "code",
   "execution_count": 38,
   "id": "68000325",
   "metadata": {},
   "outputs": [],
   "source": [
    "model_1.compile(optimizer='SGD', loss='sparse_categorical_crossentropy', metrics=['accuracy'])"
   ]
  },
  {
   "cell_type": "code",
   "execution_count": 39,
   "id": "22fb82aa",
   "metadata": {},
   "outputs": [
    {
     "name": "stdout",
     "output_type": "stream",
     "text": [
      "Epoch 1/10\n",
      "1875/1875 [==============================] - 4s 2ms/step - loss: 0.7402 - accuracy: 0.7629\n",
      "Epoch 2/10\n",
      "1875/1875 [==============================] - 3s 2ms/step - loss: 0.5108 - accuracy: 0.8250\n",
      "Epoch 3/10\n",
      "1875/1875 [==============================] - 3s 2ms/step - loss: 0.4665 - accuracy: 0.8393\n",
      "Epoch 4/10\n",
      "1875/1875 [==============================] - 3s 2ms/step - loss: 0.4416 - accuracy: 0.8478\n",
      "Epoch 5/10\n",
      "1875/1875 [==============================] - 3s 2ms/step - loss: 0.4246 - accuracy: 0.8533\n",
      "Epoch 6/10\n",
      "1875/1875 [==============================] - 3s 2ms/step - loss: 0.4103 - accuracy: 0.8574\n",
      "Epoch 7/10\n",
      "1875/1875 [==============================] - 3s 2ms/step - loss: 0.3991 - accuracy: 0.8622\n",
      "Epoch 8/10\n",
      "1875/1875 [==============================] - 3s 2ms/step - loss: 0.3891 - accuracy: 0.8648\n",
      "Epoch 9/10\n",
      "1875/1875 [==============================] - 3s 2ms/step - loss: 0.3802 - accuracy: 0.8674\n",
      "Epoch 10/10\n",
      "1875/1875 [==============================] - 3s 2ms/step - loss: 0.3728 - accuracy: 0.8697\n"
     ]
    },
    {
     "data": {
      "text/plain": [
       "<keras.callbacks.History at 0x13654ee6438>"
      ]
     },
     "execution_count": 39,
     "metadata": {},
     "output_type": "execute_result"
    }
   ],
   "source": [
    "model_1.fit(x_train , y_train,epochs=10)"
   ]
  },
  {
   "cell_type": "markdown",
   "id": "399311a4",
   "metadata": {},
   "source": [
    "# Model 2"
   ]
  },
  {
   "cell_type": "code",
   "execution_count": 50,
   "id": "869093eb",
   "metadata": {},
   "outputs": [],
   "source": [
    "model_2 = tf.keras.models.Sequential([\n",
    "    tf.keras.layers.Flatten(input_shape=(28,28)),\n",
    "    tf.keras.layers.Dense(128 , activation='relu'),\n",
    "    tf.keras.layers.Dense(10 , activation='softmax')\n",
    "])"
   ]
  },
  {
   "cell_type": "code",
   "execution_count": 51,
   "id": "1492b283",
   "metadata": {},
   "outputs": [],
   "source": [
    "model_2.compile(optimizer='Adam', loss='sparse_categorical_crossentropy', metrics=['accuracy'])"
   ]
  },
  {
   "cell_type": "code",
   "execution_count": 52,
   "id": "1d785d0e",
   "metadata": {},
   "outputs": [
    {
     "name": "stdout",
     "output_type": "stream",
     "text": [
      "Epoch 1/10\n",
      "600/600 [==============================] - 2s 2ms/step - loss: 0.5348 - accuracy: 0.8145\n",
      "Epoch 2/10\n",
      "600/600 [==============================] - 1s 2ms/step - loss: 0.3994 - accuracy: 0.8594\n",
      "Epoch 3/10\n",
      "600/600 [==============================] - 1s 2ms/step - loss: 0.3560 - accuracy: 0.8724\n",
      "Epoch 4/10\n",
      "600/600 [==============================] - 1s 2ms/step - loss: 0.3282 - accuracy: 0.8813\n",
      "Epoch 5/10\n",
      "600/600 [==============================] - 1s 2ms/step - loss: 0.3114 - accuracy: 0.8863\n",
      "Epoch 6/10\n",
      "600/600 [==============================] - 1s 2ms/step - loss: 0.2962 - accuracy: 0.8920\n",
      "Epoch 7/10\n",
      "600/600 [==============================] - 1s 2ms/step - loss: 0.2829 - accuracy: 0.8959\n",
      "Epoch 8/10\n",
      "600/600 [==============================] - 1s 2ms/step - loss: 0.2712 - accuracy: 0.9007\n",
      "Epoch 9/10\n",
      "600/600 [==============================] - 1s 2ms/step - loss: 0.2613 - accuracy: 0.9030\n",
      "Epoch 10/10\n",
      "600/600 [==============================] - 1s 2ms/step - loss: 0.2521 - accuracy: 0.9066\n"
     ]
    },
    {
     "data": {
      "text/plain": [
       "<keras.callbacks.History at 0x13655e268d0>"
      ]
     },
     "execution_count": 52,
     "metadata": {},
     "output_type": "execute_result"
    }
   ],
   "source": [
    "model_2.fit(x_train , y_train,epochs=10, batch_size=100)"
   ]
  },
  {
   "cell_type": "markdown",
   "id": "71921f98",
   "metadata": {},
   "source": [
    "# Model 3"
   ]
  },
  {
   "cell_type": "code",
   "execution_count": 107,
   "id": "bc5f703e",
   "metadata": {},
   "outputs": [],
   "source": [
    "model_3 = tf.keras.models.Sequential([\n",
    "    tf.keras.layers.Flatten(input_shape=(28,28)),\n",
    "    tf.keras.layers.Dense(128 , activation='relu'),\n",
    "    tf.keras.layers.BatchNormalization(),\n",
    "    tf.keras.layers.Dense(128 , activation='relu'),\n",
    "    tf.keras.layers.Dropout(0.3),\n",
    "    tf.keras.layers.Dense(10 , activation='softmax')\n",
    "])"
   ]
  },
  {
   "cell_type": "code",
   "execution_count": 108,
   "id": "6cb8d719",
   "metadata": {},
   "outputs": [],
   "source": [
    "model_3.compile(optimizer='Adam', loss='sparse_categorical_crossentropy', metrics=['accuracy'])"
   ]
  },
  {
   "cell_type": "code",
   "execution_count": 109,
   "id": "68ab8052",
   "metadata": {},
   "outputs": [
    {
     "name": "stdout",
     "output_type": "stream",
     "text": [
      "Epoch 1/10\n",
      "540/540 [==============================] - 2s 3ms/step - loss: 0.5270 - accuracy: 0.8143 - val_loss: 0.4548 - val_accuracy: 0.8332\n",
      "Epoch 2/10\n",
      "540/540 [==============================] - 2s 3ms/step - loss: 0.3875 - accuracy: 0.8581 - val_loss: 0.4602 - val_accuracy: 0.8413\n",
      "Epoch 3/10\n",
      "540/540 [==============================] - 1s 3ms/step - loss: 0.3579 - accuracy: 0.8696 - val_loss: 0.3806 - val_accuracy: 0.8630\n",
      "Epoch 4/10\n",
      "540/540 [==============================] - 2s 3ms/step - loss: 0.3367 - accuracy: 0.8774 - val_loss: 0.3427 - val_accuracy: 0.8693\n",
      "Epoch 5/10\n",
      "540/540 [==============================] - 1s 3ms/step - loss: 0.3198 - accuracy: 0.8839 - val_loss: 0.3540 - val_accuracy: 0.8672\n",
      "Epoch 6/10\n",
      "540/540 [==============================] - 1s 3ms/step - loss: 0.3056 - accuracy: 0.8873 - val_loss: 0.4004 - val_accuracy: 0.8643\n",
      "Epoch 7/10\n",
      "540/540 [==============================] - 1s 3ms/step - loss: 0.2921 - accuracy: 0.8918 - val_loss: 0.3327 - val_accuracy: 0.8810\n",
      "Epoch 8/10\n",
      "540/540 [==============================] - 1s 3ms/step - loss: 0.2807 - accuracy: 0.8959 - val_loss: 0.3447 - val_accuracy: 0.8762\n",
      "Epoch 9/10\n",
      "540/540 [==============================] - 1s 3ms/step - loss: 0.2747 - accuracy: 0.8987 - val_loss: 0.3205 - val_accuracy: 0.8810\n",
      "Epoch 10/10\n",
      "540/540 [==============================] - 1s 3ms/step - loss: 0.2682 - accuracy: 0.9012 - val_loss: 0.3282 - val_accuracy: 0.8802\n"
     ]
    }
   ],
   "source": [
    "history=model_3.fit(x_train , y_train,epochs=10, batch_size=100, validation_split=0.1)"
   ]
  },
  {
   "cell_type": "code",
   "execution_count": 110,
   "id": "0890110e",
   "metadata": {},
   "outputs": [
    {
     "data": {
      "text/plain": [
       "<matplotlib.legend.Legend at 0x1366a40d630>"
      ]
     },
     "execution_count": 110,
     "metadata": {},
     "output_type": "execute_result"
    },
    {
     "data": {
      "image/png": "[encoded data removed]",
      "text/plain": [
       "<Figure size 864x576 with 1 Axes>"
      ]
     },
     "metadata": {
      "needs_background": "light"
     },
     "output_type": "display_data"
    }
   ],
   "source": [
    "plt.figure(figsize= (12,8))\n",
    "plt.plot(history.history['loss'], label='train')\n",
    "plt.plot(history.history['val_loss'], label='test')\n",
    "plt.ylabel('loss')\n",
    "plt.xlabel('epoch')\n",
    "plt.xticks(np.arange(0,25,1))\n",
    "plt.legend(['train','test'],loc='upper left')"
   ]
  },
  {
   "cell_type": "markdown",
   "id": "f4ac708c",
   "metadata": {},
   "source": [
    "# Model 4"
   ]
  },
  {
   "cell_type": "code",
   "execution_count": 119,
   "id": "42f96332",
   "metadata": {},
   "outputs": [],
   "source": [
    "model_4 = tf.keras.models.Sequential([\n",
    "    tf.keras.layers.Flatten(input_shape=(28,28)),\n",
    "    tf.keras.layers.Dense(128 , activation='relu'),\n",
    "    tf.keras.layers.BatchNormalization(),\n",
    "    tf.keras.layers.Dense(128 , activation='relu'),\n",
    "    tf.keras.layers.Dropout(0.3),\n",
    "    tf.keras.layers.Dense(10 , activation='softmax')\n",
    "])"
   ]
  },
  {
   "cell_type": "code",
   "execution_count": 120,
   "id": "3c735890",
   "metadata": {},
   "outputs": [],
   "source": [
    "model_4.compile(optimizer='Adam', loss='sparse_categorical_crossentropy', metrics=['accuracy'])"
   ]
  },
  {
   "cell_type": "code",
   "execution_count": 121,
   "id": "b48db8c5",
   "metadata": {},
   "outputs": [
    {
     "name": "stdout",
     "output_type": "stream",
     "text": [
      "Epoch 1/20\n",
      "540/540 [==============================] - 2s 3ms/step - loss: 0.5217 - accuracy: 0.8149 - val_loss: 0.5497 - val_accuracy: 0.8123\n",
      "Epoch 2/20\n",
      "540/540 [==============================] - 2s 3ms/step - loss: 0.3862 - accuracy: 0.8609 - val_loss: 0.3693 - val_accuracy: 0.8637\n",
      "Epoch 3/20\n",
      "540/540 [==============================] - 2s 3ms/step - loss: 0.3560 - accuracy: 0.8723 - val_loss: 0.3642 - val_accuracy: 0.8627\n",
      "Epoch 4/20\n",
      "540/540 [==============================] - 2s 3ms/step - loss: 0.3325 - accuracy: 0.8784 - val_loss: 0.3485 - val_accuracy: 0.8700\n",
      "Epoch 5/20\n",
      "540/540 [==============================] - 2s 3ms/step - loss: 0.3168 - accuracy: 0.8847 - val_loss: 0.3669 - val_accuracy: 0.8578\n",
      "Epoch 6/20\n",
      "540/540 [==============================] - 2s 3ms/step - loss: 0.3059 - accuracy: 0.8882 - val_loss: 0.3695 - val_accuracy: 0.8637\n",
      "Epoch 7/20\n",
      "540/540 [==============================] - 2s 3ms/step - loss: 0.2940 - accuracy: 0.8922 - val_loss: 0.3373 - val_accuracy: 0.8765\n",
      "Epoch 8/20\n",
      "540/540 [==============================] - 2s 3ms/step - loss: 0.2828 - accuracy: 0.8956 - val_loss: 0.3324 - val_accuracy: 0.8797\n",
      "Epoch 9/20\n",
      "540/540 [==============================] - 2s 3ms/step - loss: 0.2751 - accuracy: 0.8978 - val_loss: 0.3287 - val_accuracy: 0.8788\n",
      "Epoch 10/20\n",
      "540/540 [==============================] - 2s 3ms/step - loss: 0.2629 - accuracy: 0.9026 - val_loss: 0.3276 - val_accuracy: 0.8783\n",
      "Epoch 11/20\n",
      "540/540 [==============================] - 2s 3ms/step - loss: 0.2612 - accuracy: 0.9034 - val_loss: 0.3274 - val_accuracy: 0.8848\n",
      "Epoch 12/20\n",
      "540/540 [==============================] - 2s 3ms/step - loss: 0.2561 - accuracy: 0.9044 - val_loss: 0.3309 - val_accuracy: 0.8808\n",
      "Epoch 13/20\n",
      "540/540 [==============================] - 2s 3ms/step - loss: 0.2520 - accuracy: 0.9074 - val_loss: 0.3264 - val_accuracy: 0.8858\n",
      "Epoch 14/20\n",
      "540/540 [==============================] - 2s 3ms/step - loss: 0.2432 - accuracy: 0.9088 - val_loss: 0.3432 - val_accuracy: 0.8785\n",
      "Epoch 15/20\n",
      "540/540 [==============================] - 2s 3ms/step - loss: 0.2351 - accuracy: 0.9109 - val_loss: 0.3153 - val_accuracy: 0.8873\n",
      "Epoch 16/20\n",
      "540/540 [==============================] - 2s 3ms/step - loss: 0.2343 - accuracy: 0.9130 - val_loss: 0.3378 - val_accuracy: 0.8800\n",
      "Epoch 17/20\n",
      "540/540 [==============================] - 1s 3ms/step - loss: 0.2301 - accuracy: 0.9144 - val_loss: 0.3423 - val_accuracy: 0.8808\n",
      "Epoch 18/20\n",
      "540/540 [==============================] - 2s 3ms/step - loss: 0.2241 - accuracy: 0.9158 - val_loss: 0.3466 - val_accuracy: 0.8772\n",
      "Epoch 19/20\n",
      "540/540 [==============================] - 2s 3ms/step - loss: 0.2210 - accuracy: 0.9166 - val_loss: 0.3351 - val_accuracy: 0.8815\n",
      "Epoch 20/20\n",
      "540/540 [==============================] - 2s 3ms/step - loss: 0.2164 - accuracy: 0.9191 - val_loss: 0.3382 - val_accuracy: 0.8850\n"
     ]
    }
   ],
   "source": [
    "history=model_4.fit(x_train , y_train,epochs=20, batch_size=100, validation_split=0.1)"
   ]
  },
  {
   "cell_type": "code",
   "execution_count": 122,
   "id": "e7d6d1ae",
   "metadata": {},
   "outputs": [
    {
     "data": {
      "text/plain": [
       "<matplotlib.legend.Legend at 0x1366a3629e8>"
      ]
     },
     "execution_count": 122,
     "metadata": {},
     "output_type": "execute_result"
    },
    {
     "data": {
      "image/png": "[encoded data removed]",
      "text/plain": [
       "<Figure size 864x576 with 1 Axes>"
      ]
     },
     "metadata": {
      "needs_background": "light"
     },
     "output_type": "display_data"
    }
   ],
   "source": [
    "plt.figure(figsize= (12,8))\n",
    "plt.plot(history.history['loss'], label='train')\n",
    "plt.plot(history.history['val_loss'], label='test')\n",
    "plt.ylabel('loss')\n",
    "plt.xlabel('epoch')\n",
    "plt.xticks(np.arange(0,25,1))\n",
    "plt.legend(['train','test'],loc='upper left')"
   ]
  },
  {
   "cell_type": "markdown",
   "id": "d317a513",
   "metadata": {},
   "source": [
    "# callsbacks"
   ]
  },
  {
   "cell_type": "code",
   "execution_count": 124,
   "id": "bd298ed6",
   "metadata": {},
   "outputs": [],
   "source": [
    "from tensorflow.keras import callbacks"
   ]
  },
  {
   "cell_type": "code",
   "execution_count": 126,
   "id": "36c458d0",
   "metadata": {},
   "outputs": [],
   "source": [
    "def scheduler(epoch,lr):\n",
    "    if epoch < 2:\n",
    "        return lr\n",
    "    else:\n",
    "        return tf.math.exp(-0.5)*lr"
   ]
  },
  {
   "cell_type": "code",
   "execution_count": 129,
   "id": "9d34790a",
   "metadata": {},
   "outputs": [],
   "source": [
    "L= callbacks.LearningRateScheduler(scheduler)\n",
    "E = callbacks.EarlyStopping(patience=2)\n",
    "R = callbacks.ReduceLROnPlateau(patience=2, min_lr = 0.0001)\n",
    "#M = callbacks.ModelCheckpoint\n"
   ]
  },
  {
   "cell_type": "markdown",
   "id": "645c03c1",
   "metadata": {},
   "source": [
    "# Model 5"
   ]
  },
  {
   "cell_type": "code",
   "execution_count": 134,
   "id": "09308625",
   "metadata": {},
   "outputs": [],
   "source": [
    "model_5 = tf.keras.models.Sequential([\n",
    "    tf.keras.layers.Flatten(input_shape=(28,28)),\n",
    "    tf.keras.layers.Dense(128 , activation='relu'),\n",
    "    tf.keras.layers.BatchNormalization(),\n",
    "    tf.keras.layers.Dense(128 , activation='relu'),\n",
    "    tf.keras.layers.Dropout(0.3),\n",
    "    tf.keras.layers.Dense(10 , activation='softmax')\n",
    "])"
   ]
  },
  {
   "cell_type": "code",
   "execution_count": 135,
   "id": "2cfb61e0",
   "metadata": {},
   "outputs": [],
   "source": [
    "model_5.compile(optimizer='Adam', loss='sparse_categorical_crossentropy', metrics=['accuracy'])"
   ]
  },
  {
   "cell_type": "code",
   "execution_count": 137,
   "id": "7ea529fe",
   "metadata": {},
   "outputs": [
    {
     "name": "stdout",
     "output_type": "stream",
     "text": [
      "Epoch 1/20\n",
      "540/540 [==============================] - 2s 3ms/step - loss: 0.5224 - accuracy: 0.8167 - val_loss: 0.4194 - val_accuracy: 0.8482 - lr: 0.0010\n",
      "Epoch 2/20\n",
      "540/540 [==============================] - 2s 3ms/step - loss: 0.3865 - accuracy: 0.8607 - val_loss: 0.3673 - val_accuracy: 0.8665 - lr: 0.0010\n",
      "Epoch 3/20\n",
      "540/540 [==============================] - 2s 3ms/step - loss: 0.3416 - accuracy: 0.8775 - val_loss: 0.3460 - val_accuracy: 0.8750 - lr: 6.0653e-04\n",
      "Epoch 4/20\n",
      "540/540 [==============================] - 2s 3ms/step - loss: 0.3099 - accuracy: 0.8876 - val_loss: 0.3217 - val_accuracy: 0.8828 - lr: 3.6788e-04\n",
      "Epoch 5/20\n",
      "540/540 [==============================] - 1s 3ms/step - loss: 0.2901 - accuracy: 0.8945 - val_loss: 0.3176 - val_accuracy: 0.8835 - lr: 2.2313e-04\n",
      "Epoch 6/20\n",
      "540/540 [==============================] - 1s 3ms/step - loss: 0.2767 - accuracy: 0.8982 - val_loss: 0.3073 - val_accuracy: 0.8880 - lr: 1.3534e-04\n",
      "Epoch 7/20\n",
      "540/540 [==============================] - 2s 3ms/step - loss: 0.2678 - accuracy: 0.9015 - val_loss: 0.3027 - val_accuracy: 0.8892 - lr: 8.2085e-05\n",
      "Epoch 8/20\n",
      "540/540 [==============================] - 2s 3ms/step - loss: 0.2634 - accuracy: 0.9029 - val_loss: 0.3014 - val_accuracy: 0.8912 - lr: 4.9787e-05\n",
      "Epoch 9/20\n",
      "540/540 [==============================] - 1s 3ms/step - loss: 0.2600 - accuracy: 0.9043 - val_loss: 0.3023 - val_accuracy: 0.8897 - lr: 3.0197e-05\n",
      "Epoch 10/20\n",
      "540/540 [==============================] - 2s 3ms/step - loss: 0.2566 - accuracy: 0.9051 - val_loss: 0.3012 - val_accuracy: 0.8900 - lr: 1.8316e-05\n",
      "Epoch 11/20\n",
      "540/540 [==============================] - 1s 3ms/step - loss: 0.2567 - accuracy: 0.9052 - val_loss: 0.3009 - val_accuracy: 0.8902 - lr: 1.1109e-05\n",
      "Epoch 12/20\n",
      "540/540 [==============================] - 1s 3ms/step - loss: 0.2545 - accuracy: 0.9062 - val_loss: 0.3006 - val_accuracy: 0.8908 - lr: 6.7379e-06\n",
      "Epoch 13/20\n",
      "540/540 [==============================] - 1s 3ms/step - loss: 0.2550 - accuracy: 0.9067 - val_loss: 0.3003 - val_accuracy: 0.8912 - lr: 4.0868e-06\n",
      "Epoch 14/20\n",
      "540/540 [==============================] - 1s 3ms/step - loss: 0.2533 - accuracy: 0.9061 - val_loss: 0.3008 - val_accuracy: 0.8903 - lr: 2.4788e-06\n",
      "Epoch 15/20\n",
      "540/540 [==============================] - 2s 3ms/step - loss: 0.2532 - accuracy: 0.9067 - val_loss: 0.3007 - val_accuracy: 0.8905 - lr: 1.5034e-06\n"
     ]
    }
   ],
   "source": [
    "history=model_5.fit(x_train , y_train,epochs=20, batch_size=100, callbacks=[L,E,R], validation_split=0.1)"
   ]
  },
  {
   "cell_type": "code",
   "execution_count": 138,
   "id": "9733286b",
   "metadata": {},
   "outputs": [
    {
     "data": {
      "text/plain": [
       "<matplotlib.legend.Legend at 0x13668fbe0b8>"
      ]
     },
     "execution_count": 138,
     "metadata": {},
     "output_type": "execute_result"
    },
    {
     "data": {
      "image/png": "[encoded data removed]",
      "text/plain": [
       "<Figure size 864x576 with 1 Axes>"
      ]
     },
     "metadata": {
      "needs_background": "light"
     },
     "output_type": "display_data"
    }
   ],
   "source": [
    "plt.figure(figsize= (12,8))\n",
    "plt.plot(history.history['loss'], label='train')\n",
    "plt.plot(history.history['val_loss'], label='test')\n",
    "plt.ylabel('loss')\n",
    "plt.xlabel('epoch')\n",
    "plt.xticks(np.arange(0,25,1))\n",
    "plt.legend(['train','test'],loc='upper left')"
   ]
  },
  {
   "cell_type": "markdown",
   "id": "91cb0fe3",
   "metadata": {},
   "source": [
    "# Model 6"
   ]
  },
  {
   "cell_type": "code",
   "execution_count": 158,
   "id": "f5985a83",
   "metadata": {},
   "outputs": [],
   "source": [
    "L= callbacks.LearningRateScheduler(scheduler)\n",
    "E = callbacks.EarlyStopping(patience=2)\n",
    "R = callbacks.ReduceLROnPlateau(patience=2, min_lr = 0.0001)\n",
    "M = callbacks.ModelCheckpoint('My_trained_model_6' ,monitor='val_loss',verbose=0,save_best_only=True,save_weights_only=False,mode='auto',save_freq='epoch',\n",
    "    options=None)\n"
   ]
  },
  {
   "cell_type": "code",
   "execution_count": 159,
   "id": "051e7ff1",
   "metadata": {},
   "outputs": [],
   "source": [
    "model_6 = tf.keras.models.Sequential([\n",
    "    tf.keras.layers.Flatten(input_shape=(28,28)),\n",
    "    tf.keras.layers.Dense(128 , activation='relu'),\n",
    "    tf.keras.layers.BatchNormalization(),\n",
    "    tf.keras.layers.Dense(128 , activation='relu'),\n",
    "    tf.keras.layers.Dropout(0.3),\n",
    "    tf.keras.layers.Dense(10 , activation='softmax')\n",
    "])"
   ]
  },
  {
   "cell_type": "code",
   "execution_count": 160,
   "id": "decccfe1",
   "metadata": {},
   "outputs": [],
   "source": [
    "model_6.compile(optimizer='Adam', loss='sparse_categorical_crossentropy', metrics=['accuracy'])"
   ]
  },
  {
   "cell_type": "code",
   "execution_count": 161,
   "id": "3a4f7884",
   "metadata": {},
   "outputs": [
    {
     "name": "stdout",
     "output_type": "stream",
     "text": [
      "Epoch 1/20\n",
      "530/540 [============================>.] - ETA: 0s - loss: 0.2530 - accuracy: 0.9070INFO:tensorflow:Assets written to: My_trained_model_6\\assets\n",
      "540/540 [==============================] - 3s 5ms/step - loss: 0.2531 - accuracy: 0.9069 - val_loss: 0.3007 - val_accuracy: 0.8910 - lr: 7.4852e-08\n",
      "Epoch 2/20\n",
      "540/540 [==============================] - ETA: 0s - loss: 0.2516 - accuracy: 0.9066INFO:tensorflow:Assets written to: My_trained_model_6\\assets\n",
      "540/540 [==============================] - 3s 5ms/step - loss: 0.2516 - accuracy: 0.9066 - val_loss: 0.3004 - val_accuracy: 0.8905 - lr: 7.4852e-08\n",
      "Epoch 3/20\n",
      "540/540 [==============================] - 2s 3ms/step - loss: 0.2499 - accuracy: 0.9078 - val_loss: 0.3004 - val_accuracy: 0.8907 - lr: 4.5400e-08\n",
      "Epoch 4/20\n",
      "524/540 [============================>.] - ETA: 0s - loss: 0.2498 - accuracy: 0.9084INFO:tensorflow:Assets written to: My_trained_model_6\\assets\n",
      "540/540 [==============================] - 3s 5ms/step - loss: 0.2500 - accuracy: 0.9083 - val_loss: 0.3003 - val_accuracy: 0.8907 - lr: 2.7536e-08\n",
      "Epoch 5/20\n",
      "540/540 [==============================] - 2s 3ms/step - loss: 0.2530 - accuracy: 0.9075 - val_loss: 0.3007 - val_accuracy: 0.8907 - lr: 1.6702e-08\n",
      "Epoch 6/20\n",
      "540/540 [==============================] - 2s 3ms/step - loss: 0.2536 - accuracy: 0.9071 - val_loss: 0.3006 - val_accuracy: 0.8907 - lr: 1.0130e-08\n"
     ]
    }
   ],
   "source": [
    "history=model_5.fit(x_train , y_train,epochs=20, batch_size=100, callbacks=[L,E,R,M], validation_split=0.1)"
   ]
  }
 ],
 "metadata": {
  "kernelspec": {
   "display_name": "Python 3 (ipykernel)",
   "language": "python",
   "name": "python3"
  },
  "language_info": {
   "codemirror_mode": {
    "name": "ipython",
    "version": 3
   },
   "file_extension": ".py",
   "mimetype": "text/x-python",
   "name": "python",
   "nbconvert_exporter": "python",
   "pygments_lexer": "ipython3",
   "version": "3.7.3"
  }
 },
 "nbformat": 4,
 "nbformat_minor": 5
}
