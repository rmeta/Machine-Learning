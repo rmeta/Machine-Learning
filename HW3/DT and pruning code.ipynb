{
 "cells": [
  {
   "cell_type": "code",
   "execution_count": 62,
   "id": "5fbbda64",
   "metadata": {},
   "outputs": [],
   "source": [
    "import pandas as pd\n",
    "import matplotlib.pyplot as plt\n",
    "import numpy as np\n",
    "import seaborn as sns\n",
    "from sklearn.metrics import confusion_matrix,accuracy_score,classification_report,matthews_corrcoef,recall_score\n",
    "from sklearn.ensemble import RandomForestClassifier\n",
    "from catboost import CatBoostClassifier \n",
    "from sklearn.neighbors import KNeighborsClassifier\n",
    "from sklearn import metrics, svm,tree\n",
    "from sklearn.model_selection import train_test_split,cross_val_score,cross_validate,GridSearchCV"
   ]
  },
  {
   "cell_type": "code",
   "execution_count": 63,
   "id": "d23b1b58",
   "metadata": {},
   "outputs": [
    {
     "data": {
      "text/html": [
       "<div>\n",
       "<style scoped>\n",
       "    .dataframe tbody tr th:only-of-type {\n",
       "        vertical-align: middle;\n",
       "    }\n",
       "\n",
       "    .dataframe tbody tr th {\n",
       "        vertical-align: top;\n",
       "    }\n",
       "\n",
       "    .dataframe thead th {\n",
       "        text-align: right;\n",
       "    }\n",
       "</style>\n",
       "<table border=\"1\" class=\"dataframe\">\n",
       "  <thead>\n",
       "    <tr style=\"text-align: right;\">\n",
       "      <th></th>\n",
       "      <th>age</th>\n",
       "      <th>workclass</th>\n",
       "      <th>fnlwgt</th>\n",
       "      <th>education</th>\n",
       "      <th>education-num</th>\n",
       "      <th>marital-status</th>\n",
       "      <th>occupation</th>\n",
       "      <th>relationship</th>\n",
       "      <th>race</th>\n",
       "      <th>sex</th>\n",
       "      <th>capital-gain</th>\n",
       "      <th>capital-loss</th>\n",
       "      <th>hours-per-week</th>\n",
       "      <th>native-country</th>\n",
       "      <th>&gt;50K, &lt;=50K.</th>\n",
       "    </tr>\n",
       "  </thead>\n",
       "  <tbody>\n",
       "    <tr>\n",
       "      <th>0</th>\n",
       "      <td>39</td>\n",
       "      <td>State-gov</td>\n",
       "      <td>77516</td>\n",
       "      <td>Bachelors</td>\n",
       "      <td>13</td>\n",
       "      <td>Never-married</td>\n",
       "      <td>Adm-clerical</td>\n",
       "      <td>Not-in-family</td>\n",
       "      <td>White</td>\n",
       "      <td>Male</td>\n",
       "      <td>2174</td>\n",
       "      <td>0</td>\n",
       "      <td>40</td>\n",
       "      <td>United-States</td>\n",
       "      <td>&lt;=50K</td>\n",
       "    </tr>\n",
       "    <tr>\n",
       "      <th>1</th>\n",
       "      <td>50</td>\n",
       "      <td>Self-emp-not-inc</td>\n",
       "      <td>83311</td>\n",
       "      <td>Bachelors</td>\n",
       "      <td>13</td>\n",
       "      <td>Married-civ-spouse</td>\n",
       "      <td>Exec-managerial</td>\n",
       "      <td>Husband</td>\n",
       "      <td>White</td>\n",
       "      <td>Male</td>\n",
       "      <td>0</td>\n",
       "      <td>0</td>\n",
       "      <td>13</td>\n",
       "      <td>United-States</td>\n",
       "      <td>&lt;=50K</td>\n",
       "    </tr>\n",
       "    <tr>\n",
       "      <th>2</th>\n",
       "      <td>38</td>\n",
       "      <td>Private</td>\n",
       "      <td>215646</td>\n",
       "      <td>HS-grad</td>\n",
       "      <td>9</td>\n",
       "      <td>Divorced</td>\n",
       "      <td>Handlers-cleaners</td>\n",
       "      <td>Not-in-family</td>\n",
       "      <td>White</td>\n",
       "      <td>Male</td>\n",
       "      <td>0</td>\n",
       "      <td>0</td>\n",
       "      <td>40</td>\n",
       "      <td>United-States</td>\n",
       "      <td>&lt;=50K</td>\n",
       "    </tr>\n",
       "    <tr>\n",
       "      <th>3</th>\n",
       "      <td>53</td>\n",
       "      <td>Private</td>\n",
       "      <td>234721</td>\n",
       "      <td>11th</td>\n",
       "      <td>7</td>\n",
       "      <td>Married-civ-spouse</td>\n",
       "      <td>Handlers-cleaners</td>\n",
       "      <td>Husband</td>\n",
       "      <td>Black</td>\n",
       "      <td>Male</td>\n",
       "      <td>0</td>\n",
       "      <td>0</td>\n",
       "      <td>40</td>\n",
       "      <td>United-States</td>\n",
       "      <td>&lt;=50K</td>\n",
       "    </tr>\n",
       "    <tr>\n",
       "      <th>4</th>\n",
       "      <td>28</td>\n",
       "      <td>Private</td>\n",
       "      <td>338409</td>\n",
       "      <td>Bachelors</td>\n",
       "      <td>13</td>\n",
       "      <td>Married-civ-spouse</td>\n",
       "      <td>Prof-specialty</td>\n",
       "      <td>Wife</td>\n",
       "      <td>Black</td>\n",
       "      <td>Female</td>\n",
       "      <td>0</td>\n",
       "      <td>0</td>\n",
       "      <td>40</td>\n",
       "      <td>Cuba</td>\n",
       "      <td>&lt;=50K</td>\n",
       "    </tr>\n",
       "  </tbody>\n",
       "</table>\n",
       "</div>"
      ],
      "text/plain": [
       "   age          workclass  fnlwgt   education  education-num  \\\n",
       "0   39          State-gov   77516   Bachelors             13   \n",
       "1   50   Self-emp-not-inc   83311   Bachelors             13   \n",
       "2   38            Private  215646     HS-grad              9   \n",
       "3   53            Private  234721        11th              7   \n",
       "4   28            Private  338409   Bachelors             13   \n",
       "\n",
       "        marital-status          occupation    relationship    race      sex  \\\n",
       "0        Never-married        Adm-clerical   Not-in-family   White     Male   \n",
       "1   Married-civ-spouse     Exec-managerial         Husband   White     Male   \n",
       "2             Divorced   Handlers-cleaners   Not-in-family   White     Male   \n",
       "3   Married-civ-spouse   Handlers-cleaners         Husband   Black     Male   \n",
       "4   Married-civ-spouse      Prof-specialty            Wife   Black   Female   \n",
       "\n",
       "   capital-gain  capital-loss  hours-per-week  native-country >50K, <=50K.  \n",
       "0          2174             0              40   United-States        <=50K  \n",
       "1             0             0              13   United-States        <=50K  \n",
       "2             0             0              40   United-States        <=50K  \n",
       "3             0             0              40   United-States        <=50K  \n",
       "4             0             0              40            Cuba        <=50K  "
      ]
     },
     "execution_count": 63,
     "metadata": {},
     "output_type": "execute_result"
    }
   ],
   "source": [
    "data = pd.read_csv('C:\\\\Users\\\\centrtal2021\\\\Desktop\\\\adultes.csv')\n",
    "data.head()"
   ]
  },
  {
   "cell_type": "code",
   "execution_count": 64,
   "id": "05a11761",
   "metadata": {},
   "outputs": [
    {
     "data": {
      "text/plain": [
       "array([0, 1])"
      ]
     },
     "execution_count": 64,
     "metadata": {},
     "output_type": "execute_result"
    }
   ],
   "source": [
    "# Import label encoder\n",
    "from sklearn import preprocessing\n",
    " \n",
    "# label_encoder object knows how to understand word labels.\n",
    "label_encoder = preprocessing.LabelEncoder()\n",
    " \n",
    "# Encode labels in column 'species'.\n",
    "data['workclass']= label_encoder.fit_transform(data['workclass'])\n",
    "data['workclass'].unique()\n",
    "\n",
    "data['education']= label_encoder.fit_transform(data['education'])\n",
    "data['education'].unique()\n",
    "\n",
    "data['marital-status']= label_encoder.fit_transform(data['marital-status'])\n",
    "data['marital-status'].unique()\n",
    "\n",
    "data['occupation']= label_encoder.fit_transform(data['occupation'])\n",
    "data['occupation'].unique()\n",
    "\n",
    "data['relationship']= label_encoder.fit_transform(data['relationship'])\n",
    "data['relationship'].unique()\n",
    "\n",
    "data['race']= label_encoder.fit_transform(data['race'])\n",
    "data['race'].unique()\n",
    "\n",
    "data['sex']= label_encoder.fit_transform(data['sex'])\n",
    "data['sex'].unique()\n",
    "\n",
    "data['native-country']= label_encoder.fit_transform(data['native-country'])\n",
    "data['native-country'].unique()\n",
    "\n",
    "data['>50K, <=50K.']= label_encoder.fit_transform(data['>50K, <=50K.'])\n",
    "data['>50K, <=50K.'].unique()"
   ]
  },
  {
   "cell_type": "code",
   "execution_count": 65,
   "id": "1dac9edd",
   "metadata": {},
   "outputs": [
    {
     "data": {
      "text/html": [
       "<div>\n",
       "<style scoped>\n",
       "    .dataframe tbody tr th:only-of-type {\n",
       "        vertical-align: middle;\n",
       "    }\n",
       "\n",
       "    .dataframe tbody tr th {\n",
       "        vertical-align: top;\n",
       "    }\n",
       "\n",
       "    .dataframe thead th {\n",
       "        text-align: right;\n",
       "    }\n",
       "</style>\n",
       "<table border=\"1\" class=\"dataframe\">\n",
       "  <thead>\n",
       "    <tr style=\"text-align: right;\">\n",
       "      <th></th>\n",
       "      <th>age</th>\n",
       "      <th>workclass</th>\n",
       "      <th>fnlwgt</th>\n",
       "      <th>education</th>\n",
       "      <th>education-num</th>\n",
       "      <th>marital-status</th>\n",
       "      <th>occupation</th>\n",
       "      <th>relationship</th>\n",
       "      <th>race</th>\n",
       "      <th>sex</th>\n",
       "      <th>capital-gain</th>\n",
       "      <th>capital-loss</th>\n",
       "      <th>hours-per-week</th>\n",
       "      <th>native-country</th>\n",
       "      <th>&gt;50K, &lt;=50K.</th>\n",
       "    </tr>\n",
       "  </thead>\n",
       "  <tbody>\n",
       "    <tr>\n",
       "      <th>0</th>\n",
       "      <td>39</td>\n",
       "      <td>7</td>\n",
       "      <td>77516</td>\n",
       "      <td>9</td>\n",
       "      <td>13</td>\n",
       "      <td>4</td>\n",
       "      <td>1</td>\n",
       "      <td>1</td>\n",
       "      <td>4</td>\n",
       "      <td>1</td>\n",
       "      <td>2174</td>\n",
       "      <td>0</td>\n",
       "      <td>40</td>\n",
       "      <td>39</td>\n",
       "      <td>0</td>\n",
       "    </tr>\n",
       "    <tr>\n",
       "      <th>1</th>\n",
       "      <td>50</td>\n",
       "      <td>6</td>\n",
       "      <td>83311</td>\n",
       "      <td>9</td>\n",
       "      <td>13</td>\n",
       "      <td>2</td>\n",
       "      <td>4</td>\n",
       "      <td>0</td>\n",
       "      <td>4</td>\n",
       "      <td>1</td>\n",
       "      <td>0</td>\n",
       "      <td>0</td>\n",
       "      <td>13</td>\n",
       "      <td>39</td>\n",
       "      <td>0</td>\n",
       "    </tr>\n",
       "    <tr>\n",
       "      <th>2</th>\n",
       "      <td>38</td>\n",
       "      <td>4</td>\n",
       "      <td>215646</td>\n",
       "      <td>11</td>\n",
       "      <td>9</td>\n",
       "      <td>0</td>\n",
       "      <td>6</td>\n",
       "      <td>1</td>\n",
       "      <td>4</td>\n",
       "      <td>1</td>\n",
       "      <td>0</td>\n",
       "      <td>0</td>\n",
       "      <td>40</td>\n",
       "      <td>39</td>\n",
       "      <td>0</td>\n",
       "    </tr>\n",
       "    <tr>\n",
       "      <th>3</th>\n",
       "      <td>53</td>\n",
       "      <td>4</td>\n",
       "      <td>234721</td>\n",
       "      <td>1</td>\n",
       "      <td>7</td>\n",
       "      <td>2</td>\n",
       "      <td>6</td>\n",
       "      <td>0</td>\n",
       "      <td>2</td>\n",
       "      <td>1</td>\n",
       "      <td>0</td>\n",
       "      <td>0</td>\n",
       "      <td>40</td>\n",
       "      <td>39</td>\n",
       "      <td>0</td>\n",
       "    </tr>\n",
       "    <tr>\n",
       "      <th>4</th>\n",
       "      <td>28</td>\n",
       "      <td>4</td>\n",
       "      <td>338409</td>\n",
       "      <td>9</td>\n",
       "      <td>13</td>\n",
       "      <td>2</td>\n",
       "      <td>10</td>\n",
       "      <td>5</td>\n",
       "      <td>2</td>\n",
       "      <td>0</td>\n",
       "      <td>0</td>\n",
       "      <td>0</td>\n",
       "      <td>40</td>\n",
       "      <td>5</td>\n",
       "      <td>0</td>\n",
       "    </tr>\n",
       "    <tr>\n",
       "      <th>5</th>\n",
       "      <td>37</td>\n",
       "      <td>4</td>\n",
       "      <td>284582</td>\n",
       "      <td>12</td>\n",
       "      <td>14</td>\n",
       "      <td>2</td>\n",
       "      <td>4</td>\n",
       "      <td>5</td>\n",
       "      <td>4</td>\n",
       "      <td>0</td>\n",
       "      <td>0</td>\n",
       "      <td>0</td>\n",
       "      <td>40</td>\n",
       "      <td>39</td>\n",
       "      <td>0</td>\n",
       "    </tr>\n",
       "    <tr>\n",
       "      <th>6</th>\n",
       "      <td>49</td>\n",
       "      <td>4</td>\n",
       "      <td>160187</td>\n",
       "      <td>6</td>\n",
       "      <td>5</td>\n",
       "      <td>3</td>\n",
       "      <td>8</td>\n",
       "      <td>1</td>\n",
       "      <td>2</td>\n",
       "      <td>0</td>\n",
       "      <td>0</td>\n",
       "      <td>0</td>\n",
       "      <td>16</td>\n",
       "      <td>23</td>\n",
       "      <td>0</td>\n",
       "    </tr>\n",
       "    <tr>\n",
       "      <th>7</th>\n",
       "      <td>52</td>\n",
       "      <td>6</td>\n",
       "      <td>209642</td>\n",
       "      <td>11</td>\n",
       "      <td>9</td>\n",
       "      <td>2</td>\n",
       "      <td>4</td>\n",
       "      <td>0</td>\n",
       "      <td>4</td>\n",
       "      <td>1</td>\n",
       "      <td>0</td>\n",
       "      <td>0</td>\n",
       "      <td>45</td>\n",
       "      <td>39</td>\n",
       "      <td>1</td>\n",
       "    </tr>\n",
       "    <tr>\n",
       "      <th>8</th>\n",
       "      <td>31</td>\n",
       "      <td>4</td>\n",
       "      <td>45781</td>\n",
       "      <td>12</td>\n",
       "      <td>14</td>\n",
       "      <td>4</td>\n",
       "      <td>10</td>\n",
       "      <td>1</td>\n",
       "      <td>4</td>\n",
       "      <td>0</td>\n",
       "      <td>14084</td>\n",
       "      <td>0</td>\n",
       "      <td>50</td>\n",
       "      <td>39</td>\n",
       "      <td>1</td>\n",
       "    </tr>\n",
       "    <tr>\n",
       "      <th>9</th>\n",
       "      <td>42</td>\n",
       "      <td>4</td>\n",
       "      <td>159449</td>\n",
       "      <td>9</td>\n",
       "      <td>13</td>\n",
       "      <td>2</td>\n",
       "      <td>4</td>\n",
       "      <td>0</td>\n",
       "      <td>4</td>\n",
       "      <td>1</td>\n",
       "      <td>5178</td>\n",
       "      <td>0</td>\n",
       "      <td>40</td>\n",
       "      <td>39</td>\n",
       "      <td>1</td>\n",
       "    </tr>\n",
       "    <tr>\n",
       "      <th>10</th>\n",
       "      <td>37</td>\n",
       "      <td>4</td>\n",
       "      <td>280464</td>\n",
       "      <td>15</td>\n",
       "      <td>10</td>\n",
       "      <td>2</td>\n",
       "      <td>4</td>\n",
       "      <td>0</td>\n",
       "      <td>2</td>\n",
       "      <td>1</td>\n",
       "      <td>0</td>\n",
       "      <td>0</td>\n",
       "      <td>80</td>\n",
       "      <td>39</td>\n",
       "      <td>1</td>\n",
       "    </tr>\n",
       "    <tr>\n",
       "      <th>11</th>\n",
       "      <td>30</td>\n",
       "      <td>7</td>\n",
       "      <td>141297</td>\n",
       "      <td>9</td>\n",
       "      <td>13</td>\n",
       "      <td>2</td>\n",
       "      <td>10</td>\n",
       "      <td>0</td>\n",
       "      <td>1</td>\n",
       "      <td>1</td>\n",
       "      <td>0</td>\n",
       "      <td>0</td>\n",
       "      <td>40</td>\n",
       "      <td>19</td>\n",
       "      <td>1</td>\n",
       "    </tr>\n",
       "    <tr>\n",
       "      <th>12</th>\n",
       "      <td>23</td>\n",
       "      <td>4</td>\n",
       "      <td>122272</td>\n",
       "      <td>9</td>\n",
       "      <td>13</td>\n",
       "      <td>4</td>\n",
       "      <td>1</td>\n",
       "      <td>3</td>\n",
       "      <td>4</td>\n",
       "      <td>0</td>\n",
       "      <td>0</td>\n",
       "      <td>0</td>\n",
       "      <td>30</td>\n",
       "      <td>39</td>\n",
       "      <td>0</td>\n",
       "    </tr>\n",
       "    <tr>\n",
       "      <th>13</th>\n",
       "      <td>32</td>\n",
       "      <td>4</td>\n",
       "      <td>205019</td>\n",
       "      <td>7</td>\n",
       "      <td>12</td>\n",
       "      <td>4</td>\n",
       "      <td>12</td>\n",
       "      <td>1</td>\n",
       "      <td>2</td>\n",
       "      <td>1</td>\n",
       "      <td>0</td>\n",
       "      <td>0</td>\n",
       "      <td>50</td>\n",
       "      <td>39</td>\n",
       "      <td>0</td>\n",
       "    </tr>\n",
       "    <tr>\n",
       "      <th>14</th>\n",
       "      <td>40</td>\n",
       "      <td>4</td>\n",
       "      <td>121772</td>\n",
       "      <td>8</td>\n",
       "      <td>11</td>\n",
       "      <td>2</td>\n",
       "      <td>3</td>\n",
       "      <td>0</td>\n",
       "      <td>1</td>\n",
       "      <td>1</td>\n",
       "      <td>0</td>\n",
       "      <td>0</td>\n",
       "      <td>40</td>\n",
       "      <td>0</td>\n",
       "      <td>1</td>\n",
       "    </tr>\n",
       "  </tbody>\n",
       "</table>\n",
       "</div>"
      ],
      "text/plain": [
       "    age  workclass  fnlwgt  education  education-num  marital-status  \\\n",
       "0    39          7   77516          9             13               4   \n",
       "1    50          6   83311          9             13               2   \n",
       "2    38          4  215646         11              9               0   \n",
       "3    53          4  234721          1              7               2   \n",
       "4    28          4  338409          9             13               2   \n",
       "5    37          4  284582         12             14               2   \n",
       "6    49          4  160187          6              5               3   \n",
       "7    52          6  209642         11              9               2   \n",
       "8    31          4   45781         12             14               4   \n",
       "9    42          4  159449          9             13               2   \n",
       "10   37          4  280464         15             10               2   \n",
       "11   30          7  141297          9             13               2   \n",
       "12   23          4  122272          9             13               4   \n",
       "13   32          4  205019          7             12               4   \n",
       "14   40          4  121772          8             11               2   \n",
       "\n",
       "    occupation  relationship  race  sex  capital-gain  capital-loss  \\\n",
       "0            1             1     4    1          2174             0   \n",
       "1            4             0     4    1             0             0   \n",
       "2            6             1     4    1             0             0   \n",
       "3            6             0     2    1             0             0   \n",
       "4           10             5     2    0             0             0   \n",
       "5            4             5     4    0             0             0   \n",
       "6            8             1     2    0             0             0   \n",
       "7            4             0     4    1             0             0   \n",
       "8           10             1     4    0         14084             0   \n",
       "9            4             0     4    1          5178             0   \n",
       "10           4             0     2    1             0             0   \n",
       "11          10             0     1    1             0             0   \n",
       "12           1             3     4    0             0             0   \n",
       "13          12             1     2    1             0             0   \n",
       "14           3             0     1    1             0             0   \n",
       "\n",
       "    hours-per-week  native-country  >50K, <=50K.  \n",
       "0               40              39             0  \n",
       "1               13              39             0  \n",
       "2               40              39             0  \n",
       "3               40              39             0  \n",
       "4               40               5             0  \n",
       "5               40              39             0  \n",
       "6               16              23             0  \n",
       "7               45              39             1  \n",
       "8               50              39             1  \n",
       "9               40              39             1  \n",
       "10              80              39             1  \n",
       "11              40              19             1  \n",
       "12              30              39             0  \n",
       "13              50              39             0  \n",
       "14              40               0             1  "
      ]
     },
     "execution_count": 65,
     "metadata": {},
     "output_type": "execute_result"
    }
   ],
   "source": [
    "data.head(15)"
   ]
  },
  {
   "cell_type": "code",
   "execution_count": 66,
   "id": "e8680fad",
   "metadata": {},
   "outputs": [
    {
     "data": {
      "text/html": [
       "<div>\n",
       "<style scoped>\n",
       "    .dataframe tbody tr th:only-of-type {\n",
       "        vertical-align: middle;\n",
       "    }\n",
       "\n",
       "    .dataframe tbody tr th {\n",
       "        vertical-align: top;\n",
       "    }\n",
       "\n",
       "    .dataframe thead th {\n",
       "        text-align: right;\n",
       "    }\n",
       "</style>\n",
       "<table border=\"1\" class=\"dataframe\">\n",
       "  <thead>\n",
       "    <tr style=\"text-align: right;\">\n",
       "      <th></th>\n",
       "      <th>age</th>\n",
       "      <th>workclass</th>\n",
       "      <th>fnlwgt</th>\n",
       "      <th>education</th>\n",
       "      <th>education-num</th>\n",
       "      <th>marital-status</th>\n",
       "      <th>occupation</th>\n",
       "      <th>relationship</th>\n",
       "      <th>race</th>\n",
       "      <th>sex</th>\n",
       "      <th>capital-gain</th>\n",
       "      <th>capital-loss</th>\n",
       "      <th>hours-per-week</th>\n",
       "      <th>native-country</th>\n",
       "      <th>&gt;50K, &lt;=50K.</th>\n",
       "    </tr>\n",
       "  </thead>\n",
       "  <tbody>\n",
       "    <tr>\n",
       "      <th>1147</th>\n",
       "      <td>46</td>\n",
       "      <td>4</td>\n",
       "      <td>185041</td>\n",
       "      <td>11</td>\n",
       "      <td>9</td>\n",
       "      <td>2</td>\n",
       "      <td>7</td>\n",
       "      <td>0</td>\n",
       "      <td>4</td>\n",
       "      <td>1</td>\n",
       "      <td>0</td>\n",
       "      <td>0</td>\n",
       "      <td>50</td>\n",
       "      <td>39</td>\n",
       "      <td>0</td>\n",
       "    </tr>\n",
       "    <tr>\n",
       "      <th>16572</th>\n",
       "      <td>45</td>\n",
       "      <td>7</td>\n",
       "      <td>36032</td>\n",
       "      <td>11</td>\n",
       "      <td>9</td>\n",
       "      <td>0</td>\n",
       "      <td>11</td>\n",
       "      <td>4</td>\n",
       "      <td>2</td>\n",
       "      <td>0</td>\n",
       "      <td>0</td>\n",
       "      <td>0</td>\n",
       "      <td>40</td>\n",
       "      <td>39</td>\n",
       "      <td>0</td>\n",
       "    </tr>\n",
       "    <tr>\n",
       "      <th>5866</th>\n",
       "      <td>51</td>\n",
       "      <td>6</td>\n",
       "      <td>25932</td>\n",
       "      <td>11</td>\n",
       "      <td>9</td>\n",
       "      <td>2</td>\n",
       "      <td>5</td>\n",
       "      <td>0</td>\n",
       "      <td>4</td>\n",
       "      <td>1</td>\n",
       "      <td>0</td>\n",
       "      <td>0</td>\n",
       "      <td>60</td>\n",
       "      <td>39</td>\n",
       "      <td>0</td>\n",
       "    </tr>\n",
       "    <tr>\n",
       "      <th>1219</th>\n",
       "      <td>38</td>\n",
       "      <td>4</td>\n",
       "      <td>200818</td>\n",
       "      <td>14</td>\n",
       "      <td>15</td>\n",
       "      <td>2</td>\n",
       "      <td>10</td>\n",
       "      <td>0</td>\n",
       "      <td>4</td>\n",
       "      <td>1</td>\n",
       "      <td>0</td>\n",
       "      <td>0</td>\n",
       "      <td>40</td>\n",
       "      <td>39</td>\n",
       "      <td>1</td>\n",
       "    </tr>\n",
       "    <tr>\n",
       "      <th>4264</th>\n",
       "      <td>49</td>\n",
       "      <td>4</td>\n",
       "      <td>204629</td>\n",
       "      <td>9</td>\n",
       "      <td>13</td>\n",
       "      <td>2</td>\n",
       "      <td>4</td>\n",
       "      <td>0</td>\n",
       "      <td>4</td>\n",
       "      <td>1</td>\n",
       "      <td>0</td>\n",
       "      <td>0</td>\n",
       "      <td>40</td>\n",
       "      <td>39</td>\n",
       "      <td>1</td>\n",
       "    </tr>\n",
       "    <tr>\n",
       "      <th>20705</th>\n",
       "      <td>33</td>\n",
       "      <td>2</td>\n",
       "      <td>156015</td>\n",
       "      <td>8</td>\n",
       "      <td>11</td>\n",
       "      <td>2</td>\n",
       "      <td>13</td>\n",
       "      <td>0</td>\n",
       "      <td>4</td>\n",
       "      <td>1</td>\n",
       "      <td>0</td>\n",
       "      <td>0</td>\n",
       "      <td>40</td>\n",
       "      <td>39</td>\n",
       "      <td>0</td>\n",
       "    </tr>\n",
       "    <tr>\n",
       "      <th>13044</th>\n",
       "      <td>45</td>\n",
       "      <td>4</td>\n",
       "      <td>27332</td>\n",
       "      <td>11</td>\n",
       "      <td>9</td>\n",
       "      <td>0</td>\n",
       "      <td>12</td>\n",
       "      <td>1</td>\n",
       "      <td>4</td>\n",
       "      <td>0</td>\n",
       "      <td>0</td>\n",
       "      <td>0</td>\n",
       "      <td>40</td>\n",
       "      <td>39</td>\n",
       "      <td>0</td>\n",
       "    </tr>\n",
       "    <tr>\n",
       "      <th>4710</th>\n",
       "      <td>26</td>\n",
       "      <td>4</td>\n",
       "      <td>210812</td>\n",
       "      <td>15</td>\n",
       "      <td>10</td>\n",
       "      <td>0</td>\n",
       "      <td>3</td>\n",
       "      <td>1</td>\n",
       "      <td>4</td>\n",
       "      <td>1</td>\n",
       "      <td>0</td>\n",
       "      <td>0</td>\n",
       "      <td>43</td>\n",
       "      <td>39</td>\n",
       "      <td>0</td>\n",
       "    </tr>\n",
       "    <tr>\n",
       "      <th>9699</th>\n",
       "      <td>28</td>\n",
       "      <td>4</td>\n",
       "      <td>109162</td>\n",
       "      <td>12</td>\n",
       "      <td>14</td>\n",
       "      <td>4</td>\n",
       "      <td>10</td>\n",
       "      <td>1</td>\n",
       "      <td>4</td>\n",
       "      <td>0</td>\n",
       "      <td>0</td>\n",
       "      <td>0</td>\n",
       "      <td>50</td>\n",
       "      <td>39</td>\n",
       "      <td>0</td>\n",
       "    </tr>\n",
       "    <tr>\n",
       "      <th>7571</th>\n",
       "      <td>51</td>\n",
       "      <td>4</td>\n",
       "      <td>196501</td>\n",
       "      <td>9</td>\n",
       "      <td>13</td>\n",
       "      <td>0</td>\n",
       "      <td>4</td>\n",
       "      <td>1</td>\n",
       "      <td>4</td>\n",
       "      <td>1</td>\n",
       "      <td>14084</td>\n",
       "      <td>0</td>\n",
       "      <td>50</td>\n",
       "      <td>39</td>\n",
       "      <td>1</td>\n",
       "    </tr>\n",
       "    <tr>\n",
       "      <th>9345</th>\n",
       "      <td>49</td>\n",
       "      <td>4</td>\n",
       "      <td>170871</td>\n",
       "      <td>12</td>\n",
       "      <td>14</td>\n",
       "      <td>2</td>\n",
       "      <td>4</td>\n",
       "      <td>0</td>\n",
       "      <td>4</td>\n",
       "      <td>1</td>\n",
       "      <td>0</td>\n",
       "      <td>0</td>\n",
       "      <td>45</td>\n",
       "      <td>39</td>\n",
       "      <td>1</td>\n",
       "    </tr>\n",
       "  </tbody>\n",
       "</table>\n",
       "</div>"
      ],
      "text/plain": [
       "       age  workclass  fnlwgt  education  education-num  marital-status  \\\n",
       "1147    46          4  185041         11              9               2   \n",
       "16572   45          7   36032         11              9               0   \n",
       "5866    51          6   25932         11              9               2   \n",
       "1219    38          4  200818         14             15               2   \n",
       "4264    49          4  204629          9             13               2   \n",
       "20705   33          2  156015          8             11               2   \n",
       "13044   45          4   27332         11              9               0   \n",
       "4710    26          4  210812         15             10               0   \n",
       "9699    28          4  109162         12             14               4   \n",
       "7571    51          4  196501          9             13               0   \n",
       "9345    49          4  170871         12             14               2   \n",
       "\n",
       "       occupation  relationship  race  sex  capital-gain  capital-loss  \\\n",
       "1147            7             0     4    1             0             0   \n",
       "16572          11             4     2    0             0             0   \n",
       "5866            5             0     4    1             0             0   \n",
       "1219           10             0     4    1             0             0   \n",
       "4264            4             0     4    1             0             0   \n",
       "20705          13             0     4    1             0             0   \n",
       "13044          12             1     4    0             0             0   \n",
       "4710            3             1     4    1             0             0   \n",
       "9699           10             1     4    0             0             0   \n",
       "7571            4             1     4    1         14084             0   \n",
       "9345            4             0     4    1             0             0   \n",
       "\n",
       "       hours-per-week  native-country  >50K, <=50K.  \n",
       "1147               50              39             0  \n",
       "16572              40              39             0  \n",
       "5866               60              39             0  \n",
       "1219               40              39             1  \n",
       "4264               40              39             1  \n",
       "20705              40              39             0  \n",
       "13044              40              39             0  \n",
       "4710               43              39             0  \n",
       "9699               50              39             0  \n",
       "7571               50              39             1  \n",
       "9345               45              39             1  "
      ]
     },
     "execution_count": 66,
     "metadata": {},
     "output_type": "execute_result"
    }
   ],
   "source": [
    "df1=data.sample(n=3256)\n",
    "df1.head(11)"
   ]
  },
  {
   "cell_type": "code",
   "execution_count": 67,
   "id": "76e8b975",
   "metadata": {},
   "outputs": [],
   "source": [
    "data=data.drop(df1.index)"
   ]
  },
  {
   "cell_type": "code",
   "execution_count": 68,
   "id": "2baa7efd",
   "metadata": {},
   "outputs": [],
   "source": [
    "df2=data.sample(n=3256)\n",
    "data=data.drop(df2.index)\n",
    "df3=data.sample(n=3256)\n",
    "data=data.drop(df3.index)\n",
    "df4=data.sample(n=3256)\n",
    "data=data.drop(df4.index)\n",
    "df5=data.sample(n=3256)\n",
    "data=data.drop(df5.index)\n",
    "df6=data.sample(n=3256)\n",
    "data=data.drop(df6.index)\n",
    "df7=data.sample(n=3256)\n",
    "data=data.drop(df7.index)\n",
    "df8=data.sample(n=3256)\n",
    "data=data.drop(df8.index)\n",
    "df9=data.sample(n=3256)\n",
    "data=data.drop(df9.index)\n",
    "df10=data.sample(n=3256)\n",
    "data=data.drop(df10.index)"
   ]
  },
  {
   "cell_type": "code",
   "execution_count": 69,
   "id": "d657d7e3",
   "metadata": {},
   "outputs": [
    {
     "data": {
      "text/html": [
       "<div>\n",
       "<style scoped>\n",
       "    .dataframe tbody tr th:only-of-type {\n",
       "        vertical-align: middle;\n",
       "    }\n",
       "\n",
       "    .dataframe tbody tr th {\n",
       "        vertical-align: top;\n",
       "    }\n",
       "\n",
       "    .dataframe thead th {\n",
       "        text-align: right;\n",
       "    }\n",
       "</style>\n",
       "<table border=\"1\" class=\"dataframe\">\n",
       "  <thead>\n",
       "    <tr style=\"text-align: right;\">\n",
       "      <th></th>\n",
       "      <th>age</th>\n",
       "      <th>workclass</th>\n",
       "      <th>fnlwgt</th>\n",
       "      <th>education</th>\n",
       "      <th>education-num</th>\n",
       "      <th>marital-status</th>\n",
       "      <th>occupation</th>\n",
       "      <th>relationship</th>\n",
       "      <th>race</th>\n",
       "      <th>sex</th>\n",
       "      <th>capital-gain</th>\n",
       "      <th>capital-loss</th>\n",
       "      <th>hours-per-week</th>\n",
       "      <th>native-country</th>\n",
       "      <th>&gt;50K, &lt;=50K.</th>\n",
       "    </tr>\n",
       "  </thead>\n",
       "  <tbody>\n",
       "    <tr>\n",
       "      <th>24316</th>\n",
       "      <td>56</td>\n",
       "      <td>4</td>\n",
       "      <td>189975</td>\n",
       "      <td>15</td>\n",
       "      <td>10</td>\n",
       "      <td>2</td>\n",
       "      <td>3</td>\n",
       "      <td>0</td>\n",
       "      <td>4</td>\n",
       "      <td>1</td>\n",
       "      <td>0</td>\n",
       "      <td>1902</td>\n",
       "      <td>60</td>\n",
       "      <td>39</td>\n",
       "      <td>1</td>\n",
       "    </tr>\n",
       "  </tbody>\n",
       "</table>\n",
       "</div>"
      ],
      "text/plain": [
       "       age  workclass  fnlwgt  education  education-num  marital-status  \\\n",
       "24316   56          4  189975         15             10               2   \n",
       "\n",
       "       occupation  relationship  race  sex  capital-gain  capital-loss  \\\n",
       "24316           3             0     4    1             0          1902   \n",
       "\n",
       "       hours-per-week  native-country  >50K, <=50K.  \n",
       "24316              60              39             1  "
      ]
     },
     "execution_count": 69,
     "metadata": {},
     "output_type": "execute_result"
    }
   ],
   "source": [
    "data.head()"
   ]
  },
  {
   "cell_type": "code",
   "execution_count": 70,
   "id": "959aea15",
   "metadata": {},
   "outputs": [],
   "source": [
    "from sklearn.tree import DecisionTreeClassifier # Import Decision Tree Classifier\n",
    "from sklearn.model_selection import train_test_split # Import train_test_split function\n",
    "from sklearn import metrics #Import scikit-learn metrics module for accuracy calculation"
   ]
  },
  {
   "cell_type": "code",
   "execution_count": 71,
   "id": "2ab53c6f",
   "metadata": {},
   "outputs": [
    {
     "data": {
      "text/html": [
       "<div>\n",
       "<style scoped>\n",
       "    .dataframe tbody tr th:only-of-type {\n",
       "        vertical-align: middle;\n",
       "    }\n",
       "\n",
       "    .dataframe tbody tr th {\n",
       "        vertical-align: top;\n",
       "    }\n",
       "\n",
       "    .dataframe thead th {\n",
       "        text-align: right;\n",
       "    }\n",
       "</style>\n",
       "<table border=\"1\" class=\"dataframe\">\n",
       "  <thead>\n",
       "    <tr style=\"text-align: right;\">\n",
       "      <th></th>\n",
       "      <th>age</th>\n",
       "      <th>workclass</th>\n",
       "      <th>fnlwgt</th>\n",
       "      <th>education</th>\n",
       "      <th>education-num</th>\n",
       "      <th>marital-status</th>\n",
       "      <th>occupation</th>\n",
       "      <th>relationship</th>\n",
       "      <th>race</th>\n",
       "      <th>sex</th>\n",
       "      <th>capital-gain</th>\n",
       "      <th>capital-loss</th>\n",
       "      <th>hours-per-week</th>\n",
       "      <th>native-country</th>\n",
       "      <th>&gt;50K, &lt;=50K.</th>\n",
       "    </tr>\n",
       "  </thead>\n",
       "  <tbody>\n",
       "    <tr>\n",
       "      <th>1147</th>\n",
       "      <td>46</td>\n",
       "      <td>4</td>\n",
       "      <td>185041</td>\n",
       "      <td>11</td>\n",
       "      <td>9</td>\n",
       "      <td>2</td>\n",
       "      <td>7</td>\n",
       "      <td>0</td>\n",
       "      <td>4</td>\n",
       "      <td>1</td>\n",
       "      <td>0</td>\n",
       "      <td>0</td>\n",
       "      <td>50</td>\n",
       "      <td>39</td>\n",
       "      <td>0</td>\n",
       "    </tr>\n",
       "    <tr>\n",
       "      <th>16572</th>\n",
       "      <td>45</td>\n",
       "      <td>7</td>\n",
       "      <td>36032</td>\n",
       "      <td>11</td>\n",
       "      <td>9</td>\n",
       "      <td>0</td>\n",
       "      <td>11</td>\n",
       "      <td>4</td>\n",
       "      <td>2</td>\n",
       "      <td>0</td>\n",
       "      <td>0</td>\n",
       "      <td>0</td>\n",
       "      <td>40</td>\n",
       "      <td>39</td>\n",
       "      <td>0</td>\n",
       "    </tr>\n",
       "    <tr>\n",
       "      <th>5866</th>\n",
       "      <td>51</td>\n",
       "      <td>6</td>\n",
       "      <td>25932</td>\n",
       "      <td>11</td>\n",
       "      <td>9</td>\n",
       "      <td>2</td>\n",
       "      <td>5</td>\n",
       "      <td>0</td>\n",
       "      <td>4</td>\n",
       "      <td>1</td>\n",
       "      <td>0</td>\n",
       "      <td>0</td>\n",
       "      <td>60</td>\n",
       "      <td>39</td>\n",
       "      <td>0</td>\n",
       "    </tr>\n",
       "    <tr>\n",
       "      <th>1219</th>\n",
       "      <td>38</td>\n",
       "      <td>4</td>\n",
       "      <td>200818</td>\n",
       "      <td>14</td>\n",
       "      <td>15</td>\n",
       "      <td>2</td>\n",
       "      <td>10</td>\n",
       "      <td>0</td>\n",
       "      <td>4</td>\n",
       "      <td>1</td>\n",
       "      <td>0</td>\n",
       "      <td>0</td>\n",
       "      <td>40</td>\n",
       "      <td>39</td>\n",
       "      <td>1</td>\n",
       "    </tr>\n",
       "    <tr>\n",
       "      <th>4264</th>\n",
       "      <td>49</td>\n",
       "      <td>4</td>\n",
       "      <td>204629</td>\n",
       "      <td>9</td>\n",
       "      <td>13</td>\n",
       "      <td>2</td>\n",
       "      <td>4</td>\n",
       "      <td>0</td>\n",
       "      <td>4</td>\n",
       "      <td>1</td>\n",
       "      <td>0</td>\n",
       "      <td>0</td>\n",
       "      <td>40</td>\n",
       "      <td>39</td>\n",
       "      <td>1</td>\n",
       "    </tr>\n",
       "  </tbody>\n",
       "</table>\n",
       "</div>"
      ],
      "text/plain": [
       "       age  workclass  fnlwgt  education  education-num  marital-status  \\\n",
       "1147    46          4  185041         11              9               2   \n",
       "16572   45          7   36032         11              9               0   \n",
       "5866    51          6   25932         11              9               2   \n",
       "1219    38          4  200818         14             15               2   \n",
       "4264    49          4  204629          9             13               2   \n",
       "\n",
       "       occupation  relationship  race  sex  capital-gain  capital-loss  \\\n",
       "1147            7             0     4    1             0             0   \n",
       "16572          11             4     2    0             0             0   \n",
       "5866            5             0     4    1             0             0   \n",
       "1219           10             0     4    1             0             0   \n",
       "4264            4             0     4    1             0             0   \n",
       "\n",
       "       hours-per-week  native-country  >50K, <=50K.  \n",
       "1147               50              39             0  \n",
       "16572              40              39             0  \n",
       "5866               60              39             0  \n",
       "1219               40              39             1  \n",
       "4264               40              39             1  "
      ]
     },
     "execution_count": 71,
     "metadata": {},
     "output_type": "execute_result"
    }
   ],
   "source": [
    "df1.head()"
   ]
  },
  {
   "cell_type": "markdown",
   "id": "036a3c27",
   "metadata": {},
   "source": [
    "# #DT by df1"
   ]
  },
  {
   "cell_type": "code",
   "execution_count": 72,
   "id": "7b5b0616",
   "metadata": {},
   "outputs": [],
   "source": [
    "Xtrain=df1.iloc[:, :-1]\n",
    "Ytrain=df1.iloc[:,-1]\n",
    "Xtest=df10.iloc[:, :-1]\n",
    "Ytest=df10.iloc[:,-1]"
   ]
  },
  {
   "cell_type": "code",
   "execution_count": 73,
   "id": "b064e7bb",
   "metadata": {},
   "outputs": [
    {
     "data": {
      "text/plain": [
       "array([0, 0, 1, ..., 1, 1, 0])"
      ]
     },
     "execution_count": 73,
     "metadata": {},
     "output_type": "execute_result"
    }
   ],
   "source": [
    "DT = DecisionTreeClassifier()\n",
    "\n",
    "\n",
    "DT.fit(Xtrain, Ytrain)\n",
    "#روی چه دیتایی فیت بشه\n",
    "\n",
    "\n",
    "pred = DT.predict(Xtest)\n",
    "#ارزیابی داده های آزمایش جهت پیش بینی\n",
    "\n",
    "pred"
   ]
  },
  {
   "cell_type": "code",
   "execution_count": 74,
   "id": "57f0d519",
   "metadata": {},
   "outputs": [
    {
     "data": {
      "text/plain": [
       "4963      True\n",
       "28526     True\n",
       "14506    False\n",
       "25062    False\n",
       "4863     False\n",
       "         ...  \n",
       "28191     True\n",
       "30882    False\n",
       "4808      True\n",
       "20884     True\n",
       "29870     True\n",
       "Name: >50K, <=50K., Length: 3256, dtype: bool"
      ]
     },
     "execution_count": 74,
     "metadata": {},
     "output_type": "execute_result"
    }
   ],
   "source": [
    "pred == Ytest\n",
    "#نمایش پیش بینی درست و غلط"
   ]
  },
  {
   "cell_type": "code",
   "execution_count": 75,
   "id": "6457746c",
   "metadata": {},
   "outputs": [
    {
     "data": {
      "text/plain": [
       "0.8077395577395577"
      ]
     },
     "execution_count": 75,
     "metadata": {},
     "output_type": "execute_result"
    }
   ],
   "source": [
    "(pred == Ytest).mean()\n",
    "#accuracy"
   ]
  },
  {
   "cell_type": "code",
   "execution_count": 76,
   "id": "a206ec02",
   "metadata": {},
   "outputs": [
    {
     "name": "stdout",
     "output_type": "stream",
     "text": [
      "Accuracy: 0.8077395577395577\n"
     ]
    }
   ],
   "source": [
    "# Model Accuracy, how often is the classifier correct?\n",
    "print(\"Accuracy:\",metrics.accuracy_score(Ytest,pred))"
   ]
  },
  {
   "cell_type": "code",
   "execution_count": 77,
   "id": "36eb7761",
   "metadata": {},
   "outputs": [
    {
     "name": "stdout",
     "output_type": "stream",
     "text": [
      "0.8022113022113022 0.6086956521739131 0.5847665847665847 0.5964912280701755\n",
      "[[2136  338]\n",
      " [ 306  476]]\n",
      "              precision    recall  f1-score   support\n",
      "\n",
      "           0       0.87      0.86      0.87      2474\n",
      "           1       0.58      0.61      0.60       782\n",
      "\n",
      "    accuracy                           0.80      3256\n",
      "   macro avg       0.73      0.74      0.73      3256\n",
      "weighted avg       0.81      0.80      0.80      3256\n",
      "\n"
     ]
    }
   ],
   "source": [
    "from sklearn.metrics import accuracy_score,recall_score,precision_score, f1_score, confusion_matrix\n",
    "\n",
    "from sklearn.tree import DecisionTreeClassifier\n",
    "\n",
    "DT = DecisionTreeClassifier()\n",
    "DT.fit(Xtrain, Ytrain)\n",
    "pred = DT.predict(Xtest)\n",
    "\n",
    "\n",
    "acc = accuracy_score(Ytest, pred)\n",
    "#برای وقتی هست که داده ها متوازن باشن\n",
    "rec = recall_score(Ytest, pred)\n",
    "\n",
    "\n",
    "\n",
    "pre = precision_score(Ytest, pred)\n",
    "\n",
    "\n",
    "fm = f1_score(Ytest, pred)\n",
    "\n",
    "\n",
    "conf = confusion_matrix(Ytest, pred)\n",
    "\n",
    "print(acc, rec, pre, fm)\n",
    "print(conf)\n",
    "print(classification_report(Ytest, pred))\n",
    "# دو هزار صد سی شش داده به درستی صفر تشخیص داده شده\n",
    "#چهارصد هفتاد شش داده به درستی یک تشخیص داده شده\n",
    "# باقی مانده اشتباهات  هستند"
   ]
  },
  {
   "cell_type": "code",
   "execution_count": 78,
   "id": "43a128ad",
   "metadata": {},
   "outputs": [
    {
     "name": "stdout",
     "output_type": "stream",
     "text": [
      "0.8633791430881164 0.8746928746928747 0.8689991863303498\n"
     ]
    }
   ],
   "source": [
    "rec = recall_score(Ytest, pred, pos_label = 0)\n",
    "pre = precision_score(Ytest, pred,pos_label = 0 )\n",
    "fm = f1_score(Ytest, pred, pos_label = 0)\n",
    "print(rec, pre, fm)\n"
   ]
  },
  {
   "cell_type": "markdown",
   "id": "0d891fd7",
   "metadata": {},
   "source": [
    "# pruning and train-test graph"
   ]
  },
  {
   "cell_type": "code",
   "execution_count": 92,
   "id": "5e9b60c0",
   "metadata": {},
   "outputs": [],
   "source": [
    "# helper function\n",
    "classes=['<=50','>=50']\n",
    "def plot_confusionmatrix(y_train_pred,Ytrain,dom):\n",
    "    print(f'{dom} Confusion matrix')\n",
    "    cf = confusion_matrix(y_train_pred,Ytrain)\n",
    "    sns.heatmap(cf,annot=True,yticklabels=classes\n",
    "               ,xticklabels=classes,cmap='Blues', fmt='g')\n",
    "    plt.tight_layout()\n",
    "    plt.show()"
   ]
  },
  {
   "cell_type": "code",
   "execution_count": 80,
   "id": "ab34bf93",
   "metadata": {},
   "outputs": [
    {
     "name": "stdout",
     "output_type": "stream",
     "text": [
      "[0.         0.00015298 0.00019013 0.00019688 0.00019906 0.00020234\n",
      " 0.00020295 0.000204   0.00020475 0.00020475 0.00020475 0.00020475\n",
      " 0.0002457  0.0002457  0.0002457  0.0002457  0.00024578 0.00025594\n",
      " 0.00025594 0.00025594 0.00025594 0.00025594 0.00025594 0.00025594\n",
      " 0.00025875 0.00025988 0.00026325 0.00026325 0.00026873 0.00027056\n",
      " 0.000273   0.000273   0.000273   0.000273   0.0002792  0.0002792\n",
      " 0.0002835  0.0002835  0.00028519 0.0002858  0.00028793 0.00028906\n",
      " 0.00029006 0.00029177 0.00029317 0.00029484 0.00029531 0.00029531\n",
      " 0.00029722 0.00029809 0.00029835 0.00029871 0.00029998 0.00030059\n",
      " 0.00030073 0.00030122 0.0003015  0.00030713 0.00030713 0.00030713\n",
      " 0.00030713 0.00030713 0.00031152 0.00031468 0.00032175 0.00033505\n",
      " 0.00033505 0.00033631 0.00034125 0.00034125 0.00034247 0.000351\n",
      " 0.000351   0.000351   0.00035263 0.00035387 0.00036563 0.00036855\n",
      " 0.00036855 0.00036855 0.00036855 0.00036855 0.00036873 0.00037275\n",
      " 0.00038457 0.00039007 0.00039207 0.00039488 0.00039709 0.00039709\n",
      " 0.00039886 0.00040171 0.00040347 0.00040838 0.0004095  0.0004095\n",
      " 0.0004095  0.0004095  0.0004095  0.0004095  0.0004095  0.00041083\n",
      " 0.00041376 0.0004212  0.0004212  0.00042393 0.00043077 0.0004368\n",
      " 0.00043893 0.00044337 0.00044543 0.00044673 0.00044673 0.00044882\n",
      " 0.00044908 0.00045773 0.00046069 0.00046069 0.00046069 0.00046069\n",
      " 0.00046069 0.00046534 0.000468   0.000468   0.0004914  0.0004914\n",
      " 0.0004914  0.0004914  0.0004914  0.00050585 0.00051041 0.00051519\n",
      " 0.00052345 0.0005265  0.0005265  0.0005265  0.00052796 0.00053278\n",
      " 0.00053747 0.00053747 0.00054982 0.0005519  0.00055283 0.00055607\n",
      " 0.00056064 0.00056204 0.00057519 0.00057586 0.00059231 0.00059231\n",
      " 0.00059615 0.00063172 0.000633   0.000648   0.0006552  0.00066391\n",
      " 0.00067192 0.00067214 0.00067742 0.00067772 0.00068405 0.00069447\n",
      " 0.00069574 0.00069863 0.00071228 0.00071654 0.00072653 0.00073667\n",
      " 0.00074093 0.00075054 0.00078665 0.00081557 0.00082356 0.00086046\n",
      " 0.0009132  0.00107655 0.00111924 0.00113556 0.00114278 0.00121351\n",
      " 0.00128134 0.00128374 0.00128925 0.00142155 0.00154419 0.00164886\n",
      " 0.00167786 0.001691   0.00181206 0.00220688 0.0022913  0.00269972\n",
      " 0.00331698 0.00333799 0.00503622 0.01183408 0.01361437 0.02144133\n",
      " 0.02908995 0.05896073]\n"
     ]
    }
   ],
   "source": [
    "path = DT.cost_complexity_pruning_path(Xtrain, Ytrain)\n",
    "ccp_alphas, impurities = path.ccp_alphas, path.impurities\n",
    "print(ccp_alphas)"
   ]
  },
  {
   "cell_type": "code",
   "execution_count": 82,
   "id": "d997a45a",
   "metadata": {},
   "outputs": [],
   "source": [
    "# For each alpha we will append our model to a list\n",
    "DTs = []\n",
    "for ccp_alpha in ccp_alphas:\n",
    "    DT = tree.DecisionTreeClassifier(random_state=0, ccp_alpha=ccp_alpha)\n",
    "    DT.fit(Xtrain, Ytrain)\n",
    "    DTs.append(DT)"
   ]
  },
  {
   "cell_type": "code",
   "execution_count": 83,
   "id": "3aa44450",
   "metadata": {},
   "outputs": [
    {
     "data": {
      "image/png": "[encoded data removed]",
      "text/plain": [
       "<Figure size 432x288 with 1 Axes>"
      ]
     },
     "metadata": {
      "needs_background": "light"
     },
     "output_type": "display_data"
    }
   ],
   "source": [
    "DTs = DTs[:-1]\n",
    "ccp_alphas = ccp_alphas[:-1]\n",
    "node_counts = [DT.tree_.node_count for DT in DTs]\n",
    "depth = [DT.tree_.max_depth for DT in DTs]\n",
    "plt.scatter(ccp_alphas,node_counts)\n",
    "plt.scatter(ccp_alphas,depth)\n",
    "plt.plot(ccp_alphas,node_counts,label='no of nodes',drawstyle=\"steps-post\")\n",
    "plt.plot(ccp_alphas,depth,label='depth',drawstyle=\"steps-post\")\n",
    "plt.legend()\n",
    "plt.show()"
   ]
  },
  {
   "cell_type": "code",
   "execution_count": 84,
   "id": "7bf6ac1e",
   "metadata": {},
   "outputs": [
    {
     "data": {
      "image/png": "[encoded data removed]",
      "text/plain": [
       "<Figure size 432x288 with 1 Axes>"
      ]
     },
     "metadata": {
      "needs_background": "light"
     },
     "output_type": "display_data"
    }
   ],
   "source": [
    "train_acc = []\n",
    "test_acc = []\n",
    "for c in DTs:\n",
    "    y_train_pred = c.predict(Xtrain)\n",
    "    y_test_pred = c.predict(Xtest)\n",
    "    train_acc.append(accuracy_score(y_train_pred,Ytrain))\n",
    "    test_acc.append(accuracy_score(y_test_pred,Ytest))\n",
    "\n",
    "plt.scatter(ccp_alphas,train_acc)\n",
    "plt.scatter(ccp_alphas,test_acc)\n",
    "plt.plot(ccp_alphas,train_acc,label='train_accuracy',drawstyle=\"steps-post\")\n",
    "plt.plot(ccp_alphas,test_acc,label='test_accuracy',drawstyle=\"steps-post\")\n",
    "plt.legend()\n",
    "plt.title('Accuracy vs alpha')\n",
    "plt.show()"
   ]
  },
  {
   "cell_type": "code",
   "execution_count": 95,
   "id": "2850428f",
   "metadata": {},
   "outputs": [
    {
     "name": "stdout",
     "output_type": "stream",
     "text": [
      "Train score 0.8694717444717445\n",
      "Test score 0.8562653562653563\n",
      "Train Confusion matrix\n"
     ]
    },
    {
     "data": {
      "image/png": "[encoded data removed]",
      "text/plain": [
       "<Figure size 432x288 with 2 Axes>"
      ]
     },
     "metadata": {
      "needs_background": "light"
     },
     "output_type": "display_data"
    },
    {
     "name": "stdout",
     "output_type": "stream",
     "text": [
      "Test Confusion matrix\n"
     ]
    },
    {
     "data": {
      "image/png": "[encoded data removed]",
      "text/plain": [
       "<Figure size 432x288 with 2 Axes>"
      ]
     },
     "metadata": {
      "needs_background": "light"
     },
     "output_type": "display_data"
    }
   ],
   "source": [
    "clf_ = tree.DecisionTreeClassifier(random_state=0,ccp_alpha=0.0010)\n",
    "clf_.fit(Xtrain,Ytrain)\n",
    "y_train_pred = clf_.predict(Xtrain)\n",
    "y_test_pred = clf_.predict(Xtest)\n",
    "\n",
    "print(f'Train score {accuracy_score(y_train_pred,Ytrain)}')\n",
    "print(f'Test score {accuracy_score(y_test_pred,Ytest)}')\n",
    "plot_confusionmatrix(y_train_pred,Ytrain,dom='Train')\n",
    "plot_confusionmatrix(y_test_pred,Ytest,dom='Test')\n",
    "\n",
    "# بهترین آلفا انتخاب شد"
   ]
  },
  {
   "cell_type": "markdown",
   "id": "a8dbc030",
   "metadata": {},
   "source": [
    "## DT by df2"
   ]
  },
  {
   "cell_type": "code",
   "execution_count": 96,
   "id": "abddbd2c",
   "metadata": {},
   "outputs": [
    {
     "data": {
      "text/plain": [
       "array([0, 0, 0, ..., 0, 1, 0])"
      ]
     },
     "execution_count": 96,
     "metadata": {},
     "output_type": "execute_result"
    }
   ],
   "source": [
    "Xtrain=df2.iloc[:, :-1]\n",
    "Ytrain=df2.iloc[:,-1]\n",
    "Xtest=df10.iloc[:, :-1]\n",
    "Ytest=df10.iloc[:,-1]\n",
    "\n",
    "DT = DecisionTreeClassifier()\n",
    "\n",
    "\n",
    "DT.fit(Xtrain, Ytrain)\n",
    "#روی چه دیتایی فیت بشه\n",
    "\n",
    "\n",
    "pred = DT.predict(Xtest)\n",
    "#ارزیابی داده های آزمایش جهت پیش بینی\n",
    "\n",
    "pred"
   ]
  },
  {
   "cell_type": "code",
   "execution_count": 97,
   "id": "0a96e8d6",
   "metadata": {},
   "outputs": [
    {
     "data": {
      "text/plain": [
       "0.8000614250614251"
      ]
     },
     "execution_count": 97,
     "metadata": {},
     "output_type": "execute_result"
    }
   ],
   "source": [
    "(pred == Ytest).mean()\n",
    "#accuracy"
   ]
  },
  {
   "cell_type": "code",
   "execution_count": 98,
   "id": "c7b2f575",
   "metadata": {},
   "outputs": [
    {
     "name": "stdout",
     "output_type": "stream",
     "text": [
      "0.8025184275184275 0.6086956521739131 0.5854858548585485 0.5968652037617553\n",
      "[[2137  337]\n",
      " [ 306  476]]\n",
      "              precision    recall  f1-score   support\n",
      "\n",
      "           0       0.87      0.86      0.87      2474\n",
      "           1       0.59      0.61      0.60       782\n",
      "\n",
      "    accuracy                           0.80      3256\n",
      "   macro avg       0.73      0.74      0.73      3256\n",
      "weighted avg       0.81      0.80      0.80      3256\n",
      "\n"
     ]
    }
   ],
   "source": [
    "from sklearn.metrics import accuracy_score,recall_score,precision_score, f1_score, confusion_matrix\n",
    "\n",
    "from sklearn.tree import DecisionTreeClassifier\n",
    "\n",
    "DT = DecisionTreeClassifier()\n",
    "DT.fit(Xtrain, Ytrain)\n",
    "pred = DT.predict(Xtest)\n",
    "\n",
    "\n",
    "acc = accuracy_score(Ytest, pred)\n",
    "#برای وقتی هست که داده ها متوازن باشن\n",
    "#مثل دیتاست گل ها که همگی متوازن بودن\n",
    "\n",
    "rec = recall_score(Ytest, pred)\n",
    "\n",
    "\n",
    "\n",
    "pre = precision_score(Ytest, pred)\n",
    "\n",
    "\n",
    "fm = f1_score(Ytest, pred)\n",
    "\n",
    "\n",
    "conf = confusion_matrix(Ytest, pred)\n",
    "\n",
    "print(acc, rec, pre, fm)\n",
    "print(conf)\n",
    "print(classification_report(Ytest, pred))\n",
    "#دو هزار صد سی هفت به درستی صفر تشخیص داده شده\n",
    "#چهارصد هفتاد شش به درستی یک تشخیص داده شده\n",
    "#عدد باقی مانده اشتباهات  هستند"
   ]
  },
  {
   "cell_type": "markdown",
   "id": "d291d0f1",
   "metadata": {},
   "source": [
    "# pruning and train-test graph"
   ]
  },
  {
   "cell_type": "code",
   "execution_count": 100,
   "id": "4e4829fa",
   "metadata": {},
   "outputs": [
    {
     "name": "stdout",
     "output_type": "stream",
     "text": [
      "[0.         0.00015339 0.000195   0.00019999 0.00020183 0.00020302\n",
      " 0.00020475 0.00020475 0.00020475 0.0002223  0.00023034 0.00023034\n",
      " 0.00023034 0.0002457  0.0002457  0.00025128 0.0002558  0.00025594\n",
      " 0.00025594 0.00026325 0.00026618 0.00026873 0.000273   0.000273\n",
      " 0.00027641 0.00027641 0.00027641 0.0002792  0.0002792  0.0002792\n",
      " 0.00028042 0.00028153 0.00028153 0.00028519 0.00028519 0.00028665\n",
      " 0.00028665 0.00028665 0.00028793 0.00028857 0.00028906 0.00029006\n",
      " 0.00029006 0.00029096 0.00029177 0.00029234 0.00029317 0.00029653\n",
      " 0.00029835 0.00029904 0.00029925 0.00029998 0.00030059 0.00030098\n",
      " 0.00030713 0.00030713 0.00030713 0.00030713 0.000315   0.00031802\n",
      " 0.00032199 0.00032308 0.00034369 0.00034521 0.000351   0.00035203\n",
      " 0.00035554 0.00035916 0.00036406 0.00036855 0.00036855 0.00036855\n",
      " 0.00036855 0.00036855 0.00037585 0.00038391 0.00039195 0.00039312\n",
      " 0.00039747 0.00039759 0.00040497 0.0004095  0.0004095  0.0004095\n",
      " 0.0004095  0.0004095  0.0004095  0.0004095  0.0004095  0.0004095\n",
      " 0.00043509 0.0004368  0.00043875 0.00044573 0.00044673 0.00044767\n",
      " 0.00044927 0.00045231 0.00045605 0.00046069 0.00046069 0.00046069\n",
      " 0.00046069 0.00046069 0.00046069 0.00046069 0.00046069 0.00046069\n",
      " 0.00046534 0.00046534 0.00046534 0.00046631 0.000468   0.000468\n",
      " 0.0004711  0.00047775 0.00047775 0.00047814 0.00047997 0.00048628\n",
      " 0.0004866  0.0004875  0.00048859 0.0004914  0.0004914  0.0004914\n",
      " 0.00049282 0.00050676 0.00050865 0.00051094 0.00052463 0.0005265\n",
      " 0.0005265  0.00052843 0.00052885 0.00053182 0.00053308 0.00053413\n",
      " 0.00053438 0.00053534 0.00053747 0.00054744 0.00054854 0.00054982\n",
      " 0.0005542  0.00055681 0.00056807 0.00057038 0.00057122 0.00057191\n",
      " 0.00057613 0.00058157 0.00058842 0.00059855 0.00061425 0.00062404\n",
      " 0.00062705 0.00064477 0.0006552  0.00069935 0.00070692 0.00071996\n",
      " 0.00072922 0.00073168 0.00074391 0.00074804 0.00075151 0.00078643\n",
      " 0.00079185 0.00081762 0.0008462  0.00086381 0.00087152 0.00087225\n",
      " 0.00097067 0.0009838  0.00100922 0.00102431 0.00104147 0.00108618\n",
      " 0.00108983 0.00122432 0.00179213 0.00191274 0.00194854 0.00214539\n",
      " 0.00259004 0.00289258 0.00304418 0.00344785 0.00379801 0.00441705\n",
      " 0.00968761 0.01038818 0.02268199 0.02869766 0.06135328]\n"
     ]
    },
    {
     "data": {
      "image/png": "[encoded data removed]",
      "text/plain": [
       "<Figure size 432x288 with 1 Axes>"
      ]
     },
     "metadata": {
      "needs_background": "light"
     },
     "output_type": "display_data"
    },
    {
     "data": {
      "image/png": "[encoded data removed]",
      "text/plain": [
       "<Figure size 432x288 with 1 Axes>"
      ]
     },
     "metadata": {
      "needs_background": "light"
     },
     "output_type": "display_data"
    }
   ],
   "source": [
    "path = DT.cost_complexity_pruning_path(Xtrain, Ytrain)\n",
    "ccp_alphas, impurities = path.ccp_alphas, path.impurities\n",
    "print(ccp_alphas)\n",
    "\n",
    "# For each alpha we will append our model to a list\n",
    "DTs = []\n",
    "for ccp_alpha in ccp_alphas:\n",
    "    DT = tree.DecisionTreeClassifier(random_state=0, ccp_alpha=ccp_alpha)\n",
    "    DT.fit(Xtrain, Ytrain)\n",
    "    DTs.append(DT)\n",
    "    \n",
    "DTs = DTs[:-1]\n",
    "ccp_alphas = ccp_alphas[:-1]\n",
    "node_counts = [DT.tree_.node_count for DT in DTs]\n",
    "depth = [DT.tree_.max_depth for DT in DTs]\n",
    "plt.scatter(ccp_alphas,node_counts)\n",
    "plt.scatter(ccp_alphas,depth)\n",
    "plt.plot(ccp_alphas,node_counts,label='no of nodes',drawstyle=\"steps-post\")\n",
    "plt.plot(ccp_alphas,depth,label='depth',drawstyle=\"steps-post\")\n",
    "plt.legend()\n",
    "plt.show()\n",
    "\n",
    "train_acc = []\n",
    "test_acc = []\n",
    "for c in DTs:\n",
    "    y_train_pred = c.predict(Xtrain)\n",
    "    y_test_pred = c.predict(Xtest)\n",
    "    train_acc.append(accuracy_score(y_train_pred,Ytrain))\n",
    "    test_acc.append(accuracy_score(y_test_pred,Ytest))\n",
    "\n",
    "plt.scatter(ccp_alphas,train_acc)\n",
    "plt.scatter(ccp_alphas,test_acc)\n",
    "plt.plot(ccp_alphas,train_acc,label='train_accuracy',drawstyle=\"steps-post\")\n",
    "plt.plot(ccp_alphas,test_acc,label='test_accuracy',drawstyle=\"steps-post\")\n",
    "plt.legend()\n",
    "plt.title('Accuracy vs alpha')\n",
    "plt.show()"
   ]
  },
  {
   "cell_type": "code",
   "execution_count": 101,
   "id": "9c8bd594",
   "metadata": {},
   "outputs": [
    {
     "name": "stdout",
     "output_type": "stream",
     "text": [
      "Train score 0.8516584766584766\n",
      "Test score 0.8492014742014742\n",
      "Train Confusion matrix\n"
     ]
    },
    {
     "data": {
      "image/png": "[encoded data removed]",
      "text/plain": [
       "<Figure size 432x288 with 2 Axes>"
      ]
     },
     "metadata": {
      "needs_background": "light"
     },
     "output_type": "display_data"
    },
    {
     "name": "stdout",
     "output_type": "stream",
     "text": [
      "Test Confusion matrix\n"
     ]
    },
    {
     "data": {
      "image/png": "[encoded data removed]",
      "text/plain": [
       "<Figure size 432x288 with 2 Axes>"
      ]
     },
     "metadata": {
      "needs_background": "light"
     },
     "output_type": "display_data"
    }
   ],
   "source": [
    "clf_ = tree.DecisionTreeClassifier(random_state=0,ccp_alpha=0.0040)\n",
    "clf_.fit(Xtrain,Ytrain)\n",
    "y_train_pred = clf_.predict(Xtrain)\n",
    "y_test_pred = clf_.predict(Xtest)\n",
    "\n",
    "print(f'Train score {accuracy_score(y_train_pred,Ytrain)}')\n",
    "print(f'Test score {accuracy_score(y_test_pred,Ytest)}')\n",
    "plot_confusionmatrix(y_train_pred,Ytrain,dom='Train')\n",
    "plot_confusionmatrix(y_test_pred,Ytest,dom='Test')\n",
    "\n",
    "# بهترین آلفا انتخاب شد"
   ]
  },
  {
   "cell_type": "markdown",
   "id": "630d9e82",
   "metadata": {},
   "source": [
    "## DT by df3 "
   ]
  },
  {
   "cell_type": "code",
   "execution_count": 102,
   "id": "937c8e9c",
   "metadata": {},
   "outputs": [
    {
     "data": {
      "text/plain": [
       "array([0, 1, 1, ..., 0, 0, 0])"
      ]
     },
     "execution_count": 102,
     "metadata": {},
     "output_type": "execute_result"
    }
   ],
   "source": [
    "Xtrain=df3.iloc[:, :-1]\n",
    "Ytrain=df3.iloc[:,-1]\n",
    "Xtest=df10.iloc[:, :-1]\n",
    "Ytest=df10.iloc[:,-1]\n",
    "\n",
    "DT = DecisionTreeClassifier()\n",
    "\n",
    "\n",
    "DT.fit(Xtrain, Ytrain)\n",
    "#روی چه دیتایی فیت بشه\n",
    "\n",
    "\n",
    "pred = DT.predict(Xtest)\n",
    "#ارزیابی داده های آزمایش جهت پیش بینی\n",
    "\n",
    "pred"
   ]
  },
  {
   "cell_type": "code",
   "execution_count": 103,
   "id": "d264ee71",
   "metadata": {},
   "outputs": [
    {
     "data": {
      "text/plain": [
       "0.8028255528255528"
      ]
     },
     "execution_count": 103,
     "metadata": {},
     "output_type": "execute_result"
    }
   ],
   "source": [
    "(pred == Ytest).mean()\n",
    "#accuracy"
   ]
  },
  {
   "cell_type": "code",
   "execution_count": 104,
   "id": "c21af67c",
   "metadata": {},
   "outputs": [
    {
     "name": "stdout",
     "output_type": "stream",
     "text": [
      "0.8040540540540541 0.6112531969309463 0.5886699507389163 0.5997490589711417\n",
      "[[2140  334]\n",
      " [ 304  478]]\n",
      "              precision    recall  f1-score   support\n",
      "\n",
      "           0       0.88      0.86      0.87      2474\n",
      "           1       0.59      0.61      0.60       782\n",
      "\n",
      "    accuracy                           0.80      3256\n",
      "   macro avg       0.73      0.74      0.74      3256\n",
      "weighted avg       0.81      0.80      0.81      3256\n",
      "\n"
     ]
    }
   ],
   "source": [
    "from sklearn.metrics import accuracy_score,recall_score,precision_score, f1_score, confusion_matrix\n",
    "\n",
    "from sklearn.tree import DecisionTreeClassifier\n",
    "\n",
    "DT = DecisionTreeClassifier()\n",
    "DT.fit(Xtrain, Ytrain)\n",
    "pred = DT.predict(Xtest)\n",
    "\n",
    "\n",
    "acc = accuracy_score(Ytest, pred)\n",
    "#برای وقتی هست که داده ها متوازن باشن\n",
    "#مثل دیتاست گل ها که همگی متوازن بودن\n",
    "\n",
    "rec = recall_score(Ytest, pred)\n",
    "\n",
    "\n",
    "\n",
    "pre = precision_score(Ytest, pred)\n",
    "\n",
    "\n",
    "fm = f1_score(Ytest, pred)\n",
    "\n",
    "\n",
    "conf = confusion_matrix(Ytest, pred)\n",
    "\n",
    "print(acc, rec, pre, fm)\n",
    "print(conf)\n",
    "print(classification_report(Ytest, pred))\n",
    "#دو هزار صد چهل داده به درستی صفر تشخیص داده شده\n",
    "#چهارصد هفتاد هشت داده به درستی یک تشخیص داده شده\n",
    "#دو عدد باقی مانده اشتباهات  هستند"
   ]
  },
  {
   "cell_type": "markdown",
   "id": "bb7db820",
   "metadata": {},
   "source": [
    "# pruning and train-test graph"
   ]
  },
  {
   "cell_type": "code",
   "execution_count": 105,
   "id": "8185d3ae",
   "metadata": {},
   "outputs": [
    {
     "name": "stdout",
     "output_type": "stream",
     "text": [
      "[0.         0.0001503  0.00017916 0.00019271 0.00019338 0.00019815\n",
      " 0.0001995  0.0002002  0.00020326 0.00020446 0.00020475 0.00023034\n",
      " 0.00023034 0.00023034 0.00023034 0.00023242 0.00025594 0.00025594\n",
      " 0.00025594 0.00026325 0.00026325 0.00026325 0.00026325 0.00026325\n",
      " 0.00026325 0.00026827 0.00026873 0.00026873 0.000273   0.000273\n",
      " 0.000273   0.000273   0.000273   0.00027641 0.00027641 0.0002792\n",
      " 0.0002809  0.00028256 0.0002835  0.0002835  0.0002835  0.0002835\n",
      " 0.0002835  0.0002877  0.00028888 0.00028906 0.00028906 0.00029178\n",
      " 0.0002925  0.00029317 0.00029484 0.00029594 0.00029859 0.00029963\n",
      " 0.00030201 0.00030286 0.00030713 0.00030713 0.00030713 0.00030713\n",
      " 0.00032248 0.00032257 0.00032288 0.00033137 0.00034125 0.0003465\n",
      " 0.00034664 0.000351   0.0003519  0.00035552 0.00035831 0.00036047\n",
      " 0.000364   0.00036563 0.00036855 0.00036855 0.00036855 0.00036855\n",
      " 0.00037025 0.00037227 0.00038171 0.00039053 0.00039286 0.00039488\n",
      " 0.00039678 0.0004095  0.0004095  0.0004095  0.0004095  0.0004095\n",
      " 0.0004095  0.0004095  0.0004095  0.0004095  0.0004095  0.0004095\n",
      " 0.0004095  0.0004095  0.0004095  0.00041278 0.00041462 0.00042237\n",
      " 0.0004284  0.00043411 0.00043631 0.0004368  0.00044136 0.00044262\n",
      " 0.00045275 0.00045414 0.00046069 0.00046069 0.00046069 0.00046069\n",
      " 0.0004637  0.00046534 0.00047814 0.00048684 0.0004914  0.0004914\n",
      " 0.0004914  0.0004914  0.0004914  0.0004914  0.0004914  0.0004914\n",
      " 0.00049149 0.00049236 0.00049433 0.00049689 0.00049741 0.00049786\n",
      " 0.00050164 0.00050951 0.00051185 0.00051188 0.00051188 0.00051188\n",
      " 0.0005265  0.0005265  0.00053182 0.00053318 0.0005445  0.00054764\n",
      " 0.00054972 0.00055283 0.00055421 0.00055841 0.00058126 0.00058455\n",
      " 0.00059564 0.00060535 0.0006075  0.00061425 0.00061657 0.00061784\n",
      " 0.00062705 0.00062759 0.0006552  0.00066235 0.0006804  0.00068336\n",
      " 0.00068367 0.00068719 0.00069374 0.00069966 0.00071268 0.00071992\n",
      " 0.0007376  0.00073939 0.00075327 0.00077339 0.00079321 0.00080742\n",
      " 0.00083151 0.00085896 0.00087248 0.0008775  0.00091529 0.00098179\n",
      " 0.0009856  0.001053   0.00105715 0.00109843 0.00119335 0.00129317\n",
      " 0.00147383 0.00163478 0.00164786 0.00172321 0.00183909 0.00197438\n",
      " 0.00203345 0.00226473 0.00272767 0.00320576 0.00334704 0.00394487\n",
      " 0.00474616 0.00557504 0.00779109 0.01707281 0.03868963 0.05009147]\n"
     ]
    },
    {
     "data": {
      "image/png": "[encoded data removed]",
      "text/plain": [
       "<Figure size 432x288 with 1 Axes>"
      ]
     },
     "metadata": {
      "needs_background": "light"
     },
     "output_type": "display_data"
    },
    {
     "data": {
      "image/png": "[encoded data removed]",
      "text/plain": [
       "<Figure size 432x288 with 1 Axes>"
      ]
     },
     "metadata": {
      "needs_background": "light"
     },
     "output_type": "display_data"
    }
   ],
   "source": [
    "path = DT.cost_complexity_pruning_path(Xtrain, Ytrain)\n",
    "ccp_alphas, impurities = path.ccp_alphas, path.impurities\n",
    "print(ccp_alphas)\n",
    "\n",
    "# For each alpha we will append our model to a list\n",
    "DTs = []\n",
    "for ccp_alpha in ccp_alphas:\n",
    "    DT = tree.DecisionTreeClassifier(random_state=0, ccp_alpha=ccp_alpha)\n",
    "    DT.fit(Xtrain, Ytrain)\n",
    "    DTs.append(DT)\n",
    "    \n",
    "DTs = DTs[:-1]\n",
    "ccp_alphas = ccp_alphas[:-1]\n",
    "node_counts = [DT.tree_.node_count for DT in DTs]\n",
    "depth = [DT.tree_.max_depth for DT in DTs]\n",
    "plt.scatter(ccp_alphas,node_counts)\n",
    "plt.scatter(ccp_alphas,depth)\n",
    "plt.plot(ccp_alphas,node_counts,label='no of nodes',drawstyle=\"steps-post\")\n",
    "plt.plot(ccp_alphas,depth,label='depth',drawstyle=\"steps-post\")\n",
    "plt.legend()\n",
    "plt.show()\n",
    "\n",
    "train_acc = []\n",
    "test_acc = []\n",
    "for c in DTs:\n",
    "    y_train_pred = c.predict(Xtrain)\n",
    "    y_test_pred = c.predict(Xtest)\n",
    "    train_acc.append(accuracy_score(y_train_pred,Ytrain))\n",
    "    test_acc.append(accuracy_score(y_test_pred,Ytest))\n",
    "\n",
    "plt.scatter(ccp_alphas,train_acc)\n",
    "plt.scatter(ccp_alphas,test_acc)\n",
    "plt.plot(ccp_alphas,train_acc,label='train_accuracy',drawstyle=\"steps-post\")\n",
    "plt.plot(ccp_alphas,test_acc,label='test_accuracy',drawstyle=\"steps-post\")\n",
    "plt.legend()\n",
    "plt.title('Accuracy vs alpha')\n",
    "plt.show()"
   ]
  },
  {
   "cell_type": "code",
   "execution_count": 109,
   "id": "fb89b376",
   "metadata": {},
   "outputs": [
    {
     "name": "stdout",
     "output_type": "stream",
     "text": [
      "Train score 0.8513513513513513\n",
      "Test score 0.8390663390663391\n",
      "Train Confusion matrix\n"
     ]
    },
    {
     "data": {
      "image/png": "[encoded data removed]",
      "text/plain": [
       "<Figure size 432x288 with 2 Axes>"
      ]
     },
     "metadata": {
      "needs_background": "light"
     },
     "output_type": "display_data"
    },
    {
     "name": "stdout",
     "output_type": "stream",
     "text": [
      "Test Confusion matrix\n"
     ]
    },
    {
     "data": {
      "image/png": "[encoded data removed]",
      "text/plain": [
       "<Figure size 432x288 with 2 Axes>"
      ]
     },
     "metadata": {
      "needs_background": "light"
     },
     "output_type": "display_data"
    }
   ],
   "source": [
    "clf_ = tree.DecisionTreeClassifier(random_state=0,ccp_alpha=0.0010)\n",
    "clf_.fit(Xtrain,Ytrain)\n",
    "y_train_pred = clf_.predict(Xtrain)\n",
    "y_test_pred = clf_.predict(Xtest)\n",
    "\n",
    "print(f'Train score {accuracy_score(y_train_pred,Ytrain)}')\n",
    "print(f'Test score {accuracy_score(y_test_pred,Ytest)}')\n",
    "plot_confusionmatrix(y_train_pred,Ytrain,dom='Train')\n",
    "plot_confusionmatrix(y_test_pred,Ytest,dom='Test')\n",
    "\n",
    "# بهترین آلفا انتخاب شد"
   ]
  },
  {
   "cell_type": "markdown",
   "id": "4eaa41ed",
   "metadata": {},
   "source": [
    "## DT by df4"
   ]
  },
  {
   "cell_type": "code",
   "execution_count": 110,
   "id": "61e20a68",
   "metadata": {},
   "outputs": [
    {
     "data": {
      "text/plain": [
       "array([1, 0, 0, ..., 0, 1, 0])"
      ]
     },
     "execution_count": 110,
     "metadata": {},
     "output_type": "execute_result"
    }
   ],
   "source": [
    "Xtrain=df4.iloc[:, :-1]\n",
    "Ytrain=df4.iloc[:,-1]\n",
    "Xtest=df10.iloc[:, :-1]\n",
    "Ytest=df10.iloc[:,-1]\n",
    "\n",
    "DT = DecisionTreeClassifier()\n",
    "\n",
    "\n",
    "DT.fit(Xtrain, Ytrain)\n",
    "#روی چه دیتایی فیت بشه\n",
    "\n",
    "\n",
    "pred = DT.predict(Xtest)\n",
    "#ارزیابی داده های آزمایش جهت پیش بینی\n",
    "\n",
    "pred"
   ]
  },
  {
   "cell_type": "code",
   "execution_count": 111,
   "id": "7a5beb3a",
   "metadata": {},
   "outputs": [
    {
     "data": {
      "text/plain": [
       "0.8012899262899262"
      ]
     },
     "execution_count": 111,
     "metadata": {},
     "output_type": "execute_result"
    }
   ],
   "source": [
    "(pred == Ytest).mean()\n",
    "#accuracy"
   ]
  },
  {
   "cell_type": "code",
   "execution_count": 112,
   "id": "bd0531a0",
   "metadata": {},
   "outputs": [
    {
     "name": "stdout",
     "output_type": "stream",
     "text": [
      "0.7960687960687961 0.5933503836317136 0.5728395061728395 0.5829145728643216\n",
      "[[2128  346]\n",
      " [ 318  464]]\n",
      "              precision    recall  f1-score   support\n",
      "\n",
      "           0       0.87      0.86      0.87      2474\n",
      "           1       0.57      0.59      0.58       782\n",
      "\n",
      "    accuracy                           0.80      3256\n",
      "   macro avg       0.72      0.73      0.72      3256\n",
      "weighted avg       0.80      0.80      0.80      3256\n",
      "\n"
     ]
    }
   ],
   "source": [
    "from sklearn.metrics import accuracy_score,recall_score,precision_score, f1_score, confusion_matrix\n",
    "\n",
    "from sklearn.tree import DecisionTreeClassifier\n",
    "\n",
    "DT = DecisionTreeClassifier()\n",
    "DT.fit(Xtrain, Ytrain)\n",
    "pred = DT.predict(Xtest)\n",
    "\n",
    "\n",
    "acc = accuracy_score(Ytest, pred)\n",
    "#برای وقتی هست که داده ها متوازن باشن\n",
    "#مثل دیتاست گل ها که همگی متوازن بودن\n",
    "\n",
    "rec = recall_score(Ytest, pred)\n",
    "\n",
    "\n",
    "\n",
    "pre = precision_score(Ytest, pred)\n",
    "\n",
    "\n",
    "fm = f1_score(Ytest, pred)\n",
    "\n",
    "\n",
    "conf = confusion_matrix(Ytest, pred)\n",
    "\n",
    "print(acc, rec, pre, fm)\n",
    "print(conf)\n",
    "print(classification_report(Ytest, pred))\n",
    "#دوهزار صد بیست هشت داده به درستی صفر تشخیص داده شده\n",
    "#چهارصد شصت چهار داده به درستی یک تشخیص داده شده\n",
    "# باقی مانده اشتباهات  هستند"
   ]
  },
  {
   "cell_type": "markdown",
   "id": "1c273c56",
   "metadata": {},
   "source": [
    "# pruning and train-test graph"
   ]
  },
  {
   "cell_type": "code",
   "execution_count": 113,
   "id": "168944fe",
   "metadata": {},
   "outputs": [
    {
     "name": "stdout",
     "output_type": "stream",
     "text": [
      "[0.         0.0001638  0.00017063 0.00017916 0.00018428 0.0001911\n",
      " 0.00019769 0.00019835 0.00020322 0.00020417 0.00020475 0.00020763\n",
      " 0.00023034 0.00024311 0.0002457  0.00025529 0.00025594 0.00025594\n",
      " 0.00025594 0.00025594 0.00025594 0.00025594 0.00025594 0.00026325\n",
      " 0.00026325 0.00026325 0.00026325 0.00026325 0.00026873 0.000273\n",
      " 0.00027641 0.00027641 0.00027641 0.00027833 0.0002792  0.0002792\n",
      " 0.00028153 0.0002835  0.0002835  0.0002871  0.0002925  0.0002925\n",
      " 0.00029433 0.00029531 0.0002964  0.0002999  0.00030045 0.00030064\n",
      " 0.00030303 0.00030713 0.00030713 0.00030713 0.00030713 0.00031106\n",
      " 0.00031158 0.00031643 0.00031876 0.00031931 0.00031992 0.00033505\n",
      " 0.00033784 0.00034045 0.00034392 0.0003465  0.00034808 0.000351\n",
      " 0.000351   0.000351   0.00036132 0.00036349 0.000364   0.000364\n",
      " 0.0003664  0.00036855 0.00036855 0.00036855 0.00036855 0.00036855\n",
      " 0.00037165 0.00037227 0.0003744  0.0003744  0.00038171 0.00038391\n",
      " 0.0003861  0.00039488 0.00039488 0.00039488 0.0003962  0.00039886\n",
      " 0.0003999  0.00040365 0.0004095  0.0004095  0.0004095  0.0004095\n",
      " 0.0004095  0.0004095  0.0004095  0.0004095  0.0004095  0.0004095\n",
      " 0.0004095  0.0004095  0.0004095  0.00041022 0.00041803 0.0004212\n",
      " 0.00043144 0.00043875 0.00044863 0.00045045 0.0004536  0.00045618\n",
      " 0.00046069 0.00046069 0.00046069 0.00046069 0.00046069 0.00046069\n",
      " 0.00046069 0.00046069 0.00046357 0.00046458 0.00046635 0.000472\n",
      " 0.00047957 0.00048919 0.00049113 0.0004914  0.0004914  0.00049271\n",
      " 0.0004992  0.00050164 0.00050174 0.00050257 0.00051188 0.00051188\n",
      " 0.00051188 0.00051188 0.00051548 0.00052181 0.00052473 0.0005265\n",
      " 0.0005265  0.0005265  0.00053235 0.00053313 0.00053747 0.00054156\n",
      " 0.000546   0.000546   0.00054633 0.00054769 0.00054844 0.0005551\n",
      " 0.00056198 0.00056354 0.000567   0.00058351 0.0005907  0.00059557\n",
      " 0.0006075  0.00062449 0.00063482 0.00064396 0.00064808 0.00066521\n",
      " 0.00069374 0.00069613 0.0007203  0.00076781 0.00078363 0.00078867\n",
      " 0.00080438 0.00081945 0.00084374 0.00085935 0.00085963 0.00090444\n",
      " 0.00090581 0.00092146 0.00092859 0.00093184 0.00094817 0.00098438\n",
      " 0.00106998 0.00112402 0.00120563 0.00146159 0.00161193 0.00170976\n",
      " 0.00191458 0.0019151  0.00226727 0.0031648  0.00347571 0.00409589\n",
      " 0.00440112 0.01073729 0.02389359 0.04400926 0.0552044 ]\n"
     ]
    },
    {
     "data": {
      "image/png": "[encoded data removed]",
      "text/plain": [
       "<Figure size 432x288 with 1 Axes>"
      ]
     },
     "metadata": {
      "needs_background": "light"
     },
     "output_type": "display_data"
    },
    {
     "data": {
      "image/png": "[encoded data removed]",
      "text/plain": [
       "<Figure size 432x288 with 1 Axes>"
      ]
     },
     "metadata": {
      "needs_background": "light"
     },
     "output_type": "display_data"
    }
   ],
   "source": [
    "path = DT.cost_complexity_pruning_path(Xtrain, Ytrain)\n",
    "ccp_alphas, impurities = path.ccp_alphas, path.impurities\n",
    "print(ccp_alphas)\n",
    "\n",
    "# For each alpha we will append our model to a list\n",
    "DTs = []\n",
    "for ccp_alpha in ccp_alphas:\n",
    "    DT = tree.DecisionTreeClassifier(random_state=0, ccp_alpha=ccp_alpha)\n",
    "    DT.fit(Xtrain, Ytrain)\n",
    "    DTs.append(DT)\n",
    "    \n",
    "DTs = DTs[:-1]\n",
    "ccp_alphas = ccp_alphas[:-1]\n",
    "node_counts = [DT.tree_.node_count for DT in DTs]\n",
    "depth = [DT.tree_.max_depth for DT in DTs]\n",
    "plt.scatter(ccp_alphas,node_counts)\n",
    "plt.scatter(ccp_alphas,depth)\n",
    "plt.plot(ccp_alphas,node_counts,label='no of nodes',drawstyle=\"steps-post\")\n",
    "plt.plot(ccp_alphas,depth,label='depth',drawstyle=\"steps-post\")\n",
    "plt.legend()\n",
    "plt.show()\n",
    "\n",
    "train_acc = []\n",
    "test_acc = []\n",
    "for c in DTs:\n",
    "    y_train_pred = c.predict(Xtrain)\n",
    "    y_test_pred = c.predict(Xtest)\n",
    "    train_acc.append(accuracy_score(y_train_pred,Ytrain))\n",
    "    test_acc.append(accuracy_score(y_test_pred,Ytest))\n",
    "\n",
    "plt.scatter(ccp_alphas,train_acc)\n",
    "plt.scatter(ccp_alphas,test_acc)\n",
    "plt.plot(ccp_alphas,train_acc,label='train_accuracy',drawstyle=\"steps-post\")\n",
    "plt.plot(ccp_alphas,test_acc,label='test_accuracy',drawstyle=\"steps-post\")\n",
    "plt.legend()\n",
    "plt.title('Accuracy vs alpha')\n",
    "plt.show()"
   ]
  },
  {
   "cell_type": "code",
   "execution_count": 115,
   "id": "56812e7a",
   "metadata": {},
   "outputs": [
    {
     "name": "stdout",
     "output_type": "stream",
     "text": [
      "Train score 0.8541154791154791\n",
      "Test score 0.855036855036855\n",
      "Train Confusion matrix\n"
     ]
    },
    {
     "data": {
      "image/png": "[encoded data removed]",
      "text/plain": [
       "<Figure size 432x288 with 2 Axes>"
      ]
     },
     "metadata": {
      "needs_background": "light"
     },
     "output_type": "display_data"
    },
    {
     "name": "stdout",
     "output_type": "stream",
     "text": [
      "Test Confusion matrix\n"
     ]
    },
    {
     "data": {
      "image/png": "[encoded data removed]",
      "text/plain": [
       "<Figure size 432x288 with 2 Axes>"
      ]
     },
     "metadata": {
      "needs_background": "light"
     },
     "output_type": "display_data"
    }
   ],
   "source": [
    "clf_ = tree.DecisionTreeClassifier(random_state=0,ccp_alpha=0.0015)\n",
    "clf_.fit(Xtrain,Ytrain)\n",
    "y_train_pred = clf_.predict(Xtrain)\n",
    "y_test_pred = clf_.predict(Xtest)\n",
    "\n",
    "print(f'Train score {accuracy_score(y_train_pred,Ytrain)}')\n",
    "print(f'Test score {accuracy_score(y_test_pred,Ytest)}')\n",
    "plot_confusionmatrix(y_train_pred,Ytrain,dom='Train')\n",
    "plot_confusionmatrix(y_test_pred,Ytest,dom='Test')\n",
    "\n",
    "# بهترین آلفا انتخاب شد"
   ]
  },
  {
   "cell_type": "markdown",
   "id": "334ef4cc",
   "metadata": {},
   "source": [
    "## DT by df5"
   ]
  },
  {
   "cell_type": "code",
   "execution_count": 116,
   "id": "016ed74d",
   "metadata": {},
   "outputs": [
    {
     "data": {
      "text/plain": [
       "array([0, 0, 0, ..., 0, 0, 0])"
      ]
     },
     "execution_count": 116,
     "metadata": {},
     "output_type": "execute_result"
    }
   ],
   "source": [
    "Xtrain=df5.iloc[:, :-1]\n",
    "Ytrain=df5.iloc[:,-1]\n",
    "Xtest=df10.iloc[:, :-1]\n",
    "Ytest=df10.iloc[:,-1]\n",
    "\n",
    "DT = DecisionTreeClassifier()\n",
    "\n",
    "\n",
    "DT.fit(Xtrain, Ytrain)\n",
    "#روی چه دیتایی فیت بشه\n",
    "\n",
    "\n",
    "pred = DT.predict(Xtest)\n",
    "#ارزیابی داده های آزمایش جهت پیش بینی\n",
    "\n",
    "pred"
   ]
  },
  {
   "cell_type": "code",
   "execution_count": 117,
   "id": "6d5ea62f",
   "metadata": {},
   "outputs": [
    {
     "data": {
      "text/plain": [
       "0.8000614250614251"
      ]
     },
     "execution_count": 117,
     "metadata": {},
     "output_type": "execute_result"
    }
   ],
   "source": [
    "(pred == Ytest).mean()\n",
    "#accuracy"
   ]
  },
  {
   "cell_type": "code",
   "execution_count": 118,
   "id": "60cd8781",
   "metadata": {},
   "outputs": [
    {
     "name": "stdout",
     "output_type": "stream",
     "text": [
      "0.7942260442260443 0.6150895140664961 0.5658823529411765 0.5894607843137254\n",
      "[[2105  369]\n",
      " [ 301  481]]\n",
      "              precision    recall  f1-score   support\n",
      "\n",
      "           0       0.87      0.85      0.86      2474\n",
      "           1       0.57      0.62      0.59       782\n",
      "\n",
      "    accuracy                           0.79      3256\n",
      "   macro avg       0.72      0.73      0.73      3256\n",
      "weighted avg       0.80      0.79      0.80      3256\n",
      "\n"
     ]
    }
   ],
   "source": [
    "from sklearn.metrics import accuracy_score,recall_score,precision_score, f1_score, confusion_matrix\n",
    "\n",
    "from sklearn.tree import DecisionTreeClassifier\n",
    "\n",
    "DT = DecisionTreeClassifier()\n",
    "DT.fit(Xtrain, Ytrain)\n",
    "pred = DT.predict(Xtest)\n",
    "\n",
    "\n",
    "acc = accuracy_score(Ytest, pred)\n",
    "#برای وقتی هست که داده ها متوازن باشن\n",
    "#مثل دیتاست گل ها که همگی متوازن بودن\n",
    "\n",
    "rec = recall_score(Ytest, pred)\n",
    "\n",
    "\n",
    "\n",
    "pre = precision_score(Ytest, pred)\n",
    "\n",
    "\n",
    "fm = f1_score(Ytest, pred)\n",
    "\n",
    "\n",
    "conf = confusion_matrix(Ytest, pred)\n",
    "\n",
    "print(acc, rec, pre, fm)\n",
    "print(conf)\n",
    "print(classification_report(Ytest, pred))\n",
    "#دوهزار صد و پنج داده به درستی صفر تشخیص داده شده\n",
    "#چهارصد هشتاد یک داده به درستی یک تشخیص داده شده\n",
    "# باقی مانده اشتباهات  هستند"
   ]
  },
  {
   "cell_type": "markdown",
   "id": "434588e7",
   "metadata": {},
   "source": [
    "# pruning and train-test graph"
   ]
  },
  {
   "cell_type": "code",
   "execution_count": 119,
   "id": "64ab49d8",
   "metadata": {},
   "outputs": [
    {
     "name": "stdout",
     "output_type": "stream",
     "text": [
      "[0.         0.00015092 0.00015295 0.000182   0.00018428 0.00018428\n",
      " 0.0001911  0.00019271 0.00019568 0.00020134 0.00020475 0.00023081\n",
      " 0.0002457  0.0002457  0.00025128 0.00025534 0.00025594 0.00025594\n",
      " 0.00025988 0.00026325 0.00026325 0.00026413 0.00026873 0.00026873\n",
      " 0.00026873 0.000273   0.000273   0.00027641 0.0002792  0.0002792\n",
      " 0.00028153 0.0002835  0.0002835  0.0002835  0.0002835  0.00028438\n",
      " 0.00028519 0.00028665 0.00028906 0.00029096 0.00029377 0.00029433\n",
      " 0.00029575 0.00029945 0.00029975 0.0003003  0.00030165 0.00030172\n",
      " 0.00030542 0.00030713 0.00030713 0.00030713 0.00030713 0.00030713\n",
      " 0.00031054 0.00031427 0.00031992 0.00032795 0.00034125 0.00034125\n",
      " 0.0003473  0.000351   0.00035105 0.00035328 0.00035831 0.00035988\n",
      " 0.00036132 0.00036563 0.00036753 0.00036855 0.00036855 0.00036914\n",
      " 0.00037402 0.00037674 0.00037848 0.00038391 0.00038391 0.00039089\n",
      " 0.00039089 0.00039089 0.00040163 0.0004095  0.0004095  0.0004095\n",
      " 0.0004095  0.0004095  0.0004095  0.0004095  0.0004095  0.0004095\n",
      " 0.0004095  0.0004095  0.0004095  0.00041105 0.00041133 0.00041322\n",
      " 0.00041803 0.00041875 0.00041881 0.00042    0.00042158 0.00042267\n",
      " 0.00042545 0.00043518 0.00044241 0.00044335 0.00045056 0.00045165\n",
      " 0.00045376 0.00045604 0.00045877 0.00046069 0.00046069 0.00046069\n",
      " 0.00046069 0.00046069 0.00046069 0.000468   0.000468   0.00046971\n",
      " 0.00047775 0.00048652 0.00048763 0.0004914  0.0004914  0.00049359\n",
      " 0.0004955  0.00049991 0.00050164 0.00050257 0.00051188 0.00051188\n",
      " 0.00051188 0.00051188 0.00051388 0.00051742 0.00051975 0.00051992\n",
      " 0.00052043 0.0005265  0.0005265  0.00052723 0.00052894 0.00053252\n",
      " 0.00053375 0.00053747 0.00053747 0.00054387 0.000546   0.00055165\n",
      " 0.00055841 0.00056968 0.00057038 0.00057449 0.00057458 0.00057586\n",
      " 0.00057586 0.00057935 0.00059415 0.00059719 0.00059754 0.00061353\n",
      " 0.00061425 0.00061425 0.00061937 0.00062705 0.00063984 0.00065125\n",
      " 0.00065253 0.00065332 0.0006552  0.00066233 0.00067543 0.00067891\n",
      " 0.00069282 0.00074499 0.00075688 0.00076594 0.00080488 0.00081118\n",
      " 0.00081845 0.00082055 0.00086984 0.00087994 0.00097367 0.00097852\n",
      " 0.00098301 0.00108546 0.00113246 0.00115565 0.00131953 0.00138638\n",
      " 0.00139212 0.00148795 0.0016091  0.00172758 0.00176793 0.00177236\n",
      " 0.00195006 0.00235802 0.00284334 0.00286766 0.0037438  0.00484165\n",
      " 0.01098105 0.01105554 0.01881009 0.02620989 0.06677455]\n"
     ]
    },
    {
     "data": {
      "image/png": "[encoded data removed]",
      "text/plain": [
       "<Figure size 432x288 with 1 Axes>"
      ]
     },
     "metadata": {
      "needs_background": "light"
     },
     "output_type": "display_data"
    },
    {
     "data": {
      "image/png": "[encoded data removed]",
      "text/plain": [
       "<Figure size 432x288 with 1 Axes>"
      ]
     },
     "metadata": {
      "needs_background": "light"
     },
     "output_type": "display_data"
    }
   ],
   "source": [
    "path = DT.cost_complexity_pruning_path(Xtrain, Ytrain)\n",
    "ccp_alphas, impurities = path.ccp_alphas, path.impurities\n",
    "print(ccp_alphas)\n",
    "\n",
    "# For each alpha we will append our model to a list\n",
    "DTs = []\n",
    "for ccp_alpha in ccp_alphas:\n",
    "    DT = tree.DecisionTreeClassifier(random_state=0, ccp_alpha=ccp_alpha)\n",
    "    DT.fit(Xtrain, Ytrain)\n",
    "    DTs.append(DT)\n",
    "    \n",
    "DTs = DTs[:-1]\n",
    "ccp_alphas = ccp_alphas[:-1]\n",
    "node_counts = [DT.tree_.node_count for DT in DTs]\n",
    "depth = [DT.tree_.max_depth for DT in DTs]\n",
    "plt.scatter(ccp_alphas,node_counts)\n",
    "plt.scatter(ccp_alphas,depth)\n",
    "plt.plot(ccp_alphas,node_counts,label='no of nodes',drawstyle=\"steps-post\")\n",
    "plt.plot(ccp_alphas,depth,label='depth',drawstyle=\"steps-post\")\n",
    "plt.legend()\n",
    "plt.show()\n",
    "\n",
    "train_acc = []\n",
    "test_acc = []\n",
    "for c in DTs:\n",
    "    y_train_pred = c.predict(Xtrain)\n",
    "    y_test_pred = c.predict(Xtest)\n",
    "    train_acc.append(accuracy_score(y_train_pred,Ytrain))\n",
    "    test_acc.append(accuracy_score(y_test_pred,Ytest))\n",
    "\n",
    "plt.scatter(ccp_alphas,train_acc)\n",
    "plt.scatter(ccp_alphas,test_acc)\n",
    "plt.plot(ccp_alphas,train_acc,label='train_accuracy',drawstyle=\"steps-post\")\n",
    "plt.plot(ccp_alphas,test_acc,label='test_accuracy',drawstyle=\"steps-post\")\n",
    "plt.legend()\n",
    "plt.title('Accuracy vs alpha')\n",
    "plt.show()"
   ]
  },
  {
   "cell_type": "code",
   "execution_count": 123,
   "id": "4365def4",
   "metadata": {},
   "outputs": [
    {
     "name": "stdout",
     "output_type": "stream",
     "text": [
      "Train score 0.8617936117936118\n",
      "Test score 0.8538083538083538\n",
      "Train Confusion matrix\n"
     ]
    },
    {
     "data": {
      "image/png": "[encoded data removed]",
      "text/plain": [
       "<Figure size 432x288 with 2 Axes>"
      ]
     },
     "metadata": {
      "needs_background": "light"
     },
     "output_type": "display_data"
    },
    {
     "name": "stdout",
     "output_type": "stream",
     "text": [
      "Test Confusion matrix\n"
     ]
    },
    {
     "data": {
      "image/png": "[encoded data removed]",
      "text/plain": [
       "<Figure size 432x288 with 2 Axes>"
      ]
     },
     "metadata": {
      "needs_background": "light"
     },
     "output_type": "display_data"
    }
   ],
   "source": [
    "clf_ = tree.DecisionTreeClassifier(random_state=0,ccp_alpha=0.0012)\n",
    "clf_.fit(Xtrain,Ytrain)\n",
    "y_train_pred = clf_.predict(Xtrain)\n",
    "y_test_pred = clf_.predict(Xtest)\n",
    "\n",
    "print(f'Train score {accuracy_score(y_train_pred,Ytrain)}')\n",
    "print(f'Test score {accuracy_score(y_test_pred,Ytest)}')\n",
    "plot_confusionmatrix(y_train_pred,Ytrain,dom='Train')\n",
    "plot_confusionmatrix(y_test_pred,Ytest,dom='Test')\n",
    "\n",
    "# بهترین آلفا انتخاب شد"
   ]
  },
  {
   "cell_type": "markdown",
   "id": "7a41d8ca",
   "metadata": {},
   "source": [
    "## DT by df6"
   ]
  },
  {
   "cell_type": "code",
   "execution_count": 124,
   "id": "7f2928cd",
   "metadata": {},
   "outputs": [
    {
     "data": {
      "text/plain": [
       "array([0, 0, 0, ..., 1, 1, 0])"
      ]
     },
     "execution_count": 124,
     "metadata": {},
     "output_type": "execute_result"
    }
   ],
   "source": [
    "Xtrain=df6.iloc[:, :-1]\n",
    "Ytrain=df6.iloc[:,-1]\n",
    "Xtest=df10.iloc[:, :-1]\n",
    "Ytest=df10.iloc[:,-1]\n",
    "\n",
    "DT = DecisionTreeClassifier()\n",
    "\n",
    "\n",
    "DT.fit(Xtrain, Ytrain)\n",
    "#روی چه دیتایی فیت بشه\n",
    "\n",
    "\n",
    "pred = DT.predict(Xtest)\n",
    "#ارزیابی داده های آزمایش جهت پیش بینی\n",
    "\n",
    "pred"
   ]
  },
  {
   "cell_type": "code",
   "execution_count": 125,
   "id": "a30b18a1",
   "metadata": {},
   "outputs": [
    {
     "data": {
      "text/plain": [
       "0.8101965601965602"
      ]
     },
     "execution_count": 125,
     "metadata": {},
     "output_type": "execute_result"
    }
   ],
   "source": [
    "(pred == Ytest).mean()\n",
    "#accuracy"
   ]
  },
  {
   "cell_type": "code",
   "execution_count": 126,
   "id": "8d5e65dc",
   "metadata": {},
   "outputs": [
    {
     "name": "stdout",
     "output_type": "stream",
     "text": [
      "0.8101965601965602 0.6227621483375959 0.6012345679012345 0.6118090452261306\n",
      "[[2151  323]\n",
      " [ 295  487]]\n",
      "              precision    recall  f1-score   support\n",
      "\n",
      "           0       0.88      0.87      0.87      2474\n",
      "           1       0.60      0.62      0.61       782\n",
      "\n",
      "    accuracy                           0.81      3256\n",
      "   macro avg       0.74      0.75      0.74      3256\n",
      "weighted avg       0.81      0.81      0.81      3256\n",
      "\n"
     ]
    }
   ],
   "source": [
    "from sklearn.metrics import accuracy_score,recall_score,precision_score, f1_score, confusion_matrix\n",
    "\n",
    "from sklearn.tree import DecisionTreeClassifier\n",
    "\n",
    "DT = DecisionTreeClassifier()\n",
    "DT.fit(Xtrain, Ytrain)\n",
    "pred = DT.predict(Xtest)\n",
    "\n",
    "\n",
    "acc = accuracy_score(Ytest, pred)\n",
    "#برای وقتی هست که داده ها متوازن باشن\n",
    "#مثل دیتاست گل ها که همگی متوازن بودن\n",
    "\n",
    "rec = recall_score(Ytest, pred)\n",
    "\n",
    "\n",
    "\n",
    "pre = precision_score(Ytest, pred)\n",
    "\n",
    "\n",
    "fm = f1_score(Ytest, pred)\n",
    "\n",
    "\n",
    "conf = confusion_matrix(Ytest, pred)\n",
    "\n",
    "print(acc, rec, pre, fm)\n",
    "print(conf)\n",
    "print(classification_report(Ytest, pred))\n",
    "#دوهزار صد پنجاه یک داده به درستی صفر تشخیص داده شده\n",
    "#چهارصد هشت هفت داده به درستی یک تشخیص داده شده\n",
    "# باقی مانده اشتباهات  هستند"
   ]
  },
  {
   "cell_type": "markdown",
   "id": "2eead952",
   "metadata": {},
   "source": [
    "# pruning and train-test graph"
   ]
  },
  {
   "cell_type": "code",
   "execution_count": 127,
   "id": "cc088bdb",
   "metadata": {},
   "outputs": [
    {
     "name": "stdout",
     "output_type": "stream",
     "text": [
      "[0.         0.00010238 0.00018614 0.0001882  0.00019744 0.00020371\n",
      " 0.00020475 0.00023359 0.0002457  0.0002457  0.0002457  0.0002457\n",
      " 0.0002457  0.0002457  0.00025594 0.00025959 0.00025988 0.00026325\n",
      " 0.00026325 0.00026357 0.00026873 0.00026873 0.00026873 0.000273\n",
      " 0.000273   0.000273   0.0002748  0.00027641 0.00027641 0.0002792\n",
      " 0.00028153 0.00028153 0.00028183 0.0002835  0.0002835  0.00028519\n",
      " 0.00028519 0.00028665 0.00028906 0.00029006 0.00029006 0.00029096\n",
      " 0.0002925  0.00029268 0.00029436 0.00029453 0.00029459 0.00029484\n",
      " 0.00029495 0.00029722 0.0003003  0.00030713 0.00030713 0.00030892\n",
      " 0.00031992 0.0003276  0.0003276  0.00033016 0.00033299 0.00034125\n",
      " 0.00034125 0.00034125 0.00035924 0.00036855 0.00036855 0.00036855\n",
      " 0.00036855 0.00036855 0.00036874 0.00037688 0.00038115 0.0003829\n",
      " 0.00038391 0.00038391 0.00038795 0.00038905 0.00039375 0.00039375\n",
      " 0.00039375 0.00039471 0.0003949  0.00039492 0.00040764 0.0004095\n",
      " 0.0004095  0.0004095  0.0004095  0.0004095  0.0004095  0.0004095\n",
      " 0.00041179 0.00041803 0.00041803 0.00042998 0.00044241 0.00044673\n",
      " 0.00046069 0.00046069 0.00046069 0.00046069 0.000468   0.000468\n",
      " 0.00047129 0.00047385 0.00048431 0.00048594 0.00048684 0.0004875\n",
      " 0.00049057 0.0004914  0.0004914  0.0004914  0.0004914  0.00050136\n",
      " 0.00050895 0.00051563 0.00051975 0.00052157 0.00052351 0.000525\n",
      " 0.0005265  0.00052748 0.00053235 0.00053491 0.00053607 0.00053747\n",
      " 0.0005394  0.00054199 0.000546   0.00054617 0.00054844 0.00055217\n",
      " 0.00055719 0.00055728 0.00055841 0.000567   0.00056845 0.00057038\n",
      " 0.0005733  0.00057586 0.00057735 0.00058294 0.00058354 0.00058618\n",
      " 0.00058647 0.00059184 0.00059231 0.00059927 0.00060805 0.0006124\n",
      " 0.00061684 0.00062681 0.00063878 0.00064265 0.00064909 0.00064962\n",
      " 0.00067148 0.00067408 0.00067441 0.00068282 0.00069681 0.0007075\n",
      " 0.00071476 0.00073579 0.00074498 0.0007623  0.00078652 0.00078799\n",
      " 0.00080672 0.000819   0.00083639 0.00084245 0.00084836 0.00086012\n",
      " 0.00087555 0.00094641 0.00096301 0.00096525 0.0009698  0.00098009\n",
      " 0.00099462 0.00100108 0.00100902 0.00102233 0.00106194 0.00107494\n",
      " 0.00108661 0.00109521 0.00112868 0.00127189 0.00127828 0.00133115\n",
      " 0.00140352 0.00150124 0.00181357 0.00225373 0.00229477 0.00261769\n",
      " 0.00268258 0.00311407 0.00443549 0.00451663 0.01074431 0.01347474\n",
      " 0.02649027 0.02750268 0.06179727]\n"
     ]
    },
    {
     "data": {
      "image/png": "[encoded data removed]",
      "text/plain": [
       "<Figure size 432x288 with 1 Axes>"
      ]
     },
     "metadata": {
      "needs_background": "light"
     },
     "output_type": "display_data"
    },
    {
     "data": {
      "image/png": "[encoded data removed]",
      "text/plain": [
       "<Figure size 432x288 with 1 Axes>"
      ]
     },
     "metadata": {
      "needs_background": "light"
     },
     "output_type": "display_data"
    }
   ],
   "source": [
    "path = DT.cost_complexity_pruning_path(Xtrain, Ytrain)\n",
    "ccp_alphas, impurities = path.ccp_alphas, path.impurities\n",
    "print(ccp_alphas)\n",
    "\n",
    "# For each alpha we will append our model to a list\n",
    "DTs = []\n",
    "for ccp_alpha in ccp_alphas:\n",
    "    DT = tree.DecisionTreeClassifier(random_state=0, ccp_alpha=ccp_alpha)\n",
    "    DT.fit(Xtrain, Ytrain)\n",
    "    DTs.append(DT)\n",
    "    \n",
    "DTs = DTs[:-1]\n",
    "ccp_alphas = ccp_alphas[:-1]\n",
    "node_counts = [DT.tree_.node_count for DT in DTs]\n",
    "depth = [DT.tree_.max_depth for DT in DTs]\n",
    "plt.scatter(ccp_alphas,node_counts)\n",
    "plt.scatter(ccp_alphas,depth)\n",
    "plt.plot(ccp_alphas,node_counts,label='no of nodes',drawstyle=\"steps-post\")\n",
    "plt.plot(ccp_alphas,depth,label='depth',drawstyle=\"steps-post\")\n",
    "plt.legend()\n",
    "plt.show()\n",
    "\n",
    "train_acc = []\n",
    "test_acc = []\n",
    "for c in DTs:\n",
    "    y_train_pred = c.predict(Xtrain)\n",
    "    y_test_pred = c.predict(Xtest)\n",
    "    train_acc.append(accuracy_score(y_train_pred,Ytrain))\n",
    "    test_acc.append(accuracy_score(y_test_pred,Ytest))\n",
    "\n",
    "plt.scatter(ccp_alphas,train_acc)\n",
    "plt.scatter(ccp_alphas,test_acc)\n",
    "plt.plot(ccp_alphas,train_acc,label='train_accuracy',drawstyle=\"steps-post\")\n",
    "plt.plot(ccp_alphas,test_acc,label='test_accuracy',drawstyle=\"steps-post\")\n",
    "plt.legend()\n",
    "plt.title('Accuracy vs alpha')\n",
    "plt.show()"
   ]
  },
  {
   "cell_type": "code",
   "execution_count": 132,
   "id": "6f9228ee",
   "metadata": {},
   "outputs": [
    {
     "name": "stdout",
     "output_type": "stream",
     "text": [
      "Train score 0.851965601965602\n",
      "Test score 0.8504299754299754\n",
      "Train Confusion matrix\n"
     ]
    },
    {
     "data": {
      "image/png": "[encoded data removed]",
      "text/plain": [
       "<Figure size 432x288 with 2 Axes>"
      ]
     },
     "metadata": {
      "needs_background": "light"
     },
     "output_type": "display_data"
    },
    {
     "name": "stdout",
     "output_type": "stream",
     "text": [
      "Test Confusion matrix\n"
     ]
    },
    {
     "data": {
      "image/png": "[encoded data removed]",
      "text/plain": [
       "<Figure size 432x288 with 2 Axes>"
      ]
     },
     "metadata": {
      "needs_background": "light"
     },
     "output_type": "display_data"
    }
   ],
   "source": [
    "clf_ = tree.DecisionTreeClassifier(random_state=0,ccp_alpha=0.003)\n",
    "clf_.fit(Xtrain,Ytrain)\n",
    "y_train_pred = clf_.predict(Xtrain)\n",
    "y_test_pred = clf_.predict(Xtest)\n",
    "\n",
    "print(f'Train score {accuracy_score(y_train_pred,Ytrain)}')\n",
    "print(f'Test score {accuracy_score(y_test_pred,Ytest)}')\n",
    "plot_confusionmatrix(y_train_pred,Ytrain,dom='Train')\n",
    "plot_confusionmatrix(y_test_pred,Ytest,dom='Test')\n",
    "\n",
    "# بهترین آلفا انتخاب شد"
   ]
  },
  {
   "cell_type": "markdown",
   "id": "ee19f736",
   "metadata": {},
   "source": [
    "## DT by df7"
   ]
  },
  {
   "cell_type": "code",
   "execution_count": 133,
   "id": "c1c37412",
   "metadata": {},
   "outputs": [
    {
     "data": {
      "text/plain": [
       "array([0, 0, 0, ..., 0, 1, 0])"
      ]
     },
     "execution_count": 133,
     "metadata": {},
     "output_type": "execute_result"
    }
   ],
   "source": [
    "Xtrain=df7.iloc[:, :-1]\n",
    "Ytrain=df7.iloc[:,-1]\n",
    "Xtest=df10.iloc[:, :-1]\n",
    "Ytest=df10.iloc[:,-1]\n",
    "\n",
    "DT = DecisionTreeClassifier()\n",
    "\n",
    "\n",
    "DT.fit(Xtrain, Ytrain)\n",
    "#روی چه دیتایی فیت بشه\n",
    "\n",
    "\n",
    "pred = DT.predict(Xtest)\n",
    "#ارزیابی داده های آزمایش جهت پیش بینی\n",
    "\n",
    "pred"
   ]
  },
  {
   "cell_type": "code",
   "execution_count": 134,
   "id": "9af42e0d",
   "metadata": {},
   "outputs": [
    {
     "data": {
      "text/plain": [
       "0.8034398034398035"
      ]
     },
     "execution_count": 134,
     "metadata": {},
     "output_type": "execute_result"
    }
   ],
   "source": [
    "(pred == Ytest).mean()\n",
    "#accuracy"
   ]
  },
  {
   "cell_type": "code",
   "execution_count": 135,
   "id": "0eadda8c",
   "metadata": {},
   "outputs": [
    {
     "name": "stdout",
     "output_type": "stream",
     "text": [
      "0.8043611793611793 0.6163682864450127 0.5885225885225885 0.6021236727045596\n",
      "[[2137  337]\n",
      " [ 300  482]]\n",
      "              precision    recall  f1-score   support\n",
      "\n",
      "           0       0.88      0.86      0.87      2474\n",
      "           1       0.59      0.62      0.60       782\n",
      "\n",
      "    accuracy                           0.80      3256\n",
      "   macro avg       0.73      0.74      0.74      3256\n",
      "weighted avg       0.81      0.80      0.81      3256\n",
      "\n"
     ]
    }
   ],
   "source": [
    "from sklearn.metrics import accuracy_score,recall_score,precision_score, f1_score, confusion_matrix\n",
    "\n",
    "from sklearn.tree import DecisionTreeClassifier\n",
    "\n",
    "DT = DecisionTreeClassifier()\n",
    "DT.fit(Xtrain, Ytrain)\n",
    "pred = DT.predict(Xtest)\n",
    "\n",
    "\n",
    "acc = accuracy_score(Ytest, pred)\n",
    "#برای وقتی هست که داده ها متوازن باشن\n",
    "#مثل دیتاست گل ها که همگی متوازن بودن\n",
    "\n",
    "rec = recall_score(Ytest, pred)\n",
    "\n",
    "\n",
    "\n",
    "pre = precision_score(Ytest, pred)\n",
    "\n",
    "\n",
    "fm = f1_score(Ytest, pred)\n",
    "\n",
    "\n",
    "conf = confusion_matrix(Ytest, pred)\n",
    "\n",
    "print(acc, rec, pre, fm)\n",
    "print(conf)\n",
    "print(classification_report(Ytest, pred))\n",
    "#دوهزار صد سی هفت داده به درستی صفر تشخیص داده شده\n",
    "#چهارصد هشتاد دو داده به درستی یک تشخیص داده شده\n",
    "# باقی مانده اشتباهات  هستند"
   ]
  },
  {
   "cell_type": "markdown",
   "id": "c5effa15",
   "metadata": {},
   "source": [
    "# pruning and train-test graph"
   ]
  },
  {
   "cell_type": "code",
   "execution_count": 136,
   "id": "095c3dab",
   "metadata": {},
   "outputs": [
    {
     "name": "stdout",
     "output_type": "stream",
     "text": [
      "[0.         0.00015228 0.0001532  0.00017916 0.00018614 0.000189\n",
      " 0.00019744 0.0002001  0.00020198 0.00020287 0.00020475 0.00023034\n",
      " 0.00023034 0.00023034 0.00023932 0.00024055 0.0002457  0.0002457\n",
      " 0.0002457  0.00025594 0.00025594 0.00025594 0.00026325 0.00026325\n",
      " 0.00026325 0.00026325 0.00026707 0.00026873 0.000273   0.000273\n",
      " 0.000273   0.00027422 0.00027641 0.00027641 0.00027714 0.0002792\n",
      " 0.00028153 0.00028153 0.00028153 0.0002835  0.00028519 0.0002855\n",
      " 0.00028585 0.00028665 0.00029214 0.00029317 0.00029377 0.00029882\n",
      " 0.00029981 0.00029993 0.00030466 0.00030713 0.00030713 0.00030713\n",
      " 0.00030713 0.00031022 0.00031307 0.00031395 0.00031477 0.00031992\n",
      " 0.0003276  0.0003276  0.0003276  0.000336   0.00033939 0.00034442\n",
      " 0.000351   0.000351   0.00035738 0.0003575  0.00035778 0.00035831\n",
      " 0.00036563 0.00036855 0.00036855 0.00037623 0.00038244 0.00039017\n",
      " 0.00039441 0.00039488 0.00040584 0.00040759 0.0004095  0.0004095\n",
      " 0.0004095  0.0004095  0.0004095  0.0004095  0.0004095  0.0004095\n",
      " 0.0004095  0.0004095  0.00043621 0.00043943 0.00044664 0.0004485\n",
      " 0.0004535  0.00045557 0.00045915 0.00045979 0.00045979 0.00046069\n",
      " 0.00046069 0.00046069 0.00046069 0.00046069 0.00046204 0.000468\n",
      " 0.00046806 0.00046909 0.00047295 0.00047507 0.00047644 0.00047997\n",
      " 0.0004914  0.0004914  0.0004914  0.00050164 0.00050625 0.00050676\n",
      " 0.00050755 0.0005103  0.00051188 0.00051396 0.00051464 0.00052438\n",
      " 0.0005255  0.0005265  0.0005265  0.0005265  0.0005265  0.00052833\n",
      " 0.00053235 0.00053257 0.0005355  0.00053707 0.00053747 0.00053747\n",
      " 0.00053974 0.00054419 0.00054947 0.00054982 0.00055283 0.00055292\n",
      " 0.00055463 0.00055941 0.00056291 0.00057502 0.0005915  0.0005949\n",
      " 0.00059618 0.0005985  0.00059972 0.00060049 0.00060075 0.00061791\n",
      " 0.00063662 0.0006552  0.00066698 0.00069135 0.00069793 0.00069945\n",
      " 0.0007371  0.00076096 0.00077642 0.00078821 0.00080287 0.00080473\n",
      " 0.00080514 0.00082723 0.00082753 0.0008775  0.00092328 0.00096547\n",
      " 0.00096924 0.00107992 0.00112048 0.00114177 0.00117406 0.00120233\n",
      " 0.00121127 0.00128993 0.00132733 0.00132879 0.00170025 0.00176172\n",
      " 0.00185528 0.0022668  0.00250198 0.00294781 0.00408288 0.00489157\n",
      " 0.01347429 0.01452485 0.01890617 0.02655647 0.05812946]\n"
     ]
    },
    {
     "data": {
      "image/png": "[encoded data removed]",
      "text/plain": [
       "<Figure size 432x288 with 1 Axes>"
      ]
     },
     "metadata": {
      "needs_background": "light"
     },
     "output_type": "display_data"
    },
    {
     "data": {
      "image/png": "[encoded data removed]",
      "text/plain": [
       "<Figure size 432x288 with 1 Axes>"
      ]
     },
     "metadata": {
      "needs_background": "light"
     },
     "output_type": "display_data"
    }
   ],
   "source": [
    "path = DT.cost_complexity_pruning_path(Xtrain, Ytrain)\n",
    "ccp_alphas, impurities = path.ccp_alphas, path.impurities\n",
    "print(ccp_alphas)\n",
    "\n",
    "# For each alpha we will append our model to a list\n",
    "DTs = []\n",
    "for ccp_alpha in ccp_alphas:\n",
    "    DT = tree.DecisionTreeClassifier(random_state=0, ccp_alpha=ccp_alpha)\n",
    "    DT.fit(Xtrain, Ytrain)\n",
    "    DTs.append(DT)\n",
    "    \n",
    "DTs = DTs[:-1]\n",
    "ccp_alphas = ccp_alphas[:-1]\n",
    "node_counts = [DT.tree_.node_count for DT in DTs]\n",
    "depth = [DT.tree_.max_depth for DT in DTs]\n",
    "plt.scatter(ccp_alphas,node_counts)\n",
    "plt.scatter(ccp_alphas,depth)\n",
    "plt.plot(ccp_alphas,node_counts,label='no of nodes',drawstyle=\"steps-post\")\n",
    "plt.plot(ccp_alphas,depth,label='depth',drawstyle=\"steps-post\")\n",
    "plt.legend()\n",
    "plt.show()\n",
    "\n",
    "train_acc = []\n",
    "test_acc = []\n",
    "for c in DTs:\n",
    "    y_train_pred = c.predict(Xtrain)\n",
    "    y_test_pred = c.predict(Xtest)\n",
    "    train_acc.append(accuracy_score(y_train_pred,Ytrain))\n",
    "    test_acc.append(accuracy_score(y_test_pred,Ytest))\n",
    "\n",
    "plt.scatter(ccp_alphas,train_acc)\n",
    "plt.scatter(ccp_alphas,test_acc)\n",
    "plt.plot(ccp_alphas,train_acc,label='train_accuracy',drawstyle=\"steps-post\")\n",
    "plt.plot(ccp_alphas,test_acc,label='test_accuracy',drawstyle=\"steps-post\")\n",
    "plt.legend()\n",
    "plt.title('Accuracy vs alpha')\n",
    "plt.show()"
   ]
  },
  {
   "cell_type": "code",
   "execution_count": 138,
   "id": "69d1e2c7",
   "metadata": {},
   "outputs": [
    {
     "name": "stdout",
     "output_type": "stream",
     "text": [
      "Train score 0.847051597051597\n",
      "Test score 0.8421375921375921\n",
      "Train Confusion matrix\n"
     ]
    },
    {
     "data": {
      "image/png": "[encoded data removed]",
      "text/plain": [
       "<Figure size 432x288 with 2 Axes>"
      ]
     },
     "metadata": {
      "needs_background": "light"
     },
     "output_type": "display_data"
    },
    {
     "name": "stdout",
     "output_type": "stream",
     "text": [
      "Test Confusion matrix\n"
     ]
    },
    {
     "data": {
      "image/png": "[encoded data removed]",
      "text/plain": [
       "<Figure size 432x288 with 2 Axes>"
      ]
     },
     "metadata": {
      "needs_background": "light"
     },
     "output_type": "display_data"
    }
   ],
   "source": [
    "clf_ = tree.DecisionTreeClassifier(random_state=0,ccp_alpha=0.005)\n",
    "clf_.fit(Xtrain,Ytrain)\n",
    "y_train_pred = clf_.predict(Xtrain)\n",
    "y_test_pred = clf_.predict(Xtest)\n",
    "\n",
    "print(f'Train score {accuracy_score(y_train_pred,Ytrain)}')\n",
    "print(f'Test score {accuracy_score(y_test_pred,Ytest)}')\n",
    "plot_confusionmatrix(y_train_pred,Ytrain,dom='Train')\n",
    "plot_confusionmatrix(y_test_pred,Ytest,dom='Test')\n",
    "\n",
    "# بهترین آلفا انتخاب شد"
   ]
  },
  {
   "cell_type": "markdown",
   "id": "09dbe9be",
   "metadata": {},
   "source": [
    "## DT by df8"
   ]
  },
  {
   "cell_type": "code",
   "execution_count": 139,
   "id": "6b89a392",
   "metadata": {},
   "outputs": [
    {
     "data": {
      "text/plain": [
       "array([0, 1, 0, ..., 0, 0, 0])"
      ]
     },
     "execution_count": 139,
     "metadata": {},
     "output_type": "execute_result"
    }
   ],
   "source": [
    "Xtrain=df8.iloc[:, :-1]\n",
    "Ytrain=df8.iloc[:,-1]\n",
    "Xtest=df10.iloc[:, :-1]\n",
    "Ytest=df10.iloc[:,-1]\n",
    "\n",
    "DT = DecisionTreeClassifier()\n",
    "\n",
    "\n",
    "DT.fit(Xtrain, Ytrain)\n",
    "#روی چه دیتایی فیت بشه\n",
    "\n",
    "\n",
    "pred = DT.predict(Xtest)\n",
    "#ارزیابی داده های آزمایش جهت پیش بینی\n",
    "\n",
    "pred"
   ]
  },
  {
   "cell_type": "code",
   "execution_count": 140,
   "id": "4284093c",
   "metadata": {},
   "outputs": [
    {
     "data": {
      "text/plain": [
       "0.7951474201474201"
      ]
     },
     "execution_count": 140,
     "metadata": {},
     "output_type": "execute_result"
    }
   ],
   "source": [
    "(pred == Ytest).mean()\n",
    "#accuracy"
   ]
  },
  {
   "cell_type": "code",
   "execution_count": 141,
   "id": "55e44573",
   "metadata": {},
   "outputs": [
    {
     "name": "stdout",
     "output_type": "stream",
     "text": [
      "0.792997542997543 0.5959079283887468 0.5655339805825242 0.5803237858032378\n",
      "[[2116  358]\n",
      " [ 316  466]]\n",
      "              precision    recall  f1-score   support\n",
      "\n",
      "           0       0.87      0.86      0.86      2474\n",
      "           1       0.57      0.60      0.58       782\n",
      "\n",
      "    accuracy                           0.79      3256\n",
      "   macro avg       0.72      0.73      0.72      3256\n",
      "weighted avg       0.80      0.79      0.79      3256\n",
      "\n"
     ]
    }
   ],
   "source": [
    "from sklearn.metrics import accuracy_score,recall_score,precision_score, f1_score, confusion_matrix\n",
    "\n",
    "from sklearn.tree import DecisionTreeClassifier\n",
    "\n",
    "DT = DecisionTreeClassifier()\n",
    "DT.fit(Xtrain, Ytrain)\n",
    "pred = DT.predict(Xtest)\n",
    "\n",
    "\n",
    "acc = accuracy_score(Ytest, pred)\n",
    "#برای وقتی هست که داده ها متوازن باشن\n",
    "#مثل دیتاست گل ها که همگی متوازن بودن\n",
    "\n",
    "rec = recall_score(Ytest, pred)\n",
    "\n",
    "\n",
    "\n",
    "pre = precision_score(Ytest, pred)\n",
    "\n",
    "\n",
    "fm = f1_score(Ytest, pred)\n",
    "\n",
    "\n",
    "conf = confusion_matrix(Ytest, pred)\n",
    "\n",
    "print(acc, rec, pre, fm)\n",
    "print(conf)\n",
    "print(classification_report(Ytest, pred))\n",
    "#دوهزار صد شانزده داده به درستی صفر تشخیص داده شده\n",
    "#چهارصد شصت شش داده به درستی یک تشخیص داده شده\n",
    "# باقی مانده اشتباهات  هستند"
   ]
  },
  {
   "cell_type": "markdown",
   "id": "50373c3c",
   "metadata": {},
   "source": [
    "# pruning and train-test graph"
   ]
  },
  {
   "cell_type": "code",
   "execution_count": 142,
   "id": "6a0de570",
   "metadata": {},
   "outputs": [
    {
     "name": "stdout",
     "output_type": "stream",
     "text": [
      "[0.         0.00015049 0.00019397 0.00019835 0.00020206 0.00020475\n",
      " 0.00020475 0.00020805 0.00021499 0.00022714 0.0002451  0.0002457\n",
      " 0.0002457  0.0002457  0.00025594 0.00025594 0.00025594 0.00025594\n",
      " 0.00026278 0.00026325 0.00026325 0.00026325 0.00026873 0.00026873\n",
      " 0.00026873 0.000273   0.000273   0.0002748  0.00027641 0.00027641\n",
      " 0.00028153 0.00028153 0.00028153 0.00028153 0.0002835  0.00028906\n",
      " 0.00029006 0.00029034 0.0002925  0.00029377 0.00029635 0.00029696\n",
      " 0.00029722 0.00029782 0.0003018  0.00030233 0.00030338 0.00030713\n",
      " 0.00030713 0.00030713 0.00030713 0.00030713 0.00030784 0.00031281\n",
      " 0.0003148  0.00032402 0.00033784 0.00034125 0.00034326 0.00035065\n",
      " 0.00035615 0.00036563 0.00036855 0.00036855 0.00036855 0.00037004\n",
      " 0.00038391 0.00038457 0.00039488 0.00039488 0.00039833 0.000402\n",
      " 0.00040341 0.00040684 0.0004095  0.0004095  0.0004095  0.0004095\n",
      " 0.0004095  0.0004095  0.0004095  0.0004095  0.0004095  0.00041001\n",
      " 0.00041175 0.00041496 0.00042237 0.0004305  0.00043098 0.0004372\n",
      " 0.00044207 0.00044429 0.00044461 0.00044673 0.00046069 0.00046069\n",
      " 0.00046069 0.00046069 0.0004725  0.00047644 0.00047644 0.00048526\n",
      " 0.00048821 0.0004914  0.0004914  0.0004914  0.0004914  0.0004914\n",
      " 0.00049605 0.00049605 0.00050071 0.00050229 0.00050232 0.00050656\n",
      " 0.00050676 0.00050781 0.00051188 0.00051188 0.00051188 0.00051188\n",
      " 0.00051275 0.00051669 0.00052014 0.00052373 0.00052434 0.00053416\n",
      " 0.00053607 0.00053747 0.00054014 0.00055283 0.00055614 0.00055841\n",
      " 0.0005606  0.00056737 0.0005733  0.00057812 0.00058616 0.00059283\n",
      " 0.00060556 0.0006313  0.00063191 0.00063984 0.00063984 0.00064398\n",
      " 0.00064496 0.00065828 0.00066435 0.00066544 0.00066775 0.00066858\n",
      " 0.00067951 0.00068749 0.00071663 0.00072731 0.00072768 0.00073736\n",
      " 0.00076559 0.00077501 0.00081474 0.00083184 0.00084126 0.00084298\n",
      " 0.00088501 0.00088516 0.0009632  0.00096353 0.00097367 0.00098286\n",
      " 0.00098616 0.0009974  0.00102044 0.00102301 0.00106079 0.00107771\n",
      " 0.00110565 0.00111728 0.00130464 0.00131396 0.00136317 0.0013822\n",
      " 0.00187074 0.00192066 0.00196579 0.00218102 0.00248458 0.0026806\n",
      " 0.00319936 0.00332953 0.00360153 0.00393978 0.00424142 0.01179877\n",
      " 0.01527245 0.01645792 0.02525481 0.06150353]\n"
     ]
    },
    {
     "data": {
      "image/png": "[encoded data removed]",
      "text/plain": [
       "<Figure size 432x288 with 1 Axes>"
      ]
     },
     "metadata": {
      "needs_background": "light"
     },
     "output_type": "display_data"
    },
    {
     "data": {
      "image/png": "[encoded data removed]",
      "text/plain": [
       "<Figure size 432x288 with 1 Axes>"
      ]
     },
     "metadata": {
      "needs_background": "light"
     },
     "output_type": "display_data"
    }
   ],
   "source": [
    "path = DT.cost_complexity_pruning_path(Xtrain, Ytrain)\n",
    "ccp_alphas, impurities = path.ccp_alphas, path.impurities\n",
    "print(ccp_alphas)\n",
    "\n",
    "# For each alpha we will append our model to a list\n",
    "DTs = []\n",
    "for ccp_alpha in ccp_alphas:\n",
    "    DT = tree.DecisionTreeClassifier(random_state=0, ccp_alpha=ccp_alpha)\n",
    "    DT.fit(Xtrain, Ytrain)\n",
    "    DTs.append(DT)\n",
    "    \n",
    "DTs = DTs[:-1]\n",
    "ccp_alphas = ccp_alphas[:-1]\n",
    "node_counts = [DT.tree_.node_count for DT in DTs]\n",
    "depth = [DT.tree_.max_depth for DT in DTs]\n",
    "plt.scatter(ccp_alphas,node_counts)\n",
    "plt.scatter(ccp_alphas,depth)\n",
    "plt.plot(ccp_alphas,node_counts,label='no of nodes',drawstyle=\"steps-post\")\n",
    "plt.plot(ccp_alphas,depth,label='depth',drawstyle=\"steps-post\")\n",
    "plt.legend()\n",
    "plt.show()\n",
    "\n",
    "train_acc = []\n",
    "test_acc = []\n",
    "for c in DTs:\n",
    "    y_train_pred = c.predict(Xtrain)\n",
    "    y_test_pred = c.predict(Xtest)\n",
    "    train_acc.append(accuracy_score(y_train_pred,Ytrain))\n",
    "    test_acc.append(accuracy_score(y_test_pred,Ytest))\n",
    "\n",
    "plt.scatter(ccp_alphas,train_acc)\n",
    "plt.scatter(ccp_alphas,test_acc)\n",
    "plt.plot(ccp_alphas,train_acc,label='train_accuracy',drawstyle=\"steps-post\")\n",
    "plt.plot(ccp_alphas,test_acc,label='test_accuracy',drawstyle=\"steps-post\")\n",
    "plt.legend()\n",
    "plt.title('Accuracy vs alpha')\n",
    "plt.show()"
   ]
  },
  {
   "cell_type": "code",
   "execution_count": 146,
   "id": "d8d6ab1a",
   "metadata": {},
   "outputs": [
    {
     "name": "stdout",
     "output_type": "stream",
     "text": [
      "Train score 0.8578009828009828\n",
      "Test score 0.8522727272727273\n",
      "Train Confusion matrix\n"
     ]
    },
    {
     "data": {
      "image/png": "[encoded data removed]",
      "text/plain": [
       "<Figure size 432x288 with 2 Axes>"
      ]
     },
     "metadata": {
      "needs_background": "light"
     },
     "output_type": "display_data"
    },
    {
     "name": "stdout",
     "output_type": "stream",
     "text": [
      "Test Confusion matrix\n"
     ]
    },
    {
     "data": {
      "image/png": "[encoded data removed]",
      "text/plain": [
       "<Figure size 432x288 with 2 Axes>"
      ]
     },
     "metadata": {
      "needs_background": "light"
     },
     "output_type": "display_data"
    }
   ],
   "source": [
    "clf_ = tree.DecisionTreeClassifier(random_state=0,ccp_alpha=0.0015)\n",
    "clf_.fit(Xtrain,Ytrain)\n",
    "y_train_pred = clf_.predict(Xtrain)\n",
    "y_test_pred = clf_.predict(Xtest)\n",
    "\n",
    "print(f'Train score {accuracy_score(y_train_pred,Ytrain)}')\n",
    "print(f'Test score {accuracy_score(y_test_pred,Ytest)}')\n",
    "plot_confusionmatrix(y_train_pred,Ytrain,dom='Train')\n",
    "plot_confusionmatrix(y_test_pred,Ytest,dom='Test')\n",
    "\n",
    "# بهترین آلفا انتخاب شد"
   ]
  },
  {
   "cell_type": "markdown",
   "id": "2ca8b5f3",
   "metadata": {},
   "source": [
    "## DT bt df9"
   ]
  },
  {
   "cell_type": "code",
   "execution_count": 147,
   "id": "1dc7eb5b",
   "metadata": {},
   "outputs": [
    {
     "data": {
      "text/plain": [
       "array([0, 0, 0, ..., 1, 1, 0])"
      ]
     },
     "execution_count": 147,
     "metadata": {},
     "output_type": "execute_result"
    }
   ],
   "source": [
    "Xtrain=df9.iloc[:, :-1]\n",
    "Ytrain=df9.iloc[:,-1]\n",
    "Xtest=df10.iloc[:, :-1]\n",
    "Ytest=df10.iloc[:,-1]\n",
    "\n",
    "DT = DecisionTreeClassifier()\n",
    "\n",
    "\n",
    "DT.fit(Xtrain, Ytrain)\n",
    "#روی چه دیتایی فیت بشه\n",
    "\n",
    "\n",
    "pred = DT.predict(Xtest)\n",
    "#ارزیابی داده های آزمایش جهت پیش بینی\n",
    "\n",
    "pred"
   ]
  },
  {
   "cell_type": "code",
   "execution_count": 148,
   "id": "e5039386",
   "metadata": {},
   "outputs": [
    {
     "data": {
      "text/plain": [
       "0.8098894348894349"
      ]
     },
     "execution_count": 148,
     "metadata": {},
     "output_type": "execute_result"
    }
   ],
   "source": [
    "(pred == Ytest).mean()\n",
    "#accuracy"
   ]
  },
  {
   "cell_type": "code",
   "execution_count": 149,
   "id": "3c0bd810",
   "metadata": {},
   "outputs": [
    {
     "name": "stdout",
     "output_type": "stream",
     "text": [
      "0.8151105651105651 0.6329923273657289 0.6111111111111112 0.621859296482412\n",
      "[[2159  315]\n",
      " [ 287  495]]\n",
      "              precision    recall  f1-score   support\n",
      "\n",
      "           0       0.88      0.87      0.88      2474\n",
      "           1       0.61      0.63      0.62       782\n",
      "\n",
      "    accuracy                           0.82      3256\n",
      "   macro avg       0.75      0.75      0.75      3256\n",
      "weighted avg       0.82      0.82      0.82      3256\n",
      "\n"
     ]
    }
   ],
   "source": [
    "from sklearn.metrics import accuracy_score,recall_score,precision_score, f1_score, confusion_matrix\n",
    "\n",
    "from sklearn.tree import DecisionTreeClassifier\n",
    "\n",
    "DT = DecisionTreeClassifier()\n",
    "DT.fit(Xtrain, Ytrain)\n",
    "pred = DT.predict(Xtest)\n",
    "\n",
    "\n",
    "acc = accuracy_score(Ytest, pred)\n",
    "#برای وقتی هست که داده ها متوازن باشن\n",
    "#مثل دیتاست گل ها که همگی متوازن بودن\n",
    "\n",
    "rec = recall_score(Ytest, pred)\n",
    "\n",
    "\n",
    "\n",
    "pre = precision_score(Ytest, pred)\n",
    "\n",
    "\n",
    "fm = f1_score(Ytest, pred)\n",
    "\n",
    "\n",
    "conf = confusion_matrix(Ytest, pred)\n",
    "\n",
    "print(acc, rec, pre, fm)\n",
    "print(conf)\n",
    "print(classification_report(Ytest, pred))\n",
    "#دوهزار صد پنجاه نه داده به درستی صفر تشخیص داده شده\n",
    "#چهارصد نود پنج داده به درستی یک تشخیص داده شده\n",
    "# باقی مانده اشتباهات  هستند"
   ]
  },
  {
   "cell_type": "markdown",
   "id": "d95ee10e",
   "metadata": {},
   "source": [
    "# pruning and train-test graph"
   ]
  },
  {
   "cell_type": "code",
   "execution_count": 151,
   "id": "8e0859d1",
   "metadata": {},
   "outputs": [
    {
     "name": "stdout",
     "output_type": "stream",
     "text": [
      "[0.         0.00017446 0.0001755  0.00018769 0.00019451 0.00020066\n",
      " 0.00020116 0.00020357 0.00020475 0.00020475 0.00023034 0.00023034\n",
      " 0.00023034 0.00023888 0.00024497 0.0002457  0.0002512  0.00025594\n",
      " 0.00026325 0.00026325 0.00026325 0.00026325 0.00026325 0.00026325\n",
      " 0.00026325 0.00026325 0.00026618 0.00026873 0.00026873 0.0002691\n",
      " 0.000273   0.000273   0.00027641 0.00027641 0.00027641 0.00027641\n",
      " 0.00027788 0.0002792  0.00028153 0.00028153 0.0002835  0.0002835\n",
      " 0.00028519 0.00028793 0.00028894 0.00028906 0.00029006 0.00029006\n",
      " 0.00029138 0.00029169 0.00029484 0.00029666 0.00029774 0.00029782\n",
      " 0.00029945 0.00029945 0.00029981 0.00030668 0.00030713 0.00030713\n",
      " 0.00030713 0.00031161 0.00031598 0.0003185  0.00032175 0.00032288\n",
      " 0.00033016 0.00033439 0.00034076 0.00034176 0.000351   0.000351\n",
      " 0.00035393 0.0003549  0.0003549  0.00035831 0.00036643 0.00036855\n",
      " 0.00036855 0.00036914 0.00037972 0.00038171 0.00038171 0.00038391\n",
      " 0.00038391 0.00038955 0.00039287 0.00039488 0.00039488 0.00039488\n",
      " 0.0004006  0.00040436 0.0004095  0.0004095  0.0004095  0.0004095\n",
      " 0.0004095  0.0004095  0.0004095  0.00041036 0.00041078 0.00041381\n",
      " 0.00041442 0.00041457 0.00041803 0.00041881 0.00042154 0.00043253\n",
      " 0.00044511 0.0004461  0.00045231 0.000455   0.00046069 0.00046069\n",
      " 0.00046069 0.00046069 0.00046101 0.00047644 0.00047728 0.000486\n",
      " 0.00048649 0.00048955 0.0004914  0.0004914  0.0004914  0.0004914\n",
      " 0.0004914  0.0004914  0.0004914  0.0004919  0.00049481 0.00049481\n",
      " 0.00049865 0.00050667 0.00050923 0.00051188 0.00051919 0.0005216\n",
      " 0.0005265  0.0005265  0.00052681 0.00053156 0.00053498 0.00053747\n",
      " 0.00054477 0.000546   0.0005491  0.00055283 0.00055283 0.00055443\n",
      " 0.0005606  0.00056102 0.00056459 0.00057038 0.00057586 0.00057812\n",
      " 0.00057872 0.00058866 0.00059    0.00060805 0.00062193 0.00064784\n",
      " 0.00067459 0.00067589 0.00068608 0.00068796 0.00070086 0.00070525\n",
      " 0.00071098 0.00071382 0.00076545 0.0007735  0.00077539 0.00077566\n",
      " 0.0007913  0.00081418 0.00082211 0.00082924 0.00083752 0.00084247\n",
      " 0.00084345 0.00084858 0.00086507 0.00086955 0.00087787 0.00087994\n",
      " 0.0009477  0.00095754 0.00103289 0.00103765 0.00117845 0.00119963\n",
      " 0.00121474 0.00124313 0.00126681 0.00127329 0.00128468 0.00133209\n",
      " 0.0014783  0.0015538  0.00173863 0.0017436  0.001853   0.00193032\n",
      " 0.00209874 0.00268145 0.00338634 0.00496265 0.00517931 0.0056145\n",
      " 0.00574389 0.01031645 0.01415277 0.01935794 0.02327777 0.06001687]\n"
     ]
    },
    {
     "data": {
      "image/png": "[encoded data removed]",
      "text/plain": [
       "<Figure size 432x288 with 1 Axes>"
      ]
     },
     "metadata": {
      "needs_background": "light"
     },
     "output_type": "display_data"
    },
    {
     "data": {
      "image/png": "[encoded data removed]",
      "text/plain": [
       "<Figure size 432x288 with 1 Axes>"
      ]
     },
     "metadata": {
      "needs_background": "light"
     },
     "output_type": "display_data"
    }
   ],
   "source": [
    "path = DT.cost_complexity_pruning_path(Xtrain, Ytrain)\n",
    "ccp_alphas, impurities = path.ccp_alphas, path.impurities\n",
    "print(ccp_alphas)\n",
    "\n",
    "# For each alpha we will append our model to a list\n",
    "DTs = []\n",
    "for ccp_alpha in ccp_alphas:\n",
    "    DT = tree.DecisionTreeClassifier(random_state=0, ccp_alpha=ccp_alpha)\n",
    "    DT.fit(Xtrain, Ytrain)\n",
    "    DTs.append(DT)\n",
    "    \n",
    "DTs = DTs[:-1]\n",
    "ccp_alphas = ccp_alphas[:-1]\n",
    "node_counts = [DT.tree_.node_count for DT in DTs]\n",
    "depth = [DT.tree_.max_depth for DT in DTs]\n",
    "plt.scatter(ccp_alphas,node_counts)\n",
    "plt.scatter(ccp_alphas,depth)\n",
    "plt.plot(ccp_alphas,node_counts,label='no of nodes',drawstyle=\"steps-post\")\n",
    "plt.plot(ccp_alphas,depth,label='depth',drawstyle=\"steps-post\")\n",
    "plt.legend()\n",
    "plt.show()\n",
    "\n",
    "train_acc = []\n",
    "test_acc = []\n",
    "for c in DTs:\n",
    "    y_train_pred = c.predict(Xtrain)\n",
    "    y_test_pred = c.predict(Xtest)\n",
    "    train_acc.append(accuracy_score(y_train_pred,Ytrain))\n",
    "    test_acc.append(accuracy_score(y_test_pred,Ytest))\n",
    "\n",
    "plt.scatter(ccp_alphas,train_acc)\n",
    "plt.scatter(ccp_alphas,test_acc)\n",
    "plt.plot(ccp_alphas,train_acc,label='train_accuracy',drawstyle=\"steps-post\")\n",
    "plt.plot(ccp_alphas,test_acc,label='test_accuracy',drawstyle=\"steps-post\")\n",
    "plt.legend()\n",
    "plt.title('Accuracy vs alpha')\n",
    "plt.show()"
   ]
  },
  {
   "cell_type": "code",
   "execution_count": 153,
   "id": "6c1ddc19",
   "metadata": {},
   "outputs": [
    {
     "name": "stdout",
     "output_type": "stream",
     "text": [
      "Train score 0.8427518427518428\n",
      "Test score 0.8504299754299754\n",
      "Train Confusion matrix\n"
     ]
    },
    {
     "data": {
      "image/png": "[encoded data removed]",
      "text/plain": [
       "<Figure size 432x288 with 2 Axes>"
      ]
     },
     "metadata": {
      "needs_background": "light"
     },
     "output_type": "display_data"
    },
    {
     "name": "stdout",
     "output_type": "stream",
     "text": [
      "Test Confusion matrix\n"
     ]
    },
    {
     "data": {
      "image/png": "[encoded data removed]",
      "text/plain": [
       "<Figure size 432x288 with 2 Axes>"
      ]
     },
     "metadata": {
      "needs_background": "light"
     },
     "output_type": "display_data"
    }
   ],
   "source": [
    "clf_ = tree.DecisionTreeClassifier(random_state=0,ccp_alpha=0.002)\n",
    "clf_.fit(Xtrain,Ytrain)\n",
    "y_train_pred = clf_.predict(Xtrain)\n",
    "y_test_pred = clf_.predict(Xtest)\n",
    "\n",
    "print(f'Train score {accuracy_score(y_train_pred,Ytrain)}')\n",
    "print(f'Test score {accuracy_score(y_test_pred,Ytest)}')\n",
    "plot_confusionmatrix(y_train_pred,Ytrain,dom='Train')\n",
    "plot_confusionmatrix(y_test_pred,Ytest,dom='Test')\n",
    "\n",
    "# بهترین آلفا انتخاب شد"
   ]
  },
  {
   "cell_type": "code",
   "execution_count": null,
   "id": "feec94c8",
   "metadata": {},
   "outputs": [],
   "source": []
  }
 ],
 "metadata": {
  "kernelspec": {
   "display_name": "Python 3 (ipykernel)",
   "language": "python",
   "name": "python3"
  },
  "language_info": {
   "codemirror_mode": {
    "name": "ipython",
    "version": 3
   },
   "file_extension": ".py",
   "mimetype": "text/x-python",
   "name": "python",
   "nbconvert_exporter": "python",
   "pygments_lexer": "ipython3",
   "version": "3.7.3"
  }
 },
 "nbformat": 4,
 "nbformat_minor": 5
}
